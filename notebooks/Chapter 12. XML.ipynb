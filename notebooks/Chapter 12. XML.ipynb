{
 "cells": [
  {
   "cell_type": "markdown",
   "metadata": {},
   "source": [
    "##### Diving In\n",
    "\n",
    "This chapter is unlike any other chapter in the book, in that it focusses all its attention on a XML processing library in python. Specifically it utilizes the standard library ElementTree API and the compatible API supported by lxml.\n",
    "\n",
    "\n",
    "Due to the nature of the chapter, this notebook is essentially examples of utilizing the API"
   ]
  },
  {
   "cell_type": "markdown",
   "metadata": {},
   "source": [
    "`XML` isn't about code it is about data. One common use of `XML` is \"syndication feeds\" that list the latest articles on a blog, forum or other frequently updated website.\n",
    "\n",
    "Most popular blogging software can produce a feed and update it whenever new articles, discussion threads or blog posts are published.\n",
    "\n",
    "Lets take a look a the xml data we'll be working with"
   ]
  },
  {
   "cell_type": "code",
   "execution_count": 4,
   "metadata": {},
   "outputs": [
    {
     "name": "stdout",
     "output_type": "stream",
     "text": [
      "<?xml version='1.0' encoding='utf-8'?>\n",
      "<feed xmlns='http://www.w3.org/2005/Atom' xml:lang='en'>\n",
      "  <title>dive into mark</title>\n",
      "  <subtitle>currently between addictions</subtitle>\n",
      "  <id>tag:diveintomark.org,2001-07-29:/</id>\n",
      "  <updated>2009-03-27T21:56:07Z</updated>\n",
      "  <link rel='alternate' type='text/html' href='http://diveintomark.org/'/>\n",
      "  <entry>\n",
      "    <author>\n",
      "      <name>Mark</name>\n",
      "      <uri>http://diveintomark.org/</uri>\n",
      "    </author>\n",
      "    <title>Dive into history, 2009 edition</title>\n",
      "    <link rel='alternate' type='text/html'\n",
      "      href='http://diveintomark.org/archives/2009/03/27/dive-into-history-2009-edition'/>\n",
      "    <id>tag:diveintomark.org,2009-03-27:/archives/20090327172042</id>\n",
      "    <updated>2009-03-27T21:56:07Z</updated>\n",
      "    <published>2009-03-27T17:20:42Z</published>\n",
      "    <category scheme='http://diveintomark.org' term='diveintopython'/>\n",
      "    <category scheme='http://diveintomark.org' term='docbook'/>\n",
      "    <category scheme='http://diveintomark.org' term='html'/>\n",
      "    <summary type='html'>Putting an entire chapter on one page sounds\n",
      "      bloated, but consider this &amp;mdash; my longest chapter so far\n",
      "      would be 75 printed pages, and it loads in under 5 seconds&amp;hellip;\n",
      "      On dialup.</summary>\n",
      "  </entry>\n",
      "  <entry>\n",
      "    <author>\n",
      "      <name>Mark</name>\n",
      "      <uri>http://diveintomark.org/</uri>\n",
      "    </author>\n",
      "    <title>Accessibility is a harsh mistress</title>\n",
      "    <link rel='alternate' type='text/html'\n",
      "      href='http://diveintomark.org/archives/2009/03/21/accessibility-is-a-harsh-mistress'/>\n",
      "    <id>tag:diveintomark.org,2009-03-21:/archives/20090321200928</id>\n",
      "    <updated>2009-03-22T01:05:37Z</updated>\n",
      "    <published>2009-03-21T20:09:28Z</published>\n",
      "    <category scheme='http://diveintomark.org' term='accessibility'/>\n",
      "    <summary type='html'>The accessibility orthodoxy does not permit people to\n",
      "      question the value of features that are rarely useful and rarely used.</summary>\n",
      "  </entry>\n",
      "  <entry>\n",
      "    <author>\n",
      "      <name>Mark</name>\n",
      "    </author>\n",
      "    <title>A gentle introduction to video encoding, part 1: container formats</title>\n",
      "    <link rel='alternate' type='text/html'\n",
      "      href='http://diveintomark.org/archives/2008/12/18/give-part-1-container-formats'/>\n",
      "    <id>tag:diveintomark.org,2008-12-18:/archives/20081218155422</id>\n",
      "    <updated>2009-01-11T19:39:22Z</updated>\n",
      "    <published>2008-12-18T15:54:22Z</published>\n",
      "    <category scheme='http://diveintomark.org' term='asf'/>\n",
      "    <category scheme='http://diveintomark.org' term='avi'/>\n",
      "    <category scheme='http://diveintomark.org' term='encoding'/>\n",
      "    <category scheme='http://diveintomark.org' term='flv'/>\n",
      "    <category scheme='http://diveintomark.org' term='GIVE'/>\n",
      "    <category scheme='http://diveintomark.org' term='mp4'/>\n",
      "    <category scheme='http://diveintomark.org' term='ogg'/>\n",
      "    <category scheme='http://diveintomark.org' term='video'/>\n",
      "    <summary type='html'>These notes will eventually become part of a\n",
      "      tech talk on video encoding.</summary>\n",
      "  </entry>\n",
      "</feed>\n",
      "\n"
     ]
    }
   ],
   "source": [
    "s = \"\"\n",
    "with open('examples/feed.xml') as xml_file:\n",
    "    for line in xml_file:\n",
    "        s += line\n",
    "    \n",
    "print(s)"
   ]
  },
  {
   "cell_type": "markdown",
   "metadata": {},
   "source": [
    "##### Crash course in XML\n",
    "\n",
    "XML is heirarchical structure data. A document has a single root element. Each element is defined within a namespace. A XML document may specify a default namespace.\n",
    "\n",
    "Elements can be nested to any depth. Elements can have zero or more attributes. The attributes of elements are _unordered_ name value pairs.\n",
    "\n",
    "Elements can contain text in addition to children. Elements that contain no text and no children are empty.\n",
    "\n",
    "XML documents specify an \"encoding\". The details of how the parser is able to interpret the document header to determine the encoding while having not encountered it year, is a specification detail I've not looked up.\n",
    "\n",
    "\n",
    "Lets look at our document and limit it to only one entry in the blog\n",
    "\n",
    "```xml\n",
    "<?xml version='1.0' encoding='utf-8'?>\n",
    "<feed xmlns='http://www.w3.org/2005/Atom' xml:lang='en'>\n",
    "  <title>dive into mark</title>\n",
    "  <subtitle>currently between addictions</subtitle>\n",
    "  <id>tag:diveintomark.org,2001-07-29:/</id>\n",
    "  <updated>2009-03-27T21:56:07Z</updated>\n",
    "  <link rel='alternate' type='text/html' href='http://diveintomark.org/'/>\n",
    "  <entry>\n",
    "    <author>\n",
    "      <name>Mark</name>\n",
    "      <uri>http://diveintomark.org/</uri>\n",
    "    </author>\n",
    "    <title>Dive into history, 2009 edition</title>\n",
    "    <link rel='alternate' type='text/html'\n",
    "      href='http://diveintomark.org/archives/2009/03/27/dive-into-history-2009-edition'/>\n",
    "    <id>tag:diveintomark.org,2009-03-27:/archives/20090327172042</id>\n",
    "    <updated>2009-03-27T21:56:07Z</updated>\n",
    "    <published>2009-03-27T17:20:42Z</published>\n",
    "    <category scheme='http://diveintomark.org' term='diveintopython'/>\n",
    "    <category scheme='http://diveintomark.org' term='docbook'/>\n",
    "    <category scheme='http://diveintomark.org' term='html'/>\n",
    "    <summary type='html'>Putting an entire chapter on one page sounds\n",
    "      bloated, but consider this &amp;mdash; my longest chapter so far\n",
    "      would be 75 printed pages, and it loads in under 5 seconds&amp;hellip;\n",
    "      On dialup.</summary>\n",
    "  </entry>\n",
    "</feed>\n",
    "```\n",
    "\n",
    "The header of the xml document specifies an encoding `utf-8`. The root node of the document `feed` specifies a default `namespace` for all elements in the document, this namespace is the `Atom` syndication format namespace - `xmlns='http://www.w3.org/2005/Atom'`\n",
    "\n",
    "The `lang` attribute of the `feed` element lives under the `xml` namespace and specifies the language `en` of the document.\n",
    "\n",
    "The `feed` element has children elements of names `title`, `subtitle`, `id`, `updated`, `link` and `entry`. The `entry` element itself contains a list of subelements in this case `author`, `title` `link`, `id`, `updated`, `published`, `category` and `summary`.\n",
    "\n",
    "Elements may occur multiple times at the same level as in the case of `category` above. The exact meaning and interpretation of the elements named here can be understood by following the atom [specification](https://tools.ietf.org/html/rfc428])\n",
    "\n",
    "Lets get parsing."
   ]
  },
  {
   "cell_type": "markdown",
   "metadata": {},
   "source": [
    "##### Parsing XML\n",
    "\n",
    "Python can parse XML document in several ways. It has the traditional `DOM` and `SAX` parsers, but we focus on a the ElementTree api"
   ]
  },
  {
   "cell_type": "code",
   "execution_count": 6,
   "metadata": {},
   "outputs": [
    {
     "data": {
      "text/plain": [
       "<Element '{http://www.w3.org/2005/Atom}feed' at 0x10c742e00>"
      ]
     },
     "execution_count": 6,
     "metadata": {},
     "output_type": "execute_result"
    }
   ],
   "source": [
    "import xml.etree.ElementTree as etree\n",
    "tree = etree.parse('examples/feed.xml')\n",
    "root = tree.getroot()\n",
    "root"
   ]
  },
  {
   "cell_type": "code",
   "execution_count": 9,
   "metadata": {},
   "outputs": [
    {
     "data": {
      "text/plain": [
       "{'{http://www.w3.org/XML/1998/namespace}lang': 'en'}"
      ]
     },
     "execution_count": 9,
     "metadata": {},
     "output_type": "execute_result"
    }
   ],
   "source": [
    "root.attrib"
   ]
  },
  {
   "cell_type": "markdown",
   "metadata": {},
   "source": [
    "The root element is the `feed` element in the namespace `http://www.w3.org/2005/Atom`. It has a single attribute `lang` in the namespace `http://www.w3.org/XML/1998/namespace` with value `en`\n",
    "\n",
    "`ElementTree` represents `XML` elements as `{namespace}localname`.\n",
    "\n",
    "\n",
    "    ##### Elements are lists"
   ]
  },
  {
   "cell_type": "code",
   "execution_count": 11,
   "metadata": {},
   "outputs": [
    {
     "name": "stdout",
     "output_type": "stream",
     "text": [
      "{http://www.w3.org/2005/Atom}feed\n",
      "8\n"
     ]
    }
   ],
   "source": [
    "print(root.tag)\n",
    "print(len(root))"
   ]
  },
  {
   "cell_type": "code",
   "execution_count": 12,
   "metadata": {},
   "outputs": [
    {
     "name": "stdout",
     "output_type": "stream",
     "text": [
      "<Element '{http://www.w3.org/2005/Atom}title' at 0x10c74e950>\n",
      "<Element '{http://www.w3.org/2005/Atom}subtitle' at 0x10c5e3e00>\n",
      "<Element '{http://www.w3.org/2005/Atom}id' at 0x10c6b66d0>\n",
      "<Element '{http://www.w3.org/2005/Atom}updated' at 0x10c6ba860>\n",
      "<Element '{http://www.w3.org/2005/Atom}link' at 0x10c6ba4a0>\n",
      "<Element '{http://www.w3.org/2005/Atom}entry' at 0x10c6bad60>\n",
      "<Element '{http://www.w3.org/2005/Atom}entry' at 0x10c7d8680>\n",
      "<Element '{http://www.w3.org/2005/Atom}entry' at 0x10c7d8b80>\n"
     ]
    }
   ],
   "source": [
    "for child in root:\n",
    "    print(child)"
   ]
  },
  {
   "cell_type": "markdown",
   "metadata": {},
   "source": [
    "The list of children only includes _direct_ children.\n",
    "\n",
    "##### Attributes are dictionaries"
   ]
  },
  {
   "cell_type": "code",
   "execution_count": 13,
   "metadata": {},
   "outputs": [
    {
     "name": "stdout",
     "output_type": "stream",
     "text": [
      "{'{http://www.w3.org/XML/1998/namespace}lang': 'en'}\n"
     ]
    }
   ],
   "source": [
    "print(root.attrib)"
   ]
  },
  {
   "cell_type": "code",
   "execution_count": 19,
   "metadata": {},
   "outputs": [
    {
     "data": {
      "text/plain": [
       "<Element '{http://www.w3.org/2005/Atom}link' at 0x10c6ba4a0>"
      ]
     },
     "execution_count": 19,
     "metadata": {},
     "output_type": "execute_result"
    }
   ],
   "source": [
    "root[4]"
   ]
  },
  {
   "cell_type": "code",
   "execution_count": 15,
   "metadata": {},
   "outputs": [
    {
     "data": {
      "text/plain": [
       "'{http://www.w3.org/2005/Atom}link'"
      ]
     },
     "execution_count": 15,
     "metadata": {},
     "output_type": "execute_result"
    }
   ],
   "source": [
    "root[4].tag"
   ]
  },
  {
   "cell_type": "code",
   "execution_count": 20,
   "metadata": {},
   "outputs": [
    {
     "data": {
      "text/plain": [
       "{'rel': 'alternate', 'type': 'text/html', 'href': 'http://diveintomark.org/'}"
      ]
     },
     "execution_count": 20,
     "metadata": {},
     "output_type": "execute_result"
    }
   ],
   "source": [
    "root[4].attrib"
   ]
  },
  {
   "cell_type": "markdown",
   "metadata": {},
   "source": [
    "##### Searching for nodes within an XML document\n",
    "\n",
    "So far we've worked with this XML document \"from the top down\", starting with the root element, getting its child elements and so on throughtout the document. But many uses of XML require you to find specific elements. Etree can do that too."
   ]
  },
  {
   "cell_type": "code",
   "execution_count": 26,
   "metadata": {},
   "outputs": [
    {
     "data": {
      "text/plain": [
       "[<Element '{http://www.w3.org/2005/Atom}entry' at 0x1108185e0>,\n",
       " <Element '{http://www.w3.org/2005/Atom}entry' at 0x110805bd0>,\n",
       " <Element '{http://www.w3.org/2005/Atom}entry' at 0x1108249f0>]"
      ]
     },
     "execution_count": 26,
     "metadata": {},
     "output_type": "execute_result"
    }
   ],
   "source": [
    "import xml.etree.ElementTree as etree\n",
    "\n",
    "tree = etree.parse('examples/feed.xml')\n",
    "root = tree.getroot()\n",
    "root.findall('{http://www.w3.org/2005/Atom}entry')"
   ]
  },
  {
   "cell_type": "code",
   "execution_count": 27,
   "metadata": {},
   "outputs": [
    {
     "data": {
      "text/plain": [
       "[]"
      ]
     },
     "execution_count": 27,
     "metadata": {},
     "output_type": "execute_result"
    }
   ],
   "source": [
    "root.findall('{http://www.w3.org/2005/Atom}feed')"
   ]
  },
  {
   "cell_type": "code",
   "execution_count": 28,
   "metadata": {},
   "outputs": [
    {
     "data": {
      "text/plain": [
       "[]"
      ]
     },
     "execution_count": 28,
     "metadata": {},
     "output_type": "execute_result"
    }
   ],
   "source": [
    "root.findall('{http://www.w3.org/2005/Atom}author')"
   ]
  },
  {
   "cell_type": "markdown",
   "metadata": {},
   "source": [
    "The `findall` method in this case only searches the children of the node, `feed` is not found because the current node (`feed`) does not have any children nodes of type `feed`\n",
    "\n",
    "Similarly nodes of type `author` are grand-children of `feed` and not children. \n",
    "\n",
    "To expand the search to include all descendents, prefix the findall search criteria with `//`. A recursive search can only be performed on the `document` as a whole and not an element directly including the `root` element"
   ]
  },
  {
   "cell_type": "code",
   "execution_count": 33,
   "metadata": {},
   "outputs": [
    {
     "data": {
      "text/plain": [
       "[<Element '{http://www.w3.org/2005/Atom}link' at 0x110818450>,\n",
       " <Element '{http://www.w3.org/2005/Atom}link' at 0x1108189f0>,\n",
       " <Element '{http://www.w3.org/2005/Atom}link' at 0x110805f90>,\n",
       " <Element '{http://www.w3.org/2005/Atom}link' at 0x110824540>]"
      ]
     },
     "execution_count": 33,
     "metadata": {},
     "output_type": "execute_result"
    }
   ],
   "source": [
    "tree.findall('.//{http://www.w3.org/2005/Atom}link')"
   ]
  },
  {
   "cell_type": "code",
   "execution_count": 38,
   "metadata": {
    "scrolled": true
   },
   "outputs": [
    {
     "name": "stdout",
     "output_type": "stream",
     "text": [
      "{'href': 'http://diveintomark.org/', 'rel': 'alternate', 'type': 'text/html'}\n",
      "{   'href': 'http://diveintomark.org/archives/2009/03/27/dive-into-history-2009-edition',\n",
      "    'rel': 'alternate',\n",
      "    'type': 'text/html'}\n",
      "{   'href': 'http://diveintomark.org/archives/2009/03/21/accessibility-is-a-harsh-mistress',\n",
      "    'rel': 'alternate',\n",
      "    'type': 'text/html'}\n",
      "{   'href': 'http://diveintomark.org/archives/2008/12/18/give-part-1-container-formats',\n",
      "    'rel': 'alternate',\n",
      "    'type': 'text/html'}\n"
     ]
    }
   ],
   "source": [
    "import pprint\n",
    "pp = pprint.PrettyPrinter(indent=4)\n",
    "\n",
    "for e in tree.findall('.//{http://www.w3.org/2005/Atom}link'):\n",
    "    pp.pprint(e.attrib)"
   ]
  },
  {
   "cell_type": "markdown",
   "metadata": {},
   "source": [
    "##### Going further with lxml\n",
    "\n",
    "`lxml` is an open source third-party library that bulids on the popular libxml2 parser. It provided 100% compatible `ElementTree` API, then extends it will full `XPATH 1.0` support and few other niceties."
   ]
  },
  {
   "cell_type": "code",
   "execution_count": 39,
   "metadata": {},
   "outputs": [
    {
     "data": {
      "text/plain": [
       "[<Element {http://www.w3.org/2005/Atom}entry at 0x110e990c0>,\n",
       " <Element {http://www.w3.org/2005/Atom}entry at 0x110e991c0>,\n",
       " <Element {http://www.w3.org/2005/Atom}entry at 0x110e99200>]"
      ]
     },
     "execution_count": 39,
     "metadata": {},
     "output_type": "execute_result"
    }
   ],
   "source": [
    "from lxml import etree\n",
    "\n",
    "tree = etree.parse('examples/feed.xml')\n",
    "root = tree.getroot()\n",
    "root.findall('{http://www.w3.org/2005/Atom}entry')"
   ]
  },
  {
   "cell_type": "code",
   "execution_count": 41,
   "metadata": {},
   "outputs": [
    {
     "data": {
      "text/plain": [
       "[<Element {http://www.w3.org/2005/Atom}link at 0x110e99e00>,\n",
       " <Element {http://www.w3.org/2005/Atom}link at 0x110e9e040>,\n",
       " <Element {http://www.w3.org/2005/Atom}link at 0x110e9e100>,\n",
       " <Element {http://www.w3.org/2005/Atom}link at 0x110e9e080>]"
      ]
     },
     "execution_count": 41,
     "metadata": {},
     "output_type": "execute_result"
    }
   ],
   "source": [
    "tree.findall('//{http://www.w3.org/2005/Atom}link')"
   ]
  },
  {
   "cell_type": "code",
   "execution_count": 42,
   "metadata": {},
   "outputs": [
    {
     "name": "stdout",
     "output_type": "stream",
     "text": [
      "{'rel': 'alternate', 'type': 'text/html', 'href': 'http://diveintomark.org/'}\n",
      "{'rel': 'alternate', 'type': 'text/html', 'href': 'http://diveintomark.org/archives/2009/03/27/dive-into-history-2009-edition'}\n",
      "{'rel': 'alternate', 'type': 'text/html', 'href': 'http://diveintomark.org/archives/2009/03/21/accessibility-is-a-harsh-mistress'}\n",
      "{'rel': 'alternate', 'type': 'text/html', 'href': 'http://diveintomark.org/archives/2008/12/18/give-part-1-container-formats'}\n"
     ]
    }
   ],
   "source": [
    "import pprint\n",
    "pp = pprint.PrettyPrinter(indent=4)\n",
    "\n",
    "for e in tree.findall('//{http://www.w3.org/2005/Atom}link'):\n",
    "    pp.pprint(e.attrib)"
   ]
  },
  {
   "cell_type": "markdown",
   "metadata": {},
   "source": [
    "As one can see the API and responses are identical. For large xml documents `lxml` is significantly faster than the built in ElementTree library.\n",
    "\n",
    "But `lxml` is more than just faster, its `findall` method includes support for all complicated expression (XPATH)"
   ]
  },
  {
   "cell_type": "code",
   "execution_count": 43,
   "metadata": {},
   "outputs": [
    {
     "data": {
      "text/plain": [
       "[<Element {http://www.w3.org/2005/Atom}link at 0x110ea01c0>,\n",
       " <Element {http://www.w3.org/2005/Atom}link at 0x110ea0240>,\n",
       " <Element {http://www.w3.org/2005/Atom}link at 0x110ea0280>,\n",
       " <Element {http://www.w3.org/2005/Atom}link at 0x110ea0040>]"
      ]
     },
     "execution_count": 43,
     "metadata": {},
     "output_type": "execute_result"
    }
   ],
   "source": [
    "from lxml import etree\n",
    "tree = etree.parse('examples/feed.xml')\n",
    "tree.findall('//{http://www.w3.org/2005/Atom}*[@href]')"
   ]
  },
  {
   "cell_type": "code",
   "execution_count": 45,
   "metadata": {},
   "outputs": [
    {
     "name": "stdout",
     "output_type": "stream",
     "text": [
      "{'rel': 'alternate', 'type': 'text/html', 'href': 'http://diveintomark.org/'}\n",
      "{'rel': 'alternate', 'type': 'text/html', 'href': 'http://diveintomark.org/archives/2009/03/27/dive-into-history-2009-edition'}\n",
      "{'rel': 'alternate', 'type': 'text/html', 'href': 'http://diveintomark.org/archives/2009/03/21/accessibility-is-a-harsh-mistress'}\n",
      "{'rel': 'alternate', 'type': 'text/html', 'href': 'http://diveintomark.org/archives/2008/12/18/give-part-1-container-formats'}\n"
     ]
    }
   ],
   "source": [
    "import pprint\n",
    "pp = pprint.PrettyPrinter(indent=4)\n",
    "\n",
    "for e in tree.findall('//{http://www.w3.org/2005/Atom}*[@href]'):\n",
    "    pp.pprint(e.attrib)"
   ]
  },
  {
   "cell_type": "markdown",
   "metadata": {},
   "source": [
    "the XPATH expression here, run at the document level, is searching for all elements which have the `atom:href` attribute specified."
   ]
  },
  {
   "cell_type": "code",
   "execution_count": 57,
   "metadata": {},
   "outputs": [],
   "source": [
    "NS='{http://www.w3.org/2005/Atom}'\n",
    "nodes = tree.findall(f'''{NS}*[@href='http://diveintomark.org/']''')"
   ]
  },
  {
   "cell_type": "code",
   "execution_count": 58,
   "metadata": {},
   "outputs": [
    {
     "name": "stdout",
     "output_type": "stream",
     "text": [
      "{'rel': 'alternate', 'type': 'text/html', 'href': 'http://diveintomark.org/'}\n"
     ]
    }
   ],
   "source": [
    "import pprint\n",
    "pp = pprint.PrettyPrinter(indent=4)\n",
    "\n",
    "for e in nodes:\n",
    "    pp.pprint(e.attrib)"
   ]
  },
  {
   "cell_type": "markdown",
   "metadata": {},
   "source": [
    "Above we are searching for all nodes which have the attribute `atom:href` specified and having a value of `http://diveintomark.org/`\n",
    "\n",
    "\n",
    "In the below the xpath expression `\"//atom:category[@term='accessibility']/..` selects the parent elements (`/..`) of type `category` with an attribute `term` having value `accessibility`."
   ]
  },
  {
   "cell_type": "code",
   "execution_count": 73,
   "metadata": {},
   "outputs": [],
   "source": [
    "NSMAP={'atom': 'http://www.w3.org/2005/Atom'}\n",
    "nodes = tree.xpath(\"//atom:category[@term='accessibility']/..\", namespaces=NSMAP)"
   ]
  },
  {
   "cell_type": "code",
   "execution_count": 74,
   "metadata": {},
   "outputs": [
    {
     "name": "stdout",
     "output_type": "stream",
     "text": [
      "['Dive into history, 2009 edition']\n",
      "['Accessibility is a harsh mistress']\n",
      "['A gentle introduction to video encoding, part 1: container formats']\n"
     ]
    }
   ],
   "source": [
    "import pprint\n",
    "pp = pprint.PrettyPrinter(indent=4)\n",
    "\n",
    "for entry in nodes:\n",
    "    print(entry.xpath('./atom:title/text()', namespaces=NSMAP))"
   ]
  },
  {
   "cell_type": "markdown",
   "metadata": {},
   "source": [
    "##### Generating XML\n",
    "\n",
    "Enough with the parsing of XML, let's create some documents using the API"
   ]
  },
  {
   "cell_type": "code",
   "execution_count": 83,
   "metadata": {},
   "outputs": [
    {
     "name": "stdout",
     "output_type": "stream",
     "text": [
      "<ns0:feed xmlns:ns0=\"http://www.w3.org/2005/Atom\" xml:lang=\"en\" />\n"
     ]
    }
   ],
   "source": [
    "import xml.etree.ElementTree as etree\n",
    "\n",
    "new_feed = etree.Element('{http://www.w3.org/2005/Atom}feed',\n",
    "                        attrib={'{http://www.w3.org/XML/1998/namespace}lang': 'en'})\n",
    "\n",
    "print(str(etree.tostring(new_feed), encoding='utf-8'))"
   ]
  },
  {
   "cell_type": "code",
   "execution_count": 97,
   "metadata": {},
   "outputs": [
    {
     "name": "stdout",
     "output_type": "stream",
     "text": [
      "<feed xmlns=\"http://www.w3.org/2005/Atom\"/>\n",
      "<feed xmlns=\"http://www.w3.org/2005/Atom\" xml:lang=\"en\"/>\n",
      "<feed xmlns=\"http://www.w3.org/2005/Atom\" xml:lang=\"en\"><title type=\"html\">blah de blah!!</title></feed>\n"
     ]
    }
   ],
   "source": [
    "from lxml import etree\n",
    "\n",
    "NSMAP={None: 'http://www.w3.org/2005/Atom'}\n",
    "\n",
    "new_feed = etree.Element('feed', nsmap=NSMAP)\n",
    "print(etree.tounicode(new_feed))\n",
    "new_feed.set('{http://www.w3.org/XML/1998/namespace}lang', 'en')\n",
    "print(etree.tounicode(new_feed))\n",
    "title = etree.SubElement(new_feed, 'title', attrib={'type':'html'})\n",
    "title.text=\"blah de blah!!\"\n",
    "print(etree.tounicode(new_feed))\n"
   ]
  },
  {
   "cell_type": "code",
   "execution_count": null,
   "metadata": {},
   "outputs": [],
   "source": []
  }
 ],
 "metadata": {
  "kernelspec": {
   "display_name": "Python 3",
   "language": "python",
   "name": "python3"
  },
  "language_info": {
   "codemirror_mode": {
    "name": "ipython",
    "version": 3
   },
   "file_extension": ".py",
   "mimetype": "text/x-python",
   "name": "python",
   "nbconvert_exporter": "python",
   "pygments_lexer": "ipython3",
   "version": "3.8.5"
  }
 },
 "nbformat": 4,
 "nbformat_minor": 4
}
