{
 "cells": [
  {
   "cell_type": "markdown",
   "metadata": {},
   "source": [
    "#### Diving In\n",
    "\n",
    "**Iterators** are everywhere in Python 3. The are the secret sauce, just out of sight. **Comprehensions** are just a simple form of *iterators*. **Generators** are just a simple form of *iterators*\n",
    "\n",
    "A function that *yield*s values is a nice, compact way of building an iterator."
   ]
  },
  {
   "cell_type": "code",
   "execution_count": 17,
   "metadata": {},
   "outputs": [],
   "source": [
    "class Fib:\n",
    "    '''iterator that yield numbers in the fibonacci sequence'''\n",
    "    \n",
    "    def __init__(self, max: int):\n",
    "        self.max: int = max\n",
    "    \n",
    "    def __iter__(self):\n",
    "        self.a: int = 0\n",
    "        self.b: int = 1\n",
    "        return self\n",
    "    \n",
    "    def __next__(self):\n",
    "        fib: int = self.a\n",
    "        if fib > self.max:\n",
    "            raise StopIteration\n",
    "            \n",
    "        self.a, self.b = self.b, self.a + self.b\n",
    "        return fib"
   ]
  },
  {
   "cell_type": "code",
   "execution_count": 19,
   "metadata": {},
   "outputs": [
    {
     "data": {
      "text/plain": [
       "[0, 1, 1, 2, 3, 5, 8, 13, 21, 34, 55, 89, 144, 233, 377, 610, 987]"
      ]
     },
     "execution_count": 19,
     "metadata": {},
     "output_type": "execute_result"
    }
   ],
   "source": [
    "list(Fib(1000))"
   ]
  },
  {
   "cell_type": "markdown",
   "metadata": {},
   "source": [
    "##### Defining Classes\n",
    "\n",
    "Python is fully object-oriented: you can define your own classes, inherit from your own or built-in classes, and instantiate the classes you've defined.\n",
    "\n",
    "Python does not have a separate _interface_ definition. Just define the class and start coding.\n",
    "\n",
    "A python class starts with the reserved word `class`, followed by the class name."
   ]
  },
  {
   "cell_type": "markdown",
   "metadata": {},
   "source": [
    "The name of the class in `Fib` it does not inherit from any other class. Class naming convention uses camel case.\n",
    "\n",
    "Class code is nested like other block statements such as `if`.\n",
    "\n",
    "The `__init__` method (uses two underscores) is the constructor for the class, sometimes also called an initializer - but this is splitting hairs.\n",
    "\n",
    "The first argument to every class method including the `__init__` method is always a reference to the current instance of the class. By *convention* this argument is called **self**. \n",
    "\n",
    "Unlike Java's **this** keyword, **self** in Python is not a keyword, but a very strong convention.\n",
    "\n",
    "In all instance methods, **self** refers to the instance whose method was classed. Although you need to specify _self_ explicitly when defining the method you do not specify it when calling the method; Python will add it for you automatically.\n",
    "\n",
    "**Sidebar**\n",
    "\n",
    "    pass is a python keyword, that is used to leave implementation detail to a later time when you are stubbing out code.\n",
    "\n",
    "    The pass statement in Python is like an empty set of `{}` curly braces in Java."
   ]
  },
  {
   "cell_type": "markdown",
   "metadata": {},
   "source": [
    "##### Instantiating Classes\n",
    "\n",
    "Instantiation a class in Python is straightforward. To instantiate a class, simply call the class as if it were a function, passing the arguments that `__init__()` method requires. The return value will be the newly created object.\n",
    "\n",
    "There is no explicit `new` operator in Python."
   ]
  },
  {
   "cell_type": "code",
   "execution_count": 22,
   "metadata": {},
   "outputs": [
    {
     "data": {
      "text/plain": [
       "<__main__.Fib at 0x107df9fd0>"
      ]
     },
     "execution_count": 22,
     "metadata": {},
     "output_type": "execute_result"
    }
   ],
   "source": [
    "f = Fib(1000)\n",
    "f"
   ]
  },
  {
   "cell_type": "code",
   "execution_count": 23,
   "metadata": {},
   "outputs": [
    {
     "data": {
      "text/plain": [
       "__main__.Fib"
      ]
     },
     "execution_count": 23,
     "metadata": {},
     "output_type": "execute_result"
    }
   ],
   "source": [
    "type(f)"
   ]
  },
  {
   "cell_type": "code",
   "execution_count": 24,
   "metadata": {},
   "outputs": [
    {
     "data": {
      "text/plain": [
       "__main__.Fib"
      ]
     },
     "execution_count": 24,
     "metadata": {},
     "output_type": "execute_result"
    }
   ],
   "source": [
    "f.__class__"
   ]
  },
  {
   "cell_type": "code",
   "execution_count": 59,
   "metadata": {},
   "outputs": [
    {
     "data": {
      "text/plain": [
       "'iterator that yield numbers in the fibonacci sequence'"
      ]
     },
     "execution_count": 59,
     "metadata": {},
     "output_type": "execute_result"
    }
   ],
   "source": [
    "f.__doc__"
   ]
  },
  {
   "cell_type": "markdown",
   "metadata": {},
   "source": [
    "##### Instance Variables\n",
    "\n",
    "What is `self.max` in `Fib`? It's an instance variable. It is completely seperate from max, which was passed into the `__init__()` method as an argument. The `max` passed into the init method is only available in the constructor. `self.max` is available to all instance methods in the class.\n",
    "\n",
    "\n",
    "Instance variables are specific to one instance of a class. If you create two Fib instance with different maximum values, they will each have their own value."
   ]
  },
  {
   "cell_type": "code",
   "execution_count": 61,
   "metadata": {},
   "outputs": [],
   "source": [
    "f = Fib(1000)\n",
    "g = Fib(2000)"
   ]
  },
  {
   "cell_type": "code",
   "execution_count": 62,
   "metadata": {},
   "outputs": [
    {
     "name": "stdout",
     "output_type": "stream",
     "text": [
      "1000\n",
      "2000\n"
     ]
    }
   ],
   "source": [
    "print(f.max)\n",
    "print(g.max)"
   ]
  },
  {
   "cell_type": "markdown",
   "metadata": {},
   "source": [
    "##### Classes Vs Instances\n",
    "\n",
    "Lets dive into class members vs instance members to understand the implementation and relationship between `classes` and `instances`."
   ]
  },
  {
   "cell_type": "code",
   "execution_count": 79,
   "metadata": {},
   "outputs": [],
   "source": [
    "class Car:\n",
    "    engine = \"combustion\"\n",
    "    cylinder = \"4\""
   ]
  },
  {
   "cell_type": "code",
   "execution_count": 80,
   "metadata": {},
   "outputs": [
    {
     "name": "stdout",
     "output_type": "stream",
     "text": [
      "Car with combustion engine having 4 cylinders\n"
     ]
    }
   ],
   "source": [
    "c1 = Car()\n",
    "print(f\"Car with {c1.engine} engine having {c1.cylinder} cylinders\")"
   ]
  },
  {
   "cell_type": "markdown",
   "metadata": {},
   "source": [
    "When we create an instance of Car, think of it as instantiating an empty dictionary. Infact this is exactly how the implementation works and we can view the dictionary using the instance member / attribute `__dict__`"
   ]
  },
  {
   "cell_type": "code",
   "execution_count": 81,
   "metadata": {},
   "outputs": [
    {
     "data": {
      "text/plain": [
       "{}"
      ]
     },
     "execution_count": 81,
     "metadata": {},
     "output_type": "execute_result"
    }
   ],
   "source": [
    "c1.__dict__"
   ]
  },
  {
   "cell_type": "markdown",
   "metadata": {},
   "source": [
    "The `type` of `c1` is `Car`. Since everything in Python is an object the `type Car` is an object itself and must have a `__dict__` attribute"
   ]
  },
  {
   "cell_type": "code",
   "execution_count": 82,
   "metadata": {},
   "outputs": [
    {
     "data": {
      "text/plain": [
       "__main__.Car"
      ]
     },
     "execution_count": 82,
     "metadata": {},
     "output_type": "execute_result"
    }
   ],
   "source": [
    "type(c1)"
   ]
  },
  {
   "cell_type": "markdown",
   "metadata": {},
   "source": [
    "There are multiple ways to access the dictionary."
   ]
  },
  {
   "cell_type": "code",
   "execution_count": 83,
   "metadata": {},
   "outputs": [
    {
     "data": {
      "text/plain": [
       "mappingproxy({'__module__': '__main__',\n",
       "              'engine': 'combustion',\n",
       "              'cylinder': '4',\n",
       "              '__dict__': <attribute '__dict__' of 'Car' objects>,\n",
       "              '__weakref__': <attribute '__weakref__' of 'Car' objects>,\n",
       "              '__doc__': None})"
      ]
     },
     "execution_count": 83,
     "metadata": {},
     "output_type": "execute_result"
    }
   ],
   "source": [
    "c1.__class__.__dict__"
   ]
  },
  {
   "cell_type": "code",
   "execution_count": 84,
   "metadata": {},
   "outputs": [
    {
     "data": {
      "text/plain": [
       "mappingproxy({'__module__': '__main__',\n",
       "              'engine': 'combustion',\n",
       "              'cylinder': '4',\n",
       "              '__dict__': <attribute '__dict__' of 'Car' objects>,\n",
       "              '__weakref__': <attribute '__weakref__' of 'Car' objects>,\n",
       "              '__doc__': None})"
      ]
     },
     "execution_count": 84,
     "metadata": {},
     "output_type": "execute_result"
    }
   ],
   "source": [
    "Car.__dict__"
   ]
  },
  {
   "cell_type": "markdown",
   "metadata": {},
   "source": [
    "The instance `c1` inherits default values of `engine` and `cylinder` from the `type Car`, wich you can see in the output of the `__dict__` attribute of `Car`.\n",
    "\n",
    "This would imply that we can post production change the value of th `engine` attribute of `c1` by changing the value of the attribute `Car`."
   ]
  },
  {
   "cell_type": "code",
   "execution_count": 85,
   "metadata": {},
   "outputs": [
    {
     "name": "stdout",
     "output_type": "stream",
     "text": [
      "Car with electric engine having 0 cylinders\n"
     ]
    }
   ],
   "source": [
    "Car.engine = \"electric\"\n",
    "Car.cylinder = 0\n",
    "print(f\"Car with {c1.engine} engine having {c1.cylinder} cylinders\")"
   ]
  },
  {
   "cell_type": "markdown",
   "metadata": {},
   "source": [
    "However this would be a **grave misunderstanding**. Python implement classes and object as **prototypes** similar to javascript and **unlike** Java, which implements templates.\n",
    "\n",
    "The implication is the resolution used by the runtime to find an attribute. In Python, the runtime will look for an attribute in the instance dictionary, if not found will proceed to look for the value in the type dictionary.\n",
    "\n",
    "Or type members can be thought of a providing default values. Lets demonstrate this with an example of a car with 8 cylinders"
   ]
  },
  {
   "cell_type": "code",
   "execution_count": 89,
   "metadata": {},
   "outputs": [],
   "source": [
    "# reset default engine and cylinder for Car\n",
    "Car.engine = 'combustion'\n",
    "Car.cylinder = 4\n",
    "c2 = Car()\n",
    "c2.make = \"Jaguar\"\n",
    "c2.cylinder = 8"
   ]
  },
  {
   "cell_type": "code",
   "execution_count": 90,
   "metadata": {},
   "outputs": [
    {
     "data": {
      "text/plain": [
       "{'make': 'Jaguar', 'cylinder': 8}"
      ]
     },
     "execution_count": 90,
     "metadata": {},
     "output_type": "execute_result"
    }
   ],
   "source": [
    "c2.__dict__"
   ]
  },
  {
   "cell_type": "code",
   "execution_count": 93,
   "metadata": {},
   "outputs": [
    {
     "name": "stdout",
     "output_type": "stream",
     "text": [
      "Car by Jaguar with combustion engine having 8 cylinders\n"
     ]
    }
   ],
   "source": [
    "print(f\"Car by {c2.make} with {c2.engine} engine having {c2.cylinder} cylinders\")"
   ]
  },
  {
   "cell_type": "code",
   "execution_count": 95,
   "metadata": {},
   "outputs": [
    {
     "name": "stdout",
     "output_type": "stream",
     "text": [
      "Car with combustion engine having 4 cylinders\n"
     ]
    }
   ],
   "source": [
    "print(f\"Car with {c1.engine} engine having {c1.cylinder} cylinders\")"
   ]
  },
  {
   "cell_type": "markdown",
   "metadata": {},
   "source": [
    "Lets override `c1` cylinder to `12`, muscle cars for everyone"
   ]
  },
  {
   "cell_type": "code",
   "execution_count": 96,
   "metadata": {},
   "outputs": [
    {
     "name": "stdout",
     "output_type": "stream",
     "text": [
      "Car with combustion engine having 12 cylinders\n"
     ]
    }
   ],
   "source": [
    "c1.cylinder = 12\n",
    "print(f\"Car with {c1.engine} engine having {c1.cylinder} cylinders\")"
   ]
  },
  {
   "cell_type": "markdown",
   "metadata": {},
   "source": [
    "However this does not change c2"
   ]
  },
  {
   "cell_type": "code",
   "execution_count": 97,
   "metadata": {},
   "outputs": [
    {
     "name": "stdout",
     "output_type": "stream",
     "text": [
      "Car by Jaguar with combustion engine having 8 cylinders\n"
     ]
    }
   ],
   "source": [
    "print(f\"Car by {c2.make} with {c2.engine} engine having {c2.cylinder} cylinders\")"
   ]
  },
  {
   "cell_type": "markdown",
   "metadata": {},
   "source": [
    "The key to understanding prototypes is the realization and understanding of the dynamic nature of the implementation. Behavior (`functions`) are shared across instances, members are not shared."
   ]
  },
  {
   "cell_type": "markdown",
   "metadata": {},
   "source": [
    "##### A Fibonacci Iterator\n",
    "\n",
    "An _**iterable**_ object is an object that implements `__iter__`, which return an _**iterator**_ object.\n",
    "\n",
    "An _**iterator**_ object is an object that implements `__next__`, which is expected to return the next element of the iterable object that returned the iterator. An _**iterator**_ raises a `StopIteration` exception when no more elements are available\n",
    "\n",
    "In the simplest case the _**iterable**_ will implement `__next__` itself and return `self` in `__iter__`\n",
    "\n",
    "You can use iterables in `for` loops and you can construct lists from them.\n",
    "\n",
    "All three of the class methods, `__init__`, `__iter__`, `__next__` begin and end with a pair of underscore (\\_) characters. There is nothing magical about it, but it usually indicates that these are _special methods_. The only thing \"special\" about special methods is that they aren't called directly; Python calls them when you use some other syntax on the class or an instance of the class."
   ]
  },
  {
   "cell_type": "code",
   "execution_count": 100,
   "metadata": {},
   "outputs": [],
   "source": [
    "class Fib2:\n",
    "    '''iterator that yield numbers in the fibonacci sequence'''\n",
    "    \n",
    "    def __init__(self, max: int):\n",
    "        self.max: int = max\n",
    "    \n",
    "    def __iter__(self):\n",
    "        print(\"Invoking __iter__ method on this iterable, returning an iterator\")\n",
    "        self.a: int = 0\n",
    "        self.b: int = 1\n",
    "        return self\n",
    "    \n",
    "    def __next__(self):\n",
    "        print(\"Invoking __next__ method on this iterator, returning a value\")\n",
    "        fib: int = self.a\n",
    "        if fib > self.max:\n",
    "            raise StopIteration\n",
    "            \n",
    "        self.a, self.b = self.b, self.a + self.b\n",
    "        return fib"
   ]
  },
  {
   "cell_type": "code",
   "execution_count": 101,
   "metadata": {},
   "outputs": [
    {
     "name": "stdout",
     "output_type": "stream",
     "text": [
      "Invoking __iter__ method on this iterable, returning an iterator\n",
      "Invoking __next__ method on this iterator, returning a value\n",
      "Invoking __next__ method on this iterator, returning a value\n",
      "Invoking __next__ method on this iterator, returning a value\n",
      "Invoking __next__ method on this iterator, returning a value\n",
      "Invoking __next__ method on this iterator, returning a value\n",
      "Invoking __next__ method on this iterator, returning a value\n",
      "Invoking __next__ method on this iterator, returning a value\n",
      "Invoking __next__ method on this iterator, returning a value\n",
      "Invoking __next__ method on this iterator, returning a value\n",
      "Invoking __next__ method on this iterator, returning a value\n",
      "Invoking __next__ method on this iterator, returning a value\n",
      "Invoking __next__ method on this iterator, returning a value\n",
      "Invoking __next__ method on this iterator, returning a value\n",
      "Invoking __next__ method on this iterator, returning a value\n",
      "Invoking __next__ method on this iterator, returning a value\n",
      "Invoking __next__ method on this iterator, returning a value\n",
      "Invoking __next__ method on this iterator, returning a value\n",
      "Invoking __next__ method on this iterator, returning a value\n"
     ]
    },
    {
     "data": {
      "text/plain": [
       "[0, 1, 1, 2, 3, 5, 8, 13, 21, 34, 55, 89, 144, 233, 377, 610, 987]"
      ]
     },
     "execution_count": 101,
     "metadata": {},
     "output_type": "execute_result"
    }
   ],
   "source": [
    "list(Fib2(1000))"
   ]
  },
  {
   "cell_type": "code",
   "execution_count": 104,
   "metadata": {},
   "outputs": [
    {
     "name": "stdout",
     "output_type": "stream",
     "text": [
      "Invoking __iter__ method on this iterable, returning an iterator\n",
      "Invoking __next__ method on this iterator, returning a value\n",
      "0\n",
      "Invoking __next__ method on this iterator, returning a value\n",
      "1\n",
      "Invoking __next__ method on this iterator, returning a value\n",
      "1\n",
      "Invoking __next__ method on this iterator, returning a value\n",
      "2\n",
      "Invoking __next__ method on this iterator, returning a value\n",
      "3\n",
      "Invoking __next__ method on this iterator, returning a value\n",
      "5\n",
      "Invoking __next__ method on this iterator, returning a value\n",
      "8\n",
      "Invoking __next__ method on this iterator, returning a value\n",
      "13\n",
      "Invoking __next__ method on this iterator, returning a value\n",
      "21\n",
      "Invoking __next__ method on this iterator, returning a value\n",
      "34\n",
      "Invoking __next__ method on this iterator, returning a value\n",
      "55\n",
      "Invoking __next__ method on this iterator, returning a value\n",
      "89\n",
      "Invoking __next__ method on this iterator, returning a value\n",
      "144\n",
      "Invoking __next__ method on this iterator, returning a value\n",
      "233\n",
      "Invoking __next__ method on this iterator, returning a value\n",
      "377\n",
      "Invoking __next__ method on this iterator, returning a value\n",
      "610\n",
      "Invoking __next__ method on this iterator, returning a value\n",
      "987\n",
      "Invoking __next__ method on this iterator, returning a value\n"
     ]
    }
   ],
   "source": [
    "for n in Fib2(1000):\n",
    "    print(n, end = '\\n')"
   ]
  },
  {
   "cell_type": "markdown",
   "metadata": {},
   "source": [
    "`Fib2` used in the `for` loop and `list` function is identical to how we called fibonacci as a generator. \n",
    "\n",
    "There's a bit of magic involved in for loops. Here's what happens\n",
    "\n",
    "* The `for` loop calls `Fib2(1000)` the constructor. This returns an instance (`fib`) of `Fib` class. The instance is an `iterable`\n",
    "* Secretly, the `for` loop calls `__iter__` method on the `iterable`, which returns an `iterator` object.\n",
    "* To _loop through_ the iterator, the `for` loop calls `__next__` on the iterator, which computes the next fibonacci number,\n",
    "* The `for` loop stops the iteration when a call to the `__next__` method result in a `StopIteration` exception. The for loop will swallow the exception and gracefully exit. Other exceptions will pass through and be raised as usual."
   ]
  }
 ],
 "metadata": {
  "kernelspec": {
   "display_name": "Python 3",
   "language": "python",
   "name": "python3"
  },
  "language_info": {
   "codemirror_mode": {
    "name": "ipython",
    "version": 3
   },
   "file_extension": ".py",
   "mimetype": "text/x-python",
   "name": "python",
   "nbconvert_exporter": "python",
   "pygments_lexer": "ipython3",
   "version": "3.8.5"
  }
 },
 "nbformat": 4,
 "nbformat_minor": 4
}
