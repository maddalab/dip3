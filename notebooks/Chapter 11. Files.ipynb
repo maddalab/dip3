{
 "cells": [
  {
   "cell_type": "markdown",
   "metadata": {},
   "source": [
    "##### Diving In\n",
    "\n",
    "Files are primary storage paradigm for every major operating system. You computer is, metaphorically drowning in files."
   ]
  },
  {
   "cell_type": "markdown",
   "metadata": {},
   "source": [
    "##### Reading from text files\n",
    "\n",
    "Opening a file in python couldn't be easier\n",
    "\n",
    "```python\n",
    "\n",
    "a_file = open('examples/chinese.txt', enconding='utf-8')\n",
    "\n",
    "```\n",
    "\n",
    "Python has a built-in `open()` function, which takes a optional path and filename and an encoding as arguments.\n",
    "\n",
    "Python handles path seperators, and always uses `/` irrespective of the operating systems path seperator.\n",
    "\n",
    "If the path does not start with a `/` the path is a relative path. \n",
    "\n",
    "The path is a string, most operating systems support unicode file and directory names. Python fully supports `unicode` pathnames.\n",
    "\n",
    "The second argument specified the encoding to utilize when opening the file. Recally from an earlier notebook, bytes on disk have to be interpreted as characters which requires the specification of encoding / character set."
   ]
  },
  {
   "cell_type": "code",
   "execution_count": 55,
   "metadata": {},
   "outputs": [
    {
     "ename": "UnicodeDecodeError",
     "evalue": "'charmap' codec can't decode byte 0x90 in position 50: character maps to <undefined>",
     "output_type": "error",
     "traceback": [
      "\u001b[0;31m---------------------------------------------------------------------------\u001b[0m",
      "\u001b[0;31mUnicodeDecodeError\u001b[0m                        Traceback (most recent call last)",
      "\u001b[0;32m<ipython-input-55-0bc5338b10dc>\u001b[0m in \u001b[0;36m<module>\u001b[0;34m\u001b[0m\n\u001b[1;32m      1\u001b[0m \u001b[0ma_file\u001b[0m \u001b[0;34m=\u001b[0m \u001b[0mopen\u001b[0m\u001b[0;34m(\u001b[0m\u001b[0;34m'examples/chinese.txt'\u001b[0m\u001b[0;34m,\u001b[0m \u001b[0mencoding\u001b[0m\u001b[0;34m=\u001b[0m\u001b[0;34m'cp1252'\u001b[0m\u001b[0;34m)\u001b[0m\u001b[0;34m\u001b[0m\u001b[0;34m\u001b[0m\u001b[0m\n\u001b[0;32m----> 2\u001b[0;31m \u001b[0ma_string\u001b[0m \u001b[0;34m=\u001b[0m \u001b[0ma_file\u001b[0m\u001b[0;34m.\u001b[0m\u001b[0mread\u001b[0m\u001b[0;34m(\u001b[0m\u001b[0;34m)\u001b[0m\u001b[0;34m\u001b[0m\u001b[0;34m\u001b[0m\u001b[0m\n\u001b[0m\u001b[1;32m      3\u001b[0m \u001b[0ma_string\u001b[0m\u001b[0;34m\u001b[0m\u001b[0;34m\u001b[0m\u001b[0m\n",
      "\u001b[0;32m~/.pyenv/versions/3.8.5/lib/python3.8/encodings/cp1252.py\u001b[0m in \u001b[0;36mdecode\u001b[0;34m(self, input, final)\u001b[0m\n\u001b[1;32m     21\u001b[0m \u001b[0;32mclass\u001b[0m \u001b[0mIncrementalDecoder\u001b[0m\u001b[0;34m(\u001b[0m\u001b[0mcodecs\u001b[0m\u001b[0;34m.\u001b[0m\u001b[0mIncrementalDecoder\u001b[0m\u001b[0;34m)\u001b[0m\u001b[0;34m:\u001b[0m\u001b[0;34m\u001b[0m\u001b[0;34m\u001b[0m\u001b[0m\n\u001b[1;32m     22\u001b[0m     \u001b[0;32mdef\u001b[0m \u001b[0mdecode\u001b[0m\u001b[0;34m(\u001b[0m\u001b[0mself\u001b[0m\u001b[0;34m,\u001b[0m \u001b[0minput\u001b[0m\u001b[0;34m,\u001b[0m \u001b[0mfinal\u001b[0m\u001b[0;34m=\u001b[0m\u001b[0;32mFalse\u001b[0m\u001b[0;34m)\u001b[0m\u001b[0;34m:\u001b[0m\u001b[0;34m\u001b[0m\u001b[0;34m\u001b[0m\u001b[0m\n\u001b[0;32m---> 23\u001b[0;31m         \u001b[0;32mreturn\u001b[0m \u001b[0mcodecs\u001b[0m\u001b[0;34m.\u001b[0m\u001b[0mcharmap_decode\u001b[0m\u001b[0;34m(\u001b[0m\u001b[0minput\u001b[0m\u001b[0;34m,\u001b[0m\u001b[0mself\u001b[0m\u001b[0;34m.\u001b[0m\u001b[0merrors\u001b[0m\u001b[0;34m,\u001b[0m\u001b[0mdecoding_table\u001b[0m\u001b[0;34m)\u001b[0m\u001b[0;34m[\u001b[0m\u001b[0;36m0\u001b[0m\u001b[0;34m]\u001b[0m\u001b[0;34m\u001b[0m\u001b[0;34m\u001b[0m\u001b[0m\n\u001b[0m\u001b[1;32m     24\u001b[0m \u001b[0;34m\u001b[0m\u001b[0m\n\u001b[1;32m     25\u001b[0m \u001b[0;32mclass\u001b[0m \u001b[0mStreamWriter\u001b[0m\u001b[0;34m(\u001b[0m\u001b[0mCodec\u001b[0m\u001b[0;34m,\u001b[0m\u001b[0mcodecs\u001b[0m\u001b[0;34m.\u001b[0m\u001b[0mStreamWriter\u001b[0m\u001b[0;34m)\u001b[0m\u001b[0;34m:\u001b[0m\u001b[0;34m\u001b[0m\u001b[0;34m\u001b[0m\u001b[0m\n",
      "\u001b[0;31mUnicodeDecodeError\u001b[0m: 'charmap' codec can't decode byte 0x90 in position 50: character maps to <undefined>"
     ]
    }
   ],
   "source": [
    "a_file = open('examples/chinese.txt', encoding='cp1252')\n",
    "a_string = a_file.read()\n",
    "a_string"
   ]
  },
  {
   "cell_type": "markdown",
   "metadata": {},
   "source": [
    "In the above example we specify an incorrect encoding / character set that is unable to decode bytes from the file. The defaule encoding on my laptop is `utf-8` the same as the encoding on the file, and simply reading the file and not specifying and enconding works."
   ]
  },
  {
   "cell_type": "code",
   "execution_count": 56,
   "metadata": {},
   "outputs": [
    {
     "data": {
      "text/plain": [
       "'這是一個很長的文本，我想將其翻譯成中文，以便在我打算在線閱讀有關python的資料時，可以將其稱為chinese.txt並將其用於python筆記本。\\nDive Into Python 是为有经验的程序员编写的一本 Python 书。\\n'"
      ]
     },
     "execution_count": 56,
     "metadata": {},
     "output_type": "execute_result"
    }
   ],
   "source": [
    "a_file = open('examples/chinese.txt')\n",
    "a_string = a_file.read()\n",
    "a_string"
   ]
  },
  {
   "cell_type": "markdown",
   "metadata": {},
   "source": [
    "##### Stream Objects\n",
    "\n",
    "The `open` function returns a _stream object_, which has methods and attributes for getting information about manipulating a stream of charcters."
   ]
  },
  {
   "cell_type": "code",
   "execution_count": 57,
   "metadata": {},
   "outputs": [
    {
     "name": "stdout",
     "output_type": "stream",
     "text": [
      "examples/chinese.txt\n",
      "UTF-8\n",
      "r\n"
     ]
    }
   ],
   "source": [
    "a_file = open('examples/chinese.txt')\n",
    "print(a_file.name)\n",
    "print(a_file.encoding)\n",
    "print(a_file.mode)"
   ]
  },
  {
   "cell_type": "code",
   "execution_count": 58,
   "metadata": {},
   "outputs": [
    {
     "data": {
      "text/plain": [
       "'UTF-8'"
      ]
     },
     "execution_count": 58,
     "metadata": {},
     "output_type": "execute_result"
    }
   ],
   "source": [
    "import locale\n",
    "locale.getpreferredencoding()"
   ]
  },
  {
   "cell_type": "markdown",
   "metadata": {},
   "source": [
    "The `mode` attribute tells you which mode the file was opened. Yo ucan pass an optional `mode` parameter to the `open` function. Python defauls to `r`, which means \"open ffor reading only, in text mode\". The file mode serves several purposes; different modes let you write to a file, append to a file, or open a file in binary mode  (in which case you deal with bytes instead of characters / strings)"
   ]
  },
  {
   "cell_type": "markdown",
   "metadata": {},
   "source": [
    "##### Reading data from a text file\n",
    "\n",
    "After you open a file for reading, you'll probably want to read from it at some point."
   ]
  },
  {
   "cell_type": "code",
   "execution_count": 59,
   "metadata": {},
   "outputs": [
    {
     "name": "stdout",
     "output_type": "stream",
     "text": [
      "這是一個很長的文本，我想將其翻譯成中文，以便在我打算在線閱讀有關python的資料時，可以將其稱為chinese.txt並將其用於python筆記本。\n",
      "Dive Into Python 是为有经验的程序员编写的一本 Python 书。\n",
      "\n",
      "\n",
      "\n"
     ]
    }
   ],
   "source": [
    "a_file = open('examples/chinese.txt', encoding = 'utf-8')\n",
    "print(a_file.read())\n",
    "print(a_file.read())\n",
    "print(a_file.read())"
   ]
  },
  {
   "cell_type": "markdown",
   "metadata": {},
   "source": [
    "Perhaps somewhat surprisingly, reading the file past the end does not raise an exception. Python does not consider reading past end-of-file to be an error; it simply returns an empty string.\n",
    "\n",
    "To reread a file, you can use the `seek` method."
   ]
  },
  {
   "cell_type": "code",
   "execution_count": 60,
   "metadata": {},
   "outputs": [
    {
     "name": "stdout",
     "output_type": "stream",
     "text": [
      "這是一個很長的文本，我想將其翻譯\n",
      "成\n",
      "中\n",
      "54\n"
     ]
    }
   ],
   "source": [
    "a_file.seek(0)\n",
    "print(a_file.read(16))\n",
    "print(a_file.read(1))\n",
    "print(a_file.read(1))\n",
    "print(a_file.tell())"
   ]
  },
  {
   "cell_type": "markdown",
   "metadata": {},
   "source": [
    "The `seek` and `tell` methods count `bytes` but since we opened the file in text mode, the `read` method reads characters. Chinese character require multiple bytes to encode in utf-8, result in the `tell` method returning `54`."
   ]
  },
  {
   "cell_type": "code",
   "execution_count": 61,
   "metadata": {},
   "outputs": [
    {
     "ename": "UnicodeDecodeError",
     "evalue": "'utf-8' codec can't decode byte 0x80 in position 0: invalid start byte",
     "output_type": "error",
     "traceback": [
      "\u001b[0;31m---------------------------------------------------------------------------\u001b[0m",
      "\u001b[0;31mUnicodeDecodeError\u001b[0m                        Traceback (most recent call last)",
      "\u001b[0;32m<ipython-input-61-b601ef5f43c9>\u001b[0m in \u001b[0;36m<module>\u001b[0;34m\u001b[0m\n\u001b[1;32m      1\u001b[0m \u001b[0ma_file\u001b[0m\u001b[0;34m.\u001b[0m\u001b[0mseek\u001b[0m\u001b[0;34m(\u001b[0m\u001b[0;36m1\u001b[0m\u001b[0;34m)\u001b[0m\u001b[0;34m\u001b[0m\u001b[0;34m\u001b[0m\u001b[0m\n\u001b[0;32m----> 2\u001b[0;31m \u001b[0mprint\u001b[0m\u001b[0;34m(\u001b[0m\u001b[0ma_file\u001b[0m\u001b[0;34m.\u001b[0m\u001b[0mread\u001b[0m\u001b[0;34m(\u001b[0m\u001b[0;36m1\u001b[0m\u001b[0;34m)\u001b[0m\u001b[0;34m)\u001b[0m\u001b[0;34m\u001b[0m\u001b[0;34m\u001b[0m\u001b[0m\n\u001b[0m",
      "\u001b[0;32m~/.pyenv/versions/3.8.5/lib/python3.8/codecs.py\u001b[0m in \u001b[0;36mdecode\u001b[0;34m(self, input, final)\u001b[0m\n\u001b[1;32m    320\u001b[0m         \u001b[0;31m# decode input (taking the buffer into account)\u001b[0m\u001b[0;34m\u001b[0m\u001b[0;34m\u001b[0m\u001b[0;34m\u001b[0m\u001b[0m\n\u001b[1;32m    321\u001b[0m         \u001b[0mdata\u001b[0m \u001b[0;34m=\u001b[0m \u001b[0mself\u001b[0m\u001b[0;34m.\u001b[0m\u001b[0mbuffer\u001b[0m \u001b[0;34m+\u001b[0m \u001b[0minput\u001b[0m\u001b[0;34m\u001b[0m\u001b[0;34m\u001b[0m\u001b[0m\n\u001b[0;32m--> 322\u001b[0;31m         \u001b[0;34m(\u001b[0m\u001b[0mresult\u001b[0m\u001b[0;34m,\u001b[0m \u001b[0mconsumed\u001b[0m\u001b[0;34m)\u001b[0m \u001b[0;34m=\u001b[0m \u001b[0mself\u001b[0m\u001b[0;34m.\u001b[0m\u001b[0m_buffer_decode\u001b[0m\u001b[0;34m(\u001b[0m\u001b[0mdata\u001b[0m\u001b[0;34m,\u001b[0m \u001b[0mself\u001b[0m\u001b[0;34m.\u001b[0m\u001b[0merrors\u001b[0m\u001b[0;34m,\u001b[0m \u001b[0mfinal\u001b[0m\u001b[0;34m)\u001b[0m\u001b[0;34m\u001b[0m\u001b[0;34m\u001b[0m\u001b[0m\n\u001b[0m\u001b[1;32m    323\u001b[0m         \u001b[0;31m# keep undecoded input until the next call\u001b[0m\u001b[0;34m\u001b[0m\u001b[0;34m\u001b[0m\u001b[0;34m\u001b[0m\u001b[0m\n\u001b[1;32m    324\u001b[0m         \u001b[0mself\u001b[0m\u001b[0;34m.\u001b[0m\u001b[0mbuffer\u001b[0m \u001b[0;34m=\u001b[0m \u001b[0mdata\u001b[0m\u001b[0;34m[\u001b[0m\u001b[0mconsumed\u001b[0m\u001b[0;34m:\u001b[0m\u001b[0;34m]\u001b[0m\u001b[0;34m\u001b[0m\u001b[0;34m\u001b[0m\u001b[0m\n",
      "\u001b[0;31mUnicodeDecodeError\u001b[0m: 'utf-8' codec can't decode byte 0x80 in position 0: invalid start byte"
     ]
    }
   ],
   "source": [
    "a_file.seek(1)\n",
    "print(a_file.read(1))"
   ]
  },
  {
   "cell_type": "markdown",
   "metadata": {},
   "source": [
    "Why does this fail? Because there isn't a character at the first bute, the nearest character is at byte `3`. Trying to read a character from the middle will fail with `UnicodeDecodeError`."
   ]
  },
  {
   "cell_type": "markdown",
   "metadata": {},
   "source": [
    "##### Closing a file\n",
    "\n",
    "Opening files consumes resources, and depending on the file mode, other programs may not be able to acces the file. It is important to close the file as soon as you are finished using them"
   ]
  },
  {
   "cell_type": "code",
   "execution_count": 62,
   "metadata": {},
   "outputs": [
    {
     "data": {
      "text/plain": [
       "True"
      ]
     },
     "execution_count": 62,
     "metadata": {},
     "output_type": "execute_result"
    }
   ],
   "source": [
    "a_file.close()\n",
    "a_file.closed"
   ]
  },
  {
   "cell_type": "markdown",
   "metadata": {},
   "source": [
    "Close stream objects do have one useful attribute the `closed` attribute will confirm that the file is `closed`."
   ]
  },
  {
   "cell_type": "markdown",
   "metadata": {},
   "source": [
    "##### Closing files automatically\n",
    "\n",
    "Stream objects have an explicit `close` method, but what happens if your code has a bug and crashes before you call `close`? That file could theoretically stay open for much longer than necessary.\n",
    "\n",
    "Python preferred wah to close stream object is with the `with` statement."
   ]
  },
  {
   "cell_type": "code",
   "execution_count": 63,
   "metadata": {},
   "outputs": [
    {
     "name": "stdout",
     "output_type": "stream",
     "text": [
      "是\n"
     ]
    }
   ],
   "source": [
    "with open('examples/chinese.txt', encoding='utf-8') as f:\n",
    "    f.seek(3)\n",
    "    print(f.read(1))"
   ]
  },
  {
   "cell_type": "markdown",
   "metadata": {},
   "source": [
    "This code calss `open`, but it never calls `close`. The `with` statement starts a code block. Inside this block you can use the variable `f` as the stream object returned by `open`. Whtn the `with` block ends, python calls `f.close()` automatically.\n",
    "\n",
    "No matter how you exit the `with` block, Python will close the file ... even if you exit via an unhandled exception.\n",
    "\n",
    "The `with` statement creates a runtime context. In the above example the `stream` object acts as a context manager. Python creates the stream object `f` and tells it that it is entering a runtime context. When the `with` code block is completed, Python tells the stream object that it is exiting th runtime context, the stream object calls its own `close` method.\n",
    "\n",
    "There is nothing `file` specific about the `with` statement. It's just a generic framework for creating runtime contexts and telling objects that they're entering and exiting a runtime context.\n",
    "\n",
    "If the object is a stream object, then it does useful file-like things (like closing the file automatically). But that behavior is definedf in the stream object, not in the `with` statement. You can even create your own context managers that have nothing to do with files."
   ]
  },
  {
   "cell_type": "markdown",
   "metadata": {},
   "source": [
    "##### Reading data one line at a time.\n",
    "\n",
    "A line of text is just what you think - you type a few words and press `RETURN`.\n",
    "\n",
    "Text file can use several different character to mark the end of a line. Every operating system has it own convention of combinations involving `carriage-return / CR` and `line feed / LF`\n",
    "\n",
    "Pythong handles line encodings automatically by default. If you say read a line of text from a file, Python will figure out which kind of line ending the text file uses and it all *Just Work*"
   ]
  },
  {
   "cell_type": "code",
   "execution_count": 64,
   "metadata": {},
   "outputs": [
    {
     "name": "stdout",
     "output_type": "stream",
     "text": [
      "   1 Dora\n",
      "   2 Ethan\n",
      "   3 Wesley\n",
      "   4 John\n",
      "   5 Anne\n",
      "   6 Mike\n",
      "   7 Chris\n",
      "   8 Sarah\n",
      "   9 Alex\n",
      "  10 Lizzie\n"
     ]
    }
   ],
   "source": [
    "line_number = 0\n",
    "with open('examples/favorite-people.txt') as a_file:\n",
    "    for a_line in a_file:\n",
    "        line_number += 1\n",
    "        print(\"{:>4} {}\".format(line_number, a_line.rstrip()))"
   ]
  },
  {
   "cell_type": "markdown",
   "metadata": {},
   "source": [
    "* Using the *with* pattern you can safely open the file. Python will close it for you\n",
    "* To read a file one line at a time, use a `for` loop. Besides having explicit methods like `read`, the stream object is also an `iterator` which spits out a single line every time you ask for the `next` value\n",
    "* Using the `format` method, you can print line number right justifes within 4 spaces. The `a_line` variable contains the complete line, carriage returns and all, the `rstrip` method removes the trailing white space, including the new line characters."
   ]
  },
  {
   "cell_type": "markdown",
   "metadata": {},
   "source": [
    "##### Writing to text files\n",
    "\n",
    "You can write to files in the same way that you read from them. First you open a file and get a stream object then you use methods on the stream object to write data to the file, then you close the file.\n",
    "\n",
    "To open a file for writing, use the `open` function and specify the write more. There are thwo file modes for writing\n",
    "\n",
    "* \"Write\" mode will overwrite the file\n",
    "* \"Append\" mode will add data to the file.\n",
    "\n",
    "Either mode will create the file automatically if it doesn't exist. You should always close a file as soon as you're done writing to it, to release the file handle and ensure the contents are actually written to disk.\n",
    "\n",
    "As with opening a file for reading, you can call the stream objects `close` method, or you can use the `with` statement and let Python close the file for you."
   ]
  },
  {
   "cell_type": "code",
   "execution_count": 65,
   "metadata": {},
   "outputs": [
    {
     "name": "stdout",
     "output_type": "stream",
     "text": [
      "test succeeded\n",
      "test succeeded and again\n"
     ]
    }
   ],
   "source": [
    "with open('examples/test.log', mode='w', encoding='utf-8') as a_file:\n",
    "    a_file.write(\"test succeeded\")\n",
    "    \n",
    "with open('examples/test.log', encoding='utf-8') as a_file:\n",
    "    print(a_file.read())\n",
    "    \n",
    "with open('examples/test.log', mode='a', encoding='utf-8') as a_file:\n",
    "    a_file.write(\" and again\")\n",
    "    \n",
    "with open('examples/test.log', encoding='utf-8') as a_file:\n",
    "    print(a_file.read())"
   ]
  },
  {
   "cell_type": "markdown",
   "metadata": {},
   "source": [
    "##### Binary files\n",
    "\n",
    "Not all files contain text. Some of them contain pictures"
   ]
  },
  {
   "cell_type": "code",
   "execution_count": 66,
   "metadata": {},
   "outputs": [
    {
     "name": "stdout",
     "output_type": "stream",
     "text": [
      "rb\n",
      "examples/beauregard.jpg\n"
     ]
    },
    {
     "ename": "AttributeError",
     "evalue": "'_io.BufferedReader' object has no attribute 'encoding'",
     "output_type": "error",
     "traceback": [
      "\u001b[0;31m---------------------------------------------------------------------------\u001b[0m",
      "\u001b[0;31mAttributeError\u001b[0m                            Traceback (most recent call last)",
      "\u001b[0;32m<ipython-input-66-c492ce2e4ca5>\u001b[0m in \u001b[0;36m<module>\u001b[0;34m\u001b[0m\n\u001b[1;32m      3\u001b[0m \u001b[0mprint\u001b[0m\u001b[0;34m(\u001b[0m\u001b[0man_image\u001b[0m\u001b[0;34m.\u001b[0m\u001b[0mmode\u001b[0m\u001b[0;34m)\u001b[0m\u001b[0;34m\u001b[0m\u001b[0;34m\u001b[0m\u001b[0m\n\u001b[1;32m      4\u001b[0m \u001b[0mprint\u001b[0m\u001b[0;34m(\u001b[0m\u001b[0man_image\u001b[0m\u001b[0;34m.\u001b[0m\u001b[0mname\u001b[0m\u001b[0;34m)\u001b[0m\u001b[0;34m\u001b[0m\u001b[0;34m\u001b[0m\u001b[0m\n\u001b[0;32m----> 5\u001b[0;31m \u001b[0mprint\u001b[0m\u001b[0;34m(\u001b[0m\u001b[0man_image\u001b[0m\u001b[0;34m.\u001b[0m\u001b[0mencoding\u001b[0m\u001b[0;34m)\u001b[0m\u001b[0;34m\u001b[0m\u001b[0;34m\u001b[0m\u001b[0m\n\u001b[0m",
      "\u001b[0;31mAttributeError\u001b[0m: '_io.BufferedReader' object has no attribute 'encoding'"
     ]
    }
   ],
   "source": [
    "an_image = open('examples/beauregard.jpg', mode='rb')\n",
    "\n",
    "print(an_image.mode)\n",
    "print(an_image.name)\n",
    "print(an_image.encoding)"
   ]
  },
  {
   "cell_type": "markdown",
   "metadata": {},
   "source": [
    "* Opening a file in binary mode is similar to a opening a file in text mode with the subtle difference of using mode `rb` where the `r` indicates read and the `b` indicates binary\n",
    "* The stream object you get from opening a file in binary mode has many of the same attributes, including `mode` for instance\n",
    "* binary stream objects also have `name` just like test stream objects\n",
    "* There is one difference though, a binary stream has no `encoding` attribute. That make sense, you're reading bytes not characters. So there is no conversion to do. What you get out of a binary file is exactly what you out into it, no conversion necessary."
   ]
  },
  {
   "cell_type": "code",
   "execution_count": 67,
   "metadata": {},
   "outputs": [
    {
     "name": "stdout",
     "output_type": "stream",
     "text": [
      "0\n",
      "b'\\x89PN'\n",
      "<class 'bytes'>\n",
      "3\n"
     ]
    },
    {
     "data": {
      "text/plain": [
       "1246129"
      ]
     },
     "execution_count": 67,
     "metadata": {},
     "output_type": "execute_result"
    }
   ],
   "source": [
    "print(an_image.tell())\n",
    "data = an_image.read(3)\n",
    "print(data)\n",
    "print(type(data))\n",
    "print(an_image.tell())\n",
    "an_image.seek(0)\n",
    "data = an_image.read()\n",
    "len(data)"
   ]
  },
  {
   "cell_type": "markdown",
   "metadata": {},
   "source": [
    "Like text files you can read a binary file by specifying the byte count (instead of character count). That means there is ne ver an unexpected mismatch between the number you passed into `read` and the position index you get out of `tell`.\n",
    "\n",
    "The `read` method readsbytes, the `seek` and `tell` methods track the number of bytes read. For binary files, they'll always agree."
   ]
  },
  {
   "cell_type": "markdown",
   "metadata": {},
   "source": [
    "##### Stream Objects From Non-File Sources\n",
    "\n",
    "Imagine you are writing a library, and one of your library functions is going to read some data from a file. The function could simply take a filename as a string, go open the file for reading, read it and close it before exiting. \n",
    "\n",
    "Instead if you API took an arbitrary _stream object_ it would work with any sources of stream objects and not just with file.\n",
    "\n",
    "A _stream object_ is anything with a `read` method which takes an optional `size` parameter and returns data. When called with no size parameter, the `read` method should read everything there is to read from the source and return all the data as a single vaue. When called with a `size` parameter it reads that much from the input source and returns that much data. When called again, it picks up where it left off an returns the next chunk of data.\n",
    "\n",
    "That sounds exactly like the stream object you get from opening a file. However by programming the API to the stream object you are not restricting youself to files. The input source could be anything, a web page, a string in memory, even the output of another program.\n",
    "\n",
    "As long as your API takes a _stream object_ and calls the `read` method, you can handle any inout source that acts like a file without specific code to handle each kind of input."
   ]
  },
  {
   "cell_type": "code",
   "execution_count": 68,
   "metadata": {},
   "outputs": [
    {
     "name": "stdout",
     "output_type": "stream",
     "text": [
      "PapayaWhip is the new black\n",
      "\n",
      "PapayaWhip\n",
      "10\n",
      "new black\n"
     ]
    }
   ],
   "source": [
    "a_string = \"PapayaWhip is the new black\"\n",
    "\n",
    "import io\n",
    "a_stream = io.StringIO(a_string)\n",
    "print(a_stream.read())\n",
    "print(a_stream.read())\n",
    "a_stream.seek(0)\n",
    "print(a_stream.read(10))\n",
    "print(a_stream.tell())\n",
    "a_stream.seek(18)\n",
    "print(a_stream.read())"
   ]
  },
  {
   "cell_type": "markdown",
   "metadata": {},
   "source": [
    "`io.StringIO` lets you access a string as a _stream object_ of characters. There is also `io.BytesIO` which lets you treat a byte array as a _stream object_ of bytes."
   ]
  },
  {
   "cell_type": "markdown",
   "metadata": {},
   "source": [
    "##### Handling Compressed Files\n",
    "\n",
    "The Python standard library contains modiles that support reading and writing compressed files created via a numner of different compression schemes.\n",
    "\n",
    "The `gzip` module lets you create a _stream object_ for reading and writing gzip compressed files."
   ]
  },
  {
   "cell_type": "code",
   "execution_count": 69,
   "metadata": {},
   "outputs": [],
   "source": [
    "import gzip\n",
    "\n",
    "with gzip.open(\"examples/out.log.gz\", mode= 'wb') as z_file:\n",
    "    z_file.write('A nine mile walk is no joke, especially in the rain'.encode('utf-8'))\n",
    "    "
   ]
  },
  {
   "cell_type": "markdown",
   "metadata": {},
   "source": [
    "* Always open gzipped files are a `binary` file. Note the `b` charater int he mode argument"
   ]
  },
  {
   "cell_type": "markdown",
   "metadata": {},
   "source": [
    "##### Standard Input, Output and Error\n",
    "\n",
    "Standard outout and standard error (commonly abbreviated `stdout` and `stderr`) are _pipes_ that are built into every UNIX like operating system. When you call the `print` function, the thing you're printing is sent to `stdout` pipe.\n",
    "\n",
    "When you program crashed and prints the output to `stderr`. By default, both of these pipes are just connected to the terminal window where you are working."
   ]
  },
  {
   "cell_type": "code",
   "execution_count": 70,
   "metadata": {},
   "outputs": [
    {
     "name": "stdout",
     "output_type": "stream",
     "text": [
      "PapayaWhip\n",
      "PapayaWhip\n",
      "PapayaWhip\n"
     ]
    }
   ],
   "source": [
    "for i in range(3):\n",
    "    print('PapayaWhip')"
   ]
  },
  {
   "cell_type": "code",
   "execution_count": 71,
   "metadata": {},
   "outputs": [
    {
     "name": "stdout",
     "output_type": "stream",
     "text": [
      " is the  is the  is the "
     ]
    },
    {
     "name": "stderr",
     "output_type": "stream",
     "text": [
      " new black  new black  new black "
     ]
    }
   ],
   "source": [
    "import sys\n",
    "\n",
    "for i in range(3):\n",
    "    sys.stdout.write(' is the ')\n",
    "    \n",
    "for i in range(3):\n",
    "    sys.stderr.write(' new black ')"
   ]
  },
  {
   "cell_type": "markdown",
   "metadata": {},
   "source": [
    "`sys.stdout` and `sys.stderr` are stream objects, but they are write-only. Attempting to call their `read` method will result in an `IOError`"
   ]
  },
  {
   "cell_type": "markdown",
   "metadata": {},
   "source": [
    "##### Redirecting standard output\n",
    "\n",
    "`sys.stdout` and `sys.stderr` are _stream object_ that support only writing. But they're not constants; they're variables. That means you can assign them a new value - any other stream object - to _redirect_ their output."
   ]
  },
  {
   "cell_type": "code",
   "execution_count": 72,
   "metadata": {},
   "outputs": [
    {
     "name": "stdout",
     "output_type": "stream",
     "text": [
      "A goes to console\n",
      "C goes to console\n"
     ]
    }
   ],
   "source": [
    "import sys\n",
    "\n",
    "class RedirectStdoutToFile:\n",
    "    \n",
    "    def __init__(self, file):\n",
    "        self.file = file\n",
    "        \n",
    "    def __enter__(self):\n",
    "        self.prev_out = sys.stdout\n",
    "        sys.stdout = self.file\n",
    "        \n",
    "    def __exit__(self, *args):\n",
    "        sys.stdout = self.prev_out\n",
    "        \n",
    "print('A goes to console')\n",
    "\n",
    "with open('examples/output.log', mode=\"w\", encoding='utf-8') as file, RedirectStdoutToFile(file):\n",
    "    print('B goes to file')\n",
    "    \n",
    "print('C goes to console')"
   ]
  },
  {
   "cell_type": "markdown",
   "metadata": {},
   "source": [
    "Lets look at the `with` statement, the context manager created by instantiating `RedirectStdoutToFile` is not assinged a local variable using `as`, this is because we are using the context manager for side effect. The `with` statement does not need us to assign the context manager to a variable.\n",
    "\n",
    "A context manager is any class that implements the `__enter__` and `__exit__` methods. These are \"special methods\" invoked by the Python runtime. The `__enter__` method is invoked when entering a `with` block and `__exit__` is invoked when exiting a `with` block.\n",
    "\n",
    "The `with` statement takes a _comma seperated list of contexts_. The comma-seperated list acts like a series of nested `with` blocks. The first context listed is the \"outer\" block, the las one is the \"inner\" block.\n",
    "\n",
    "The first context opens a file, the second context redirects `sys.stdout` to the stream object that was created in the first context.\n",
    "\n",
    "The context managers form a last-in-first-out stack. Upon exiting, the second context changed `sys.stdout` back to its original vaue, then the first context closed the file name `examples/output.log`.\n",
    "\n",
    "Since `stdout` has been restored to its original value, calling the `print` function once again prints to the screen."
   ]
  }
 ],
 "metadata": {
  "kernelspec": {
   "display_name": "Python 3",
   "language": "python",
   "name": "python3"
  },
  "language_info": {
   "codemirror_mode": {
    "name": "ipython",
    "version": 3
   },
   "file_extension": ".py",
   "mimetype": "text/x-python",
   "name": "python",
   "nbconvert_exporter": "python",
   "pygments_lexer": "ipython3",
   "version": "3.8.5"
  }
 },
 "nbformat": 4,
 "nbformat_minor": 4
}
