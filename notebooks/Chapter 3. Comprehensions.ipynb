{
 "cells": [
  {
   "cell_type": "markdown",
   "metadata": {},
   "source": [
    "#### Working with files and directories\n",
    "\n",
    "The `os` module allows us to manipulate local directories, files, processes and environment variables. Python does it's best to offer a unified API across all supported operationing systems.\n",
    "\n",
    "**The current working directory**\n",
    "\n",
    "When `import`'ing a module, Python will look for the module in the import search path `sys.path`. To find the module you can do one of two things\n",
    "\n",
    "1. Add the folder to the import search path\n",
    "2. Change the current working directory to the folder.\n",
    "\n",
    "The cwd is an invisible property that Python holds in memory at all times. There is always a current working directory, whether you're in the Python shell, running your own Python script from the command line, or running Python flask web server somwhere."
   ]
  },
  {
   "cell_type": "code",
   "execution_count": 1,
   "metadata": {},
   "outputs": [
    {
     "data": {
      "text/plain": [
       "'/Users/bhaskar/workspace/dip3/notebooks'"
      ]
     },
     "execution_count": 1,
     "metadata": {},
     "output_type": "execute_result"
    }
   ],
   "source": [
    "import os\n",
    "os.getcwd()\n",
    "# os.chdir(...) to change the current working directory"
   ]
  },
  {
   "cell_type": "markdown",
   "metadata": {},
   "source": [
    "#### Working with file and directory names\n",
    "\n",
    "`os.path` contains functions for manipulating file and directory names"
   ]
  },
  {
   "cell_type": "code",
   "execution_count": 5,
   "metadata": {},
   "outputs": [
    {
     "data": {
      "text/plain": [
       "['/Users/bhaskar/workspace/dip3/notebooks',\n",
       " '/Users/bhaskar/.pyenv/versions/3.8.5/lib/python38.zip',\n",
       " '/Users/bhaskar/.pyenv/versions/3.8.5/lib/python3.8',\n",
       " '/Users/bhaskar/.pyenv/versions/3.8.5/lib/python3.8/lib-dynload',\n",
       " '',\n",
       " '/Users/bhaskar/Library/Caches/pypoetry/virtualenvs/dive_into_python3-NDjgBark-py3.8/lib/python3.8/site-packages',\n",
       " '/Users/bhaskar/Library/Caches/pypoetry/virtualenvs/dive_into_python3-NDjgBark-py3.8/lib/python3.8/site-packages/IPython/extensions',\n",
       " '/Users/bhaskar/.ipython']"
      ]
     },
     "execution_count": 5,
     "metadata": {},
     "output_type": "execute_result"
    }
   ],
   "source": [
    "import sys\n",
    "sys.path"
   ]
  },
  {
   "cell_type": "code",
   "execution_count": 28,
   "metadata": {},
   "outputs": [
    {
     "data": {
      "text/plain": [
       "3628800"
      ]
     },
     "execution_count": 28,
     "metadata": {},
     "output_type": "execute_result"
    }
   ],
   "source": [
    "from examples.fact import fact\n",
    "fact(10)"
   ]
  },
  {
   "cell_type": "code",
   "execution_count": 19,
   "metadata": {},
   "outputs": [
    {
     "name": "stdout",
     "output_type": "stream",
     "text": [
      "/Users/bhaskar/workspace/dip3/notebooks/examples/fact.py\n",
      "/Users/bhaskar/workspace/dip3/notebooks/examples/fact.py\n",
      "/Users/bhaskar\n",
      "/Users/bhaskar/workspace/dip3/notebooks/examples/fact.py\n"
     ]
    }
   ],
   "source": [
    "import os\n",
    "print(os.path.join('/Users/bhaskar/workspace/dip3/notebooks/examples', 'fact.py'))\n",
    "print(os.path.join('/Users/bhaskar/workspace/dip3/notebooks/examples/', 'fact.py'))\n",
    "print(os.path.expanduser('~'))\n",
    "print(os.path.join(os.path.expanduser('~'), 'workspace', 'dip3', 'notebooks', 'examples', 'fact.py'))"
   ]
  },
  {
   "cell_type": "code",
   "execution_count": 20,
   "metadata": {},
   "outputs": [
    {
     "data": {
      "text/plain": [
       "('/Users/bhaskar/workspace/dip3/notebooks/examples', 'fact.py')"
      ]
     },
     "execution_count": 20,
     "metadata": {},
     "output_type": "execute_result"
    }
   ],
   "source": [
    "import os\n",
    "pathname: str = \"/Users/bhaskar/workspace/dip3/notebooks/examples/fact.py\"\n",
    "os.path.split(pathname)"
   ]
  },
  {
   "cell_type": "code",
   "execution_count": 22,
   "metadata": {},
   "outputs": [
    {
     "name": "stdout",
     "output_type": "stream",
     "text": [
      "/Users/bhaskar/workspace/dip3/notebooks/examples\n",
      "fact.py\n"
     ]
    }
   ],
   "source": [
    "(dirname, fname) = os.path.split(pathname)\n",
    "print(dirname)\n",
    "print(fname)"
   ]
  },
  {
   "cell_type": "code",
   "execution_count": 24,
   "metadata": {},
   "outputs": [],
   "source": [
    "(name, ext) = os.path.splitext(fname)"
   ]
  },
  {
   "cell_type": "code",
   "execution_count": 25,
   "metadata": {},
   "outputs": [
    {
     "data": {
      "text/plain": [
       "'fact'"
      ]
     },
     "execution_count": 25,
     "metadata": {},
     "output_type": "execute_result"
    }
   ],
   "source": [
    "name"
   ]
  },
  {
   "cell_type": "code",
   "execution_count": 26,
   "metadata": {},
   "outputs": [
    {
     "data": {
      "text/plain": [
       "'.py'"
      ]
     },
     "execution_count": 26,
     "metadata": {},
     "output_type": "execute_result"
    }
   ],
   "source": [
    "ext"
   ]
  },
  {
   "cell_type": "markdown",
   "metadata": {},
   "source": [
    "**Listing Directories**\n",
    "\n",
    "The `glob` module is another tool in the Python standard library. It's an easy way to get the contents of a directory programmatically, and it uses the sort of wildcards that you may alredy be familiar with from working on the commmand line."
   ]
  },
  {
   "cell_type": "code",
   "execution_count": 31,
   "metadata": {},
   "outputs": [
    {
     "data": {
      "text/plain": [
       "['examples/fact.py', 'examples/__init__.py']"
      ]
     },
     "execution_count": 31,
     "metadata": {},
     "output_type": "execute_result"
    }
   ],
   "source": [
    "import glob\n",
    "glob.glob(\"examples/*.py\")"
   ]
  },
  {
   "cell_type": "markdown",
   "metadata": {},
   "source": [
    "**Getting file metadata**\n",
    "\n",
    "Every modern file system stores metadata about each file (stat system call). Python provides a single `API` to access this metadata."
   ]
  },
  {
   "cell_type": "code",
   "execution_count": 32,
   "metadata": {},
   "outputs": [
    {
     "data": {
      "text/plain": [
       "time.struct_time(tm_year=2020, tm_mon=12, tm_mday=5, tm_hour=5, tm_min=59, tm_sec=22, tm_wday=5, tm_yday=340, tm_isdst=0)"
      ]
     },
     "execution_count": 32,
     "metadata": {},
     "output_type": "execute_result"
    }
   ],
   "source": [
    "import os\n",
    "import time\n",
    "metadata = os.stat(\"examples/fact.py\")\n",
    "time.localtime(metadata.st_mtime)"
   ]
  },
  {
   "cell_type": "code",
   "execution_count": 33,
   "metadata": {
    "scrolled": true
   },
   "outputs": [
    {
     "data": {
      "text/plain": [
       "os.stat_result(st_mode=33188, st_ino=15887523, st_dev=16777221, st_nlink=1, st_uid=501, st_gid=20, st_size=167, st_atime=1607165964, st_mtime=1607165962, st_ctime=1607165962)"
      ]
     },
     "execution_count": 33,
     "metadata": {},
     "output_type": "execute_result"
    }
   ],
   "source": [
    "metadata"
   ]
  },
  {
   "cell_type": "markdown",
   "metadata": {},
   "source": [
    "#### List Comprehensions\n",
    "\n",
    "A list comprehension provides a compact way of _mapping_ a list into another by applying a function to each of the elements of the list.\n",
    "\n",
    "A list comprehension can use *any* Python expression"
   ]
  },
  {
   "cell_type": "code",
   "execution_count": 39,
   "metadata": {},
   "outputs": [
    {
     "data": {
      "text/plain": [
       "[2, 18, 16, 8]"
      ]
     },
     "execution_count": 39,
     "metadata": {},
     "output_type": "execute_result"
    }
   ],
   "source": [
    "a_list = [1, 9, 8, 4]\n",
    "[elem * 2 for elem in a_list]"
   ]
  },
  {
   "cell_type": "markdown",
   "metadata": {},
   "source": [
    "`elem` is assigned the value of each element of the list, which is multiplied by 2"
   ]
  },
  {
   "cell_type": "code",
   "execution_count": 40,
   "metadata": {},
   "outputs": [
    {
     "data": {
      "text/plain": [
       "[1, 9, 8, 4]"
      ]
     },
     "execution_count": 40,
     "metadata": {},
     "output_type": "execute_result"
    }
   ],
   "source": [
    "a_list"
   ]
  },
  {
   "cell_type": "markdown",
   "metadata": {},
   "source": [
    "The original list is unmodified"
   ]
  },
  {
   "cell_type": "code",
   "execution_count": 41,
   "metadata": {},
   "outputs": [
    {
     "data": {
      "text/plain": [
       "[2, 18, 16, 8]"
      ]
     },
     "execution_count": 41,
     "metadata": {},
     "output_type": "execute_result"
    }
   ],
   "source": [
    "a_list = [elem * 2 for elem in a_list]\n",
    "a_list"
   ]
  },
  {
   "cell_type": "markdown",
   "metadata": {},
   "source": [
    "Assign the result of the for comprehension to a variable. It is safe to reassign to the list that is being modified"
   ]
  },
  {
   "cell_type": "code",
   "execution_count": 50,
   "metadata": {},
   "outputs": [
    {
     "data": {
      "text/plain": [
       "['/Users/bhaskar/workspace/dip3/notebooks/examples/fact.py',\n",
       " '/Users/bhaskar/workspace/dip3/notebooks/examples/__init__.py']"
      ]
     },
     "execution_count": 50,
     "metadata": {},
     "output_type": "execute_result"
    }
   ],
   "source": [
    "import os\n",
    "import glob\n",
    "[os.path.realpath(f) for f in glob.glob(\"*/*.py\")]"
   ]
  },
  {
   "cell_type": "markdown",
   "metadata": {},
   "source": [
    "Any valid python expression can be used in a for comprehension including a function call.\n",
    "\n",
    "List comprehensions can also filter items, producing a result that can be smaller than the original."
   ]
  },
  {
   "cell_type": "code",
   "execution_count": 53,
   "metadata": {},
   "outputs": [
    {
     "data": {
      "text/plain": [
       "['/Users/bhaskar/workspace/dip3/notebooks/examples/fact.py']"
      ]
     },
     "execution_count": 53,
     "metadata": {},
     "output_type": "execute_result"
    }
   ],
   "source": [
    "import os, glob\n",
    "[os.path.realpath(f) for f in glob.glob(\"*/*.py\") if os.stat(f).st_size > 0]"
   ]
  },
  {
   "cell_type": "markdown",
   "metadata": {},
   "source": [
    "All the examples of list comprehensions so far have featured simple expressions — multiply a number by a constant, call a single function, or simply return the original list item (after filtering). But there’s no limit to how complex a list comprehension can be."
   ]
  },
  {
   "cell_type": "code",
   "execution_count": 58,
   "metadata": {},
   "outputs": [
    {
     "data": {
      "text/plain": [
       "[(167, '/Users/bhaskar/workspace/dip3/notebooks/examples/fact.py'),\n",
       " (0, '/Users/bhaskar/workspace/dip3/notebooks/examples/__init__.py'),\n",
       " (128, '/Users/bhaskar/workspace/dip3/notebooks/examples/__pycache__')]"
      ]
     },
     "execution_count": 58,
     "metadata": {},
     "output_type": "execute_result"
    }
   ],
   "source": [
    "import os, glob\n",
    "\n",
    "[(os.stat(f).st_size, os.path.realpath(f)) for f in glob.glob(\"*/**\")]"
   ]
  },
  {
   "cell_type": "markdown",
   "metadata": {},
   "source": [
    "#### Dictionary comprehensions\n",
    "\n",
    "A dictionary comprehension is like a list comprehension, but it constructs a dictionary instead of a list"
   ]
  },
  {
   "cell_type": "code",
   "execution_count": 60,
   "metadata": {},
   "outputs": [],
   "source": [
    "import os, glob\n",
    "\n",
    "a_list = [(f, os.stat(f)) for f in glob.glob(\"*/*.py\")]"
   ]
  },
  {
   "cell_type": "markdown",
   "metadata": {},
   "source": [
    "The above is not a dictionary, it is a list if tuples"
   ]
  },
  {
   "cell_type": "code",
   "execution_count": 61,
   "metadata": {},
   "outputs": [
    {
     "data": {
      "text/plain": [
       "list"
      ]
     },
     "execution_count": 61,
     "metadata": {},
     "output_type": "execute_result"
    }
   ],
   "source": [
    "type(a_list)"
   ]
  },
  {
   "cell_type": "code",
   "execution_count": 62,
   "metadata": {},
   "outputs": [],
   "source": [
    "import os, glob\n",
    "a_dict = {f:os.stat(f) for f in glob.glob(\"*.*.py\")}"
   ]
  },
  {
   "cell_type": "markdown",
   "metadata": {},
   "source": [
    "This is a dictionary comprehension. The syntax is similar to a list comprehension, with two differences. First, it is enclosed in curly braces instad of square brackets. Second, instead of returning a single expression, it return two expressions separated by a `:`. \n",
    "\n",
    "The expressions before the colon (`f` in this example) is the key, the expression after the colo (`os.stat(f)` in this example) is the value.\n",
    "\n",
    "Like list comprehensions, you can inclue an `if` clause in a dictionary comprehension to filter the input sequence based on an expression which is evaluated with each item."
   ]
  },
  {
   "cell_type": "code",
   "execution_count": 71,
   "metadata": {},
   "outputs": [
    {
     "data": {
      "text/plain": [
       "{'/Users/bhaskar/workspace/dip3/notebooks/examples/fact.py': 167}"
      ]
     },
     "execution_count": 71,
     "metadata": {},
     "output_type": "execute_result"
    }
   ],
   "source": [
    "import os, glob\n",
    "\n",
    "metadict = {f:os.stat(f) for f in glob.glob(\"*/*.py\")}\n",
    "{os.path.realpath(f):md.st_size for f, md in metadict.items() if md.st_size > 0}"
   ]
  },
  {
   "cell_type": "markdown",
   "metadata": {},
   "source": [
    "In the above example, when looping through dictionarys, the key and corresponding value can be retrieve at the same time using the `items()` method"
   ]
  },
  {
   "cell_type": "code",
   "execution_count": 77,
   "metadata": {},
   "outputs": [
    {
     "name": "stdout",
     "output_type": "stream",
     "text": [
      "<class 'set'>\n",
      "<class 'list'>\n"
     ]
    }
   ],
   "source": [
    "print(type({x for x in metadict}))\n",
    "print(type([x for x in metadict]))"
   ]
  },
  {
   "cell_type": "markdown",
   "metadata": {},
   "source": [
    "Using `for` statement on a `dict` returns in looping only the `key`. The type of for comprehension (`list` or `set`) will govern the type of returned data structure.\n",
    "\n",
    "Tip: Use a dict comprehension to invert a diction"
   ]
  },
  {
   "cell_type": "code",
   "execution_count": 79,
   "metadata": {},
   "outputs": [
    {
     "data": {
      "text/plain": [
       "{10: 1, 20: 2, 30: 3}"
      ]
     },
     "execution_count": 79,
     "metadata": {},
     "output_type": "execute_result"
    }
   ],
   "source": [
    "a_dict = { 1: 10, 2:20, 3: 30}\n",
    "{value:key for key, value in a_dict.items()}"
   ]
  },
  {
   "cell_type": "markdown",
   "metadata": {},
   "source": [
    "#### Set Comprehensions\n",
    "\n",
    "We've seen an example of a set comprehension above. The syntax is similar to dictionary comprehensions. The only difference is that sets have just values instead of key value pairs"
   ]
  },
  {
   "cell_type": "code",
   "execution_count": 84,
   "metadata": {},
   "outputs": [
    {
     "data": {
      "text/plain": [
       "{0, 1, 2, 3, 4, 5, 6, 7, 8, 9}"
      ]
     },
     "execution_count": 84,
     "metadata": {},
     "output_type": "execute_result"
    }
   ],
   "source": [
    "a_set = set(range(10))\n",
    "a_set"
   ]
  },
  {
   "cell_type": "code",
   "execution_count": 83,
   "metadata": {},
   "outputs": [
    {
     "data": {
      "text/plain": [
       "{0, 2, 4, 6, 8}"
      ]
     },
     "execution_count": 83,
     "metadata": {},
     "output_type": "execute_result"
    }
   ],
   "source": [
    "evens = {v for v in a_set if v % 2 == 0}\n",
    "evens"
   ]
  },
  {
   "cell_type": "code",
   "execution_count": 86,
   "metadata": {},
   "outputs": [
    {
     "data": {
      "text/plain": [
       "{0, 1, 4, 9, 16, 25, 36, 49, 64, 81}"
      ]
     },
     "execution_count": 86,
     "metadata": {},
     "output_type": "execute_result"
    }
   ],
   "source": [
    "squared = {v ** 2 for v in a_set}\n",
    "squared"
   ]
  },
  {
   "cell_type": "code",
   "execution_count": 88,
   "metadata": {},
   "outputs": [
    {
     "data": {
      "text/plain": [
       "{1, 2, 4, 8, 16, 32, 64, 128, 256, 512}"
      ]
     },
     "execution_count": 88,
     "metadata": {},
     "output_type": "execute_result"
    }
   ],
   "source": [
    "powered = {2**v for v in range(10)}\n",
    "powered"
   ]
  },
  {
   "cell_type": "markdown",
   "metadata": {},
   "source": [
    "set comprehensions like dictionary and list comprehensions do **not** need to take a set as input, they can take any sequence.\n",
    "\n",
    "List list and dictionary comprehensions, set comprehensions can include an if clause."
   ]
  }
 ],
 "metadata": {
  "kernelspec": {
   "display_name": "Python 3",
   "language": "python",
   "name": "python3"
  },
  "language_info": {
   "codemirror_mode": {
    "name": "ipython",
    "version": 3
   },
   "file_extension": ".py",
   "mimetype": "text/x-python",
   "name": "python",
   "nbconvert_exporter": "python",
   "pygments_lexer": "ipython3",
   "version": "3.8.5"
  }
 },
 "nbformat": 4,
 "nbformat_minor": 4
}
