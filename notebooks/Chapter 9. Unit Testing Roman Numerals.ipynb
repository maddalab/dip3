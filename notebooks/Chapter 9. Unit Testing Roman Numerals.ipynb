{
 "cells": [
  {
   "cell_type": "code",
   "execution_count": 63,
   "metadata": {},
   "outputs": [
    {
     "name": "stdout",
     "output_type": "stream",
     "text": [
      "The ipython_unittest extension is already loaded. To reload it, use:\n",
      "  %reload_ext ipython_unittest\n"
     ]
    }
   ],
   "source": [
    "%load_ext ipython_unittest"
   ]
  },
  {
   "cell_type": "markdown",
   "metadata": {},
   "source": [
    "##### Diving In\n",
    "\n",
    "In the notebook on Chapter 9 we came up with our own example to unit test. We return back to the text book.\n",
    "\n",
    "\n",
    "Lets start with a skeleton / interface of the code we want to test."
   ]
  },
  {
   "cell_type": "code",
   "execution_count": 64,
   "metadata": {},
   "outputs": [],
   "source": [
    "class Romans:\n",
    "    \n",
    "    def to_roman(self, n):\n",
    "        '''convert integer to Roman numeral'''\n",
    "        pass\n",
    "    \n",
    "    def from_roman(self, r):\n",
    "        '''convert Roman numeral to integer'''\n",
    "        pass"
   ]
  },
  {
   "cell_type": "markdown",
   "metadata": {},
   "source": [
    "A unit test that tests the expected behaviur with a set of known values"
   ]
  },
  {
   "cell_type": "code",
   "execution_count": 65,
   "metadata": {},
   "outputs": [
    {
     "data": {
      "application/unittest.status+json": {
       "color": "yellow",
       "message": "",
       "previous": 0
      },
      "text/plain": []
     },
     "metadata": {},
     "output_type": "display_data"
    },
    {
     "data": {
      "application/unittest.status+json": {
       "color": "salmon",
       "message": "F\n======================================================================\nFAIL: test_to_roman_known_values (__main__.RomansTest)\nto_roman should give known results with known input\n----------------------------------------------------------------------\nTraceback (most recent call last):\n  File \"Cell Tests\", line 66, in test_to_roman_known_values\nAssertionError: 'I' != None\n\n----------------------------------------------------------------------\nRan 1 test in 0.007s\n\nFAILED (failures=1)\n",
       "previous": 0
      },
      "text/plain": [
       "Fail"
      ]
     },
     "metadata": {},
     "output_type": "display_data"
    },
    {
     "name": "stdout",
     "output_type": "stream",
     "text": [
      "F\n",
      "======================================================================\n",
      "FAIL: test_to_roman_known_values (__main__.RomansTest)\n",
      "to_roman should give known results with known input\n",
      "----------------------------------------------------------------------\n",
      "Traceback (most recent call last):\n",
      "  File \"Cell Tests\", line 66, in test_to_roman_known_values\n",
      "AssertionError: 'I' != None\n",
      "\n",
      "----------------------------------------------------------------------\n",
      "Ran 1 test in 0.007s\n",
      "\n",
      "FAILED (failures=1)\n"
     ]
    },
    {
     "data": {
      "text/plain": [
       "<unittest.runner.TextTestResult run=1 errors=0 failures=1>"
      ]
     },
     "execution_count": 65,
     "metadata": {},
     "output_type": "execute_result"
    }
   ],
   "source": [
    "%%unittest_main\n",
    "\n",
    "class RomansTest(unittest.TestCase):\n",
    "    known_values = ( (1, 'I'),\n",
    "                     (2, 'II'),\n",
    "                     (3, 'III'),\n",
    "                     (4, 'IV'),\n",
    "                     (5, 'V'),\n",
    "                     (6, 'VI'),\n",
    "                     (7, 'VII'),\n",
    "                     (8, 'VIII'),\n",
    "                     (9, 'IX'),\n",
    "                     (10, 'X'),\n",
    "                     (50, 'L'),\n",
    "                     (100, 'C'),\n",
    "                     (500, 'D'),\n",
    "                     (1000, 'M'),\n",
    "                     (31, 'XXXI'),\n",
    "                     (148, 'CXLVIII'),\n",
    "                     (294, 'CCXCIV'),\n",
    "                     (312, 'CCCXII'),\n",
    "                     (421, 'CDXXI'),\n",
    "                     (528, 'DXXVIII'),\n",
    "                     (621, 'DCXXI'),\n",
    "                     (782, 'DCCLXXXII'),\n",
    "                     (870, 'DCCCLXX'),\n",
    "                     (941, 'CMXLI'),\n",
    "                     (1043, 'MXLIII'),\n",
    "                     (1110, 'MCX'),\n",
    "                     (1226, 'MCCXXVI'),\n",
    "                     (1301, 'MCCCI'),\n",
    "                     (1485, 'MCDLXXXV'),\n",
    "                     (1509, 'MDIX'),\n",
    "                     (1607, 'MDCVII'),\n",
    "                     (1754, 'MDCCLIV'),\n",
    "                     (1832, 'MDCCCXXXII'),\n",
    "                     (1993, 'MCMXCIII'),\n",
    "                     (2074, 'MMLXXIV'),\n",
    "                     (2152, 'MMCLII'),\n",
    "                     (2212, 'MMCCXII'),\n",
    "                     (2343, 'MMCCCXLIII'),\n",
    "                     (2499, 'MMCDXCIX'),\n",
    "                     (2574, 'MMDLXXIV'),\n",
    "                     (2646, 'MMDCXLVI'),\n",
    "                     (2723, 'MMDCCXXIII'),\n",
    "                     (2892, 'MMDCCCXCII'),\n",
    "                     (2975, 'MMCMLXXV'),\n",
    "                     (3051, 'MMMLI'),\n",
    "                     (3185, 'MMMCLXXXV'),\n",
    "                     (3250, 'MMMCCL'),\n",
    "                     (3313, 'MMMCCCXIII'),\n",
    "                     (3408, 'MMMCDVIII'),\n",
    "                     (3501, 'MMMDI'),\n",
    "                     (3610, 'MMMDCX'),\n",
    "                     (3743, 'MMMDCCXLIII'),\n",
    "                     (3844, 'MMMDCCCXLIV'),\n",
    "                     (3888, 'MMMDCCCLXXXVIII'),\n",
    "                     (3940, 'MMMCMXL'),\n",
    "                     (3999, 'MMMCMXCIX'))\n",
    "    \n",
    "    \n",
    "    def test_to_roman_known_values(self):\n",
    "        '''to_roman should give known results with known input'''\n",
    "        \n",
    "        converter = Romans()\n",
    "        for number, roman in self.known_values:\n",
    "            self.assertEqual(roman, converter.to_roman(number))"
   ]
  },
  {
   "cell_type": "markdown",
   "metadata": {},
   "source": [
    "Having demonstrated the failure case lets implement the `to_roman` method."
   ]
  },
  {
   "cell_type": "code",
   "execution_count": 66,
   "metadata": {},
   "outputs": [],
   "source": [
    "class Romans:\n",
    "    roman_numeral_map = (('M',  1000),\n",
    "                         ('CM', 900),\n",
    "                         ('D',  500),\n",
    "                         ('CD', 400),\n",
    "                         ('C',  100),\n",
    "                         ('XC', 90),\n",
    "                         ('L',  50),\n",
    "                         ('XL', 40),\n",
    "                         ('X',  10),\n",
    "                         ('IX', 9),\n",
    "                         ('V',  5),\n",
    "                         ('IV', 4),\n",
    "                         ('I',  1))\n",
    "\n",
    "    def to_roman(self, n):\n",
    "        '''convert integer to Roman numeral'''\n",
    "        \n",
    "        result = ''\n",
    "        for roman, number in self.roman_numeral_map:\n",
    "            while n >= number:\n",
    "                result += roman\n",
    "                n -= number\n",
    "                \n",
    "        return result\n",
    "                \n",
    "    def from_roman(self, r):\n",
    "        '''convert Roman numeral to integer'''\n",
    "        pass"
   ]
  },
  {
   "cell_type": "markdown",
   "metadata": {},
   "source": [
    "Retry the unit test, we expect it to succeed now"
   ]
  },
  {
   "cell_type": "code",
   "execution_count": 67,
   "metadata": {},
   "outputs": [
    {
     "data": {
      "application/unittest.status+json": {
       "color": "yellow",
       "message": "",
       "previous": 0
      },
      "text/plain": []
     },
     "metadata": {},
     "output_type": "display_data"
    },
    {
     "data": {
      "application/unittest.status+json": {
       "color": "lightgreen",
       "message": ".\n----------------------------------------------------------------------\nRan 1 test in 0.000s\n\nOK\n",
       "previous": 0
      },
      "text/plain": [
       "Success"
      ]
     },
     "metadata": {},
     "output_type": "display_data"
    },
    {
     "name": "stdout",
     "output_type": "stream",
     "text": [
      ".\n",
      "----------------------------------------------------------------------\n",
      "Ran 1 test in 0.000s\n",
      "\n",
      "OK\n"
     ]
    },
    {
     "data": {
      "text/plain": [
       "<unittest.runner.TextTestResult run=1 errors=0 failures=0>"
      ]
     },
     "execution_count": 67,
     "metadata": {},
     "output_type": "execute_result"
    }
   ],
   "source": [
    "%%unittest_main\n",
    "\n",
    "class RomansTest(unittest.TestCase):\n",
    "    known_values = ( (1, 'I'),\n",
    "                     (2, 'II'),\n",
    "                     (3, 'III'),\n",
    "                     (4, 'IV'),\n",
    "                     (5, 'V'),\n",
    "                     (6, 'VI'),\n",
    "                     (7, 'VII'),\n",
    "                     (8, 'VIII'),\n",
    "                     (9, 'IX'),\n",
    "                     (10, 'X'),\n",
    "                     (50, 'L'),\n",
    "                     (100, 'C'),\n",
    "                     (500, 'D'),\n",
    "                     (1000, 'M'),\n",
    "                     (31, 'XXXI'),\n",
    "                     (148, 'CXLVIII'),\n",
    "                     (294, 'CCXCIV'),\n",
    "                     (312, 'CCCXII'),\n",
    "                     (421, 'CDXXI'),\n",
    "                     (528, 'DXXVIII'),\n",
    "                     (621, 'DCXXI'),\n",
    "                     (782, 'DCCLXXXII'),\n",
    "                     (870, 'DCCCLXX'),\n",
    "                     (941, 'CMXLI'),\n",
    "                     (1043, 'MXLIII'),\n",
    "                     (1110, 'MCX'),\n",
    "                     (1226, 'MCCXXVI'),\n",
    "                     (1301, 'MCCCI'),\n",
    "                     (1485, 'MCDLXXXV'),\n",
    "                     (1509, 'MDIX'),\n",
    "                     (1607, 'MDCVII'),\n",
    "                     (1754, 'MDCCLIV'),\n",
    "                     (1832, 'MDCCCXXXII'),\n",
    "                     (1993, 'MCMXCIII'),\n",
    "                     (2074, 'MMLXXIV'),\n",
    "                     (2152, 'MMCLII'),\n",
    "                     (2212, 'MMCCXII'),\n",
    "                     (2343, 'MMCCCXLIII'),\n",
    "                     (2499, 'MMCDXCIX'),\n",
    "                     (2574, 'MMDLXXIV'),\n",
    "                     (2646, 'MMDCXLVI'),\n",
    "                     (2723, 'MMDCCXXIII'),\n",
    "                     (2892, 'MMDCCCXCII'),\n",
    "                     (2975, 'MMCMLXXV'),\n",
    "                     (3051, 'MMMLI'),\n",
    "                     (3185, 'MMMCLXXXV'),\n",
    "                     (3250, 'MMMCCL'),\n",
    "                     (3313, 'MMMCCCXIII'),\n",
    "                     (3408, 'MMMCDVIII'),\n",
    "                     (3501, 'MMMDI'),\n",
    "                     (3610, 'MMMDCX'),\n",
    "                     (3743, 'MMMDCCXLIII'),\n",
    "                     (3844, 'MMMDCCCXLIV'),\n",
    "                     (3888, 'MMMDCCCLXXXVIII'),\n",
    "                     (3940, 'MMMCMXL'),\n",
    "                     (3999, 'MMMCMXCIX'))\n",
    "    \n",
    "    \n",
    "    def test_to_roman_known_values(self):\n",
    "        '''to_roman should give known results with known input'''\n",
    "        \n",
    "        converter = Romans()\n",
    "        for number, roman in self.known_values:\n",
    "            self.assertEqual(roman, converter.to_roman(number))"
   ]
  },
  {
   "cell_type": "markdown",
   "metadata": {},
   "source": [
    "With that simple test we succeessfully verified a large count of known roman numerals that we hand crafted using out awareness of edge cases.\n",
    "\n",
    "Lets expand our tests to include invalid tests. Lets design the function to throw an error when the input in out of range."
   ]
  },
  {
   "cell_type": "code",
   "execution_count": 68,
   "metadata": {},
   "outputs": [],
   "source": [
    "class OutOfRangeError(ValueError):\n",
    "    pass"
   ]
  },
  {
   "cell_type": "code",
   "execution_count": 69,
   "metadata": {},
   "outputs": [
    {
     "data": {
      "application/unittest.status+json": {
       "color": "yellow",
       "message": "",
       "previous": 0
      },
      "text/plain": []
     },
     "metadata": {},
     "output_type": "display_data"
    },
    {
     "data": {
      "application/unittest.status+json": {
       "color": "salmon",
       "message": "F.\n======================================================================\nFAIL: test_invalid_numerals (__main__.RomansTest)\nto_roman must fail for large input\n----------------------------------------------------------------------\nTraceback (most recent call last):\n  File \"Cell Tests\", line 71, in test_invalid_numerals\nAssertionError: OutOfRangeError not raised by to_roman\n\n----------------------------------------------------------------------\nRan 2 tests in 0.001s\n\nFAILED (failures=1)\n",
       "previous": 0
      },
      "text/plain": [
       "Fail"
      ]
     },
     "metadata": {},
     "output_type": "display_data"
    },
    {
     "name": "stdout",
     "output_type": "stream",
     "text": [
      "F.\n",
      "======================================================================\n",
      "FAIL: test_invalid_numerals (__main__.RomansTest)\n",
      "to_roman must fail for large input\n",
      "----------------------------------------------------------------------\n",
      "Traceback (most recent call last):\n",
      "  File \"Cell Tests\", line 71, in test_invalid_numerals\n",
      "AssertionError: OutOfRangeError not raised by to_roman\n",
      "\n",
      "----------------------------------------------------------------------\n",
      "Ran 2 tests in 0.001s\n",
      "\n",
      "FAILED (failures=1)\n"
     ]
    },
    {
     "data": {
      "text/plain": [
       "<unittest.runner.TextTestResult run=2 errors=0 failures=1>"
      ]
     },
     "execution_count": 69,
     "metadata": {},
     "output_type": "execute_result"
    }
   ],
   "source": [
    "%%unittest_main\n",
    "\n",
    "class RomansTest(unittest.TestCase):\n",
    "    known_values = ( (1, 'I'),\n",
    "                     (2, 'II'),\n",
    "                     (3, 'III'),\n",
    "                     (4, 'IV'),\n",
    "                     (5, 'V'),\n",
    "                     (6, 'VI'),\n",
    "                     (7, 'VII'),\n",
    "                     (8, 'VIII'),\n",
    "                     (9, 'IX'),\n",
    "                     (10, 'X'),\n",
    "                     (50, 'L'),\n",
    "                     (100, 'C'),\n",
    "                     (500, 'D'),\n",
    "                     (1000, 'M'),\n",
    "                     (31, 'XXXI'),\n",
    "                     (148, 'CXLVIII'),\n",
    "                     (294, 'CCXCIV'),\n",
    "                     (312, 'CCCXII'),\n",
    "                     (421, 'CDXXI'),\n",
    "                     (528, 'DXXVIII'),\n",
    "                     (621, 'DCXXI'),\n",
    "                     (782, 'DCCLXXXII'),\n",
    "                     (870, 'DCCCLXX'),\n",
    "                     (941, 'CMXLI'),\n",
    "                     (1043, 'MXLIII'),\n",
    "                     (1110, 'MCX'),\n",
    "                     (1226, 'MCCXXVI'),\n",
    "                     (1301, 'MCCCI'),\n",
    "                     (1485, 'MCDLXXXV'),\n",
    "                     (1509, 'MDIX'),\n",
    "                     (1607, 'MDCVII'),\n",
    "                     (1754, 'MDCCLIV'),\n",
    "                     (1832, 'MDCCCXXXII'),\n",
    "                     (1993, 'MCMXCIII'),\n",
    "                     (2074, 'MMLXXIV'),\n",
    "                     (2152, 'MMCLII'),\n",
    "                     (2212, 'MMCCXII'),\n",
    "                     (2343, 'MMCCCXLIII'),\n",
    "                     (2499, 'MMCDXCIX'),\n",
    "                     (2574, 'MMDLXXIV'),\n",
    "                     (2646, 'MMDCXLVI'),\n",
    "                     (2723, 'MMDCCXXIII'),\n",
    "                     (2892, 'MMDCCCXCII'),\n",
    "                     (2975, 'MMCMLXXV'),\n",
    "                     (3051, 'MMMLI'),\n",
    "                     (3185, 'MMMCLXXXV'),\n",
    "                     (3250, 'MMMCCL'),\n",
    "                     (3313, 'MMMCCCXIII'),\n",
    "                     (3408, 'MMMCDVIII'),\n",
    "                     (3501, 'MMMDI'),\n",
    "                     (3610, 'MMMDCX'),\n",
    "                     (3743, 'MMMDCCXLIII'),\n",
    "                     (3844, 'MMMDCCCXLIV'),\n",
    "                     (3888, 'MMMDCCCLXXXVIII'),\n",
    "                     (3940, 'MMMCMXL'),\n",
    "                     (3999, 'MMMCMXCIX'))\n",
    "    \n",
    "    converter = Romans()\n",
    "    \n",
    "    def test_to_roman_known_values(self):\n",
    "        '''to_roman should give known results with known input'''\n",
    "        \n",
    "        for number, roman in self.known_values:\n",
    "            self.assertEqual(roman, self.converter.to_roman(number))\n",
    "            \n",
    "    def test_invalid_numerals(self):\n",
    "        '''to_roman must fail for large input'''\n",
    "        \n",
    "        self.assertRaises(OutOfRangeError, self.converter.to_roman, 4000)"
   ]
  },
  {
   "cell_type": "markdown",
   "metadata": {},
   "source": [
    "We do not get an error since the implementation does not yet handle out of range numbers, lets take care of that"
   ]
  },
  {
   "cell_type": "code",
   "execution_count": 70,
   "metadata": {},
   "outputs": [],
   "source": [
    "class Romans:\n",
    "    roman_numeral_map = (('M',  1000),\n",
    "                         ('CM', 900),\n",
    "                         ('D',  500),\n",
    "                         ('CD', 400),\n",
    "                         ('C',  100),\n",
    "                         ('XC', 90),\n",
    "                         ('L',  50),\n",
    "                         ('XL', 40),\n",
    "                         ('X',  10),\n",
    "                         ('IX', 9),\n",
    "                         ('V',  5),\n",
    "                         ('IV', 4),\n",
    "                         ('I',  1))\n",
    "\n",
    "    def to_roman(self, n):\n",
    "        '''convert integer to Roman numeral'''\n",
    "        \n",
    "        if n > 3999:\n",
    "            raise OutOfRangeError('number out of range (must be less than 4000)')\n",
    "        \n",
    "        result = ''\n",
    "        for roman, number in self.roman_numeral_map:\n",
    "            while n >= number:\n",
    "                result += roman\n",
    "                n -= number\n",
    "                \n",
    "        return result\n",
    "                \n",
    "    def from_roman(self, r):\n",
    "        '''convert Roman numeral to integer'''\n",
    "        pass"
   ]
  },
  {
   "cell_type": "code",
   "execution_count": 71,
   "metadata": {},
   "outputs": [
    {
     "data": {
      "application/unittest.status+json": {
       "color": "yellow",
       "message": "",
       "previous": 0
      },
      "text/plain": []
     },
     "metadata": {},
     "output_type": "display_data"
    },
    {
     "data": {
      "application/unittest.status+json": {
       "color": "lightgreen",
       "message": "..\n----------------------------------------------------------------------\nRan 2 tests in 0.000s\n\nOK\n",
       "previous": 0
      },
      "text/plain": [
       "Success"
      ]
     },
     "metadata": {},
     "output_type": "display_data"
    },
    {
     "name": "stdout",
     "output_type": "stream",
     "text": [
      "..\n",
      "----------------------------------------------------------------------\n",
      "Ran 2 tests in 0.000s\n",
      "\n",
      "OK\n"
     ]
    },
    {
     "data": {
      "text/plain": [
       "<unittest.runner.TextTestResult run=2 errors=0 failures=0>"
      ]
     },
     "execution_count": 71,
     "metadata": {},
     "output_type": "execute_result"
    }
   ],
   "source": [
    "%%unittest_main\n",
    "\n",
    "class RomansTest(unittest.TestCase):\n",
    "    known_values = ( (1, 'I'),\n",
    "                     (2, 'II'),\n",
    "                     (3, 'III'),\n",
    "                     (4, 'IV'),\n",
    "                     (5, 'V'),\n",
    "                     (6, 'VI'),\n",
    "                     (7, 'VII'),\n",
    "                     (8, 'VIII'),\n",
    "                     (9, 'IX'),\n",
    "                     (10, 'X'),\n",
    "                     (50, 'L'),\n",
    "                     (100, 'C'),\n",
    "                     (500, 'D'),\n",
    "                     (1000, 'M'),\n",
    "                     (31, 'XXXI'),\n",
    "                     (148, 'CXLVIII'),\n",
    "                     (294, 'CCXCIV'),\n",
    "                     (312, 'CCCXII'),\n",
    "                     (421, 'CDXXI'),\n",
    "                     (528, 'DXXVIII'),\n",
    "                     (621, 'DCXXI'),\n",
    "                     (782, 'DCCLXXXII'),\n",
    "                     (870, 'DCCCLXX'),\n",
    "                     (941, 'CMXLI'),\n",
    "                     (1043, 'MXLIII'),\n",
    "                     (1110, 'MCX'),\n",
    "                     (1226, 'MCCXXVI'),\n",
    "                     (1301, 'MCCCI'),\n",
    "                     (1485, 'MCDLXXXV'),\n",
    "                     (1509, 'MDIX'),\n",
    "                     (1607, 'MDCVII'),\n",
    "                     (1754, 'MDCCLIV'),\n",
    "                     (1832, 'MDCCCXXXII'),\n",
    "                     (1993, 'MCMXCIII'),\n",
    "                     (2074, 'MMLXXIV'),\n",
    "                     (2152, 'MMCLII'),\n",
    "                     (2212, 'MMCCXII'),\n",
    "                     (2343, 'MMCCCXLIII'),\n",
    "                     (2499, 'MMCDXCIX'),\n",
    "                     (2574, 'MMDLXXIV'),\n",
    "                     (2646, 'MMDCXLVI'),\n",
    "                     (2723, 'MMDCCXXIII'),\n",
    "                     (2892, 'MMDCCCXCII'),\n",
    "                     (2975, 'MMCMLXXV'),\n",
    "                     (3051, 'MMMLI'),\n",
    "                     (3185, 'MMMCLXXXV'),\n",
    "                     (3250, 'MMMCCL'),\n",
    "                     (3313, 'MMMCCCXIII'),\n",
    "                     (3408, 'MMMCDVIII'),\n",
    "                     (3501, 'MMMDI'),\n",
    "                     (3610, 'MMMDCX'),\n",
    "                     (3743, 'MMMDCCXLIII'),\n",
    "                     (3844, 'MMMDCCCXLIV'),\n",
    "                     (3888, 'MMMDCCCLXXXVIII'),\n",
    "                     (3940, 'MMMCMXL'),\n",
    "                     (3999, 'MMMCMXCIX'))\n",
    "    \n",
    "    converter = Romans()\n",
    "    \n",
    "    def test_to_roman_known_values(self):\n",
    "        '''to_roman should give known results with known input'''\n",
    "        \n",
    "        for number, roman in self.known_values:\n",
    "            self.assertEqual(roman, self.converter.to_roman(number))\n",
    "            \n",
    "    def test_invalid_numerals(self):\n",
    "        '''to_roman must fail for large input'''\n",
    "        \n",
    "        self.assertRaises(OutOfRangeError, self.converter.to_roman, 4000)"
   ]
  },
  {
   "cell_type": "markdown",
   "metadata": {},
   "source": [
    "Lets complete the test for checking for negative and zero number"
   ]
  },
  {
   "cell_type": "code",
   "execution_count": 72,
   "metadata": {},
   "outputs": [
    {
     "data": {
      "application/unittest.status+json": {
       "color": "yellow",
       "message": "",
       "previous": 0
      },
      "text/plain": []
     },
     "metadata": {},
     "output_type": "display_data"
    },
    {
     "data": {
      "application/unittest.status+json": {
       "color": "salmon",
       "message": ".F.F\n======================================================================\nFAIL: test_negative_number (__main__.RomansTest)\nto_roman must fail for negative numbers\n----------------------------------------------------------------------\nTraceback (most recent call last):\n  File \"Cell Tests\", line 79, in test_negative_number\nAssertionError: OutOfRangeError not raised by to_roman\n\n======================================================================\nFAIL: test_zero (__main__.RomansTest)\nto_roman must fail for zero\n----------------------------------------------------------------------\nTraceback (most recent call last):\n  File \"Cell Tests\", line 75, in test_zero\nAssertionError: OutOfRangeError not raised by to_roman\n\n----------------------------------------------------------------------\nRan 4 tests in 0.002s\n\nFAILED (failures=2)\n",
       "previous": 0
      },
      "text/plain": [
       "Fail"
      ]
     },
     "metadata": {},
     "output_type": "display_data"
    },
    {
     "name": "stdout",
     "output_type": "stream",
     "text": [
      ".F.F\n",
      "======================================================================\n",
      "FAIL: test_negative_number (__main__.RomansTest)\n",
      "to_roman must fail for negative numbers\n",
      "----------------------------------------------------------------------\n",
      "Traceback (most recent call last):\n",
      "  File \"Cell Tests\", line 79, in test_negative_number\n",
      "AssertionError: OutOfRangeError not raised by to_roman\n",
      "\n",
      "======================================================================\n",
      "FAIL: test_zero (__main__.RomansTest)\n",
      "to_roman must fail for zero\n",
      "----------------------------------------------------------------------\n",
      "Traceback (most recent call last):\n",
      "  File \"Cell Tests\", line 75, in test_zero\n",
      "AssertionError: OutOfRangeError not raised by to_roman\n",
      "\n",
      "----------------------------------------------------------------------\n",
      "Ran 4 tests in 0.002s\n",
      "\n",
      "FAILED (failures=2)\n"
     ]
    },
    {
     "data": {
      "text/plain": [
       "<unittest.runner.TextTestResult run=4 errors=0 failures=2>"
      ]
     },
     "execution_count": 72,
     "metadata": {},
     "output_type": "execute_result"
    }
   ],
   "source": [
    "%%unittest_main\n",
    "\n",
    "class RomansTest(unittest.TestCase):\n",
    "    known_values = ( (1, 'I'),\n",
    "                     (2, 'II'),\n",
    "                     (3, 'III'),\n",
    "                     (4, 'IV'),\n",
    "                     (5, 'V'),\n",
    "                     (6, 'VI'),\n",
    "                     (7, 'VII'),\n",
    "                     (8, 'VIII'),\n",
    "                     (9, 'IX'),\n",
    "                     (10, 'X'),\n",
    "                     (50, 'L'),\n",
    "                     (100, 'C'),\n",
    "                     (500, 'D'),\n",
    "                     (1000, 'M'),\n",
    "                     (31, 'XXXI'),\n",
    "                     (148, 'CXLVIII'),\n",
    "                     (294, 'CCXCIV'),\n",
    "                     (312, 'CCCXII'),\n",
    "                     (421, 'CDXXI'),\n",
    "                     (528, 'DXXVIII'),\n",
    "                     (621, 'DCXXI'),\n",
    "                     (782, 'DCCLXXXII'),\n",
    "                     (870, 'DCCCLXX'),\n",
    "                     (941, 'CMXLI'),\n",
    "                     (1043, 'MXLIII'),\n",
    "                     (1110, 'MCX'),\n",
    "                     (1226, 'MCCXXVI'),\n",
    "                     (1301, 'MCCCI'),\n",
    "                     (1485, 'MCDLXXXV'),\n",
    "                     (1509, 'MDIX'),\n",
    "                     (1607, 'MDCVII'),\n",
    "                     (1754, 'MDCCLIV'),\n",
    "                     (1832, 'MDCCCXXXII'),\n",
    "                     (1993, 'MCMXCIII'),\n",
    "                     (2074, 'MMLXXIV'),\n",
    "                     (2152, 'MMCLII'),\n",
    "                     (2212, 'MMCCXII'),\n",
    "                     (2343, 'MMCCCXLIII'),\n",
    "                     (2499, 'MMCDXCIX'),\n",
    "                     (2574, 'MMDLXXIV'),\n",
    "                     (2646, 'MMDCXLVI'),\n",
    "                     (2723, 'MMDCCXXIII'),\n",
    "                     (2892, 'MMDCCCXCII'),\n",
    "                     (2975, 'MMCMLXXV'),\n",
    "                     (3051, 'MMMLI'),\n",
    "                     (3185, 'MMMCLXXXV'),\n",
    "                     (3250, 'MMMCCL'),\n",
    "                     (3313, 'MMMCCCXIII'),\n",
    "                     (3408, 'MMMCDVIII'),\n",
    "                     (3501, 'MMMDI'),\n",
    "                     (3610, 'MMMDCX'),\n",
    "                     (3743, 'MMMDCCXLIII'),\n",
    "                     (3844, 'MMMDCCCXLIV'),\n",
    "                     (3888, 'MMMDCCCLXXXVIII'),\n",
    "                     (3940, 'MMMCMXL'),\n",
    "                     (3999, 'MMMCMXCIX'))\n",
    "    \n",
    "    converter = Romans()\n",
    "    \n",
    "    def test_to_roman_known_values(self):\n",
    "        '''to_roman should give known results with known input'''\n",
    "        \n",
    "        for number, roman in self.known_values:\n",
    "            self.assertEqual(roman, self.converter.to_roman(number))\n",
    "            \n",
    "    def test_large_numbers(self):\n",
    "        '''to_roman must fail for large input'''\n",
    "        \n",
    "        self.assertRaises(OutOfRangeError, self.converter.to_roman, 4000)\n",
    "        \n",
    "    def test_zero(self):\n",
    "        '''to_roman must fail for zero'''\n",
    "        self.assertRaises(OutOfRangeError, self.converter.to_roman, 0)\n",
    "        \n",
    "    def test_negative_number(self):\n",
    "        '''to_roman must fail for negative numbers'''\n",
    "        self.assertRaises(OutOfRangeError, self.converter.to_roman, -1)"
   ]
  },
  {
   "cell_type": "markdown",
   "metadata": {},
   "source": [
    "When reviewing test results, keep in mind that the order of the tests may be different from the textual order in code, you have to rely on the output of the test to determine failure cases.\n",
    "\n",
    "As expected negative and zero test cases failed, lets fix that."
   ]
  },
  {
   "cell_type": "code",
   "execution_count": 73,
   "metadata": {},
   "outputs": [],
   "source": [
    "class Romans:\n",
    "    roman_numeral_map = (('M',  1000),\n",
    "                         ('CM', 900),\n",
    "                         ('D',  500),\n",
    "                         ('CD', 400),\n",
    "                         ('C',  100),\n",
    "                         ('XC', 90),\n",
    "                         ('L',  50),\n",
    "                         ('XL', 40),\n",
    "                         ('X',  10),\n",
    "                         ('IX', 9),\n",
    "                         ('V',  5),\n",
    "                         ('IV', 4),\n",
    "                         ('I',  1))\n",
    "\n",
    "    def to_roman(self, n):\n",
    "        '''convert integer to Roman numeral'''\n",
    "        \n",
    "        if n > 3999:\n",
    "            raise OutOfRangeError('number out of range (must be less than 4000)')\n",
    "\n",
    "        if n < 1:\n",
    "            raise OutOfRangeError('number out of range (must be more than 0)')\n",
    "\n",
    "        result = ''\n",
    "        for roman, number in self.roman_numeral_map:\n",
    "            while n >= number:\n",
    "                result += roman\n",
    "                n -= number\n",
    "                \n",
    "        return result\n",
    "                \n",
    "    def from_roman(self, r):\n",
    "        '''convert Roman numeral to integer'''\n",
    "        pass"
   ]
  },
  {
   "cell_type": "code",
   "execution_count": 74,
   "metadata": {},
   "outputs": [
    {
     "data": {
      "application/unittest.status+json": {
       "color": "yellow",
       "message": "",
       "previous": 0
      },
      "text/plain": []
     },
     "metadata": {},
     "output_type": "display_data"
    },
    {
     "data": {
      "application/unittest.status+json": {
       "color": "lightgreen",
       "message": "....\n----------------------------------------------------------------------\nRan 4 tests in 0.001s\n\nOK\n",
       "previous": 0
      },
      "text/plain": [
       "Success"
      ]
     },
     "metadata": {},
     "output_type": "display_data"
    },
    {
     "name": "stdout",
     "output_type": "stream",
     "text": [
      "....\n",
      "----------------------------------------------------------------------\n",
      "Ran 4 tests in 0.001s\n",
      "\n",
      "OK\n"
     ]
    },
    {
     "data": {
      "text/plain": [
       "<unittest.runner.TextTestResult run=4 errors=0 failures=0>"
      ]
     },
     "execution_count": 74,
     "metadata": {},
     "output_type": "execute_result"
    }
   ],
   "source": [
    "%%unittest_main\n",
    "\n",
    "class RomansTest(unittest.TestCase):\n",
    "    known_values = ( (1, 'I'),\n",
    "                     (2, 'II'),\n",
    "                     (3, 'III'),\n",
    "                     (4, 'IV'),\n",
    "                     (5, 'V'),\n",
    "                     (6, 'VI'),\n",
    "                     (7, 'VII'),\n",
    "                     (8, 'VIII'),\n",
    "                     (9, 'IX'),\n",
    "                     (10, 'X'),\n",
    "                     (50, 'L'),\n",
    "                     (100, 'C'),\n",
    "                     (500, 'D'),\n",
    "                     (1000, 'M'),\n",
    "                     (31, 'XXXI'),\n",
    "                     (148, 'CXLVIII'),\n",
    "                     (294, 'CCXCIV'),\n",
    "                     (312, 'CCCXII'),\n",
    "                     (421, 'CDXXI'),\n",
    "                     (528, 'DXXVIII'),\n",
    "                     (621, 'DCXXI'),\n",
    "                     (782, 'DCCLXXXII'),\n",
    "                     (870, 'DCCCLXX'),\n",
    "                     (941, 'CMXLI'),\n",
    "                     (1043, 'MXLIII'),\n",
    "                     (1110, 'MCX'),\n",
    "                     (1226, 'MCCXXVI'),\n",
    "                     (1301, 'MCCCI'),\n",
    "                     (1485, 'MCDLXXXV'),\n",
    "                     (1509, 'MDIX'),\n",
    "                     (1607, 'MDCVII'),\n",
    "                     (1754, 'MDCCLIV'),\n",
    "                     (1832, 'MDCCCXXXII'),\n",
    "                     (1993, 'MCMXCIII'),\n",
    "                     (2074, 'MMLXXIV'),\n",
    "                     (2152, 'MMCLII'),\n",
    "                     (2212, 'MMCCXII'),\n",
    "                     (2343, 'MMCCCXLIII'),\n",
    "                     (2499, 'MMCDXCIX'),\n",
    "                     (2574, 'MMDLXXIV'),\n",
    "                     (2646, 'MMDCXLVI'),\n",
    "                     (2723, 'MMDCCXXIII'),\n",
    "                     (2892, 'MMDCCCXCII'),\n",
    "                     (2975, 'MMCMLXXV'),\n",
    "                     (3051, 'MMMLI'),\n",
    "                     (3185, 'MMMCLXXXV'),\n",
    "                     (3250, 'MMMCCL'),\n",
    "                     (3313, 'MMMCCCXIII'),\n",
    "                     (3408, 'MMMCDVIII'),\n",
    "                     (3501, 'MMMDI'),\n",
    "                     (3610, 'MMMDCX'),\n",
    "                     (3743, 'MMMDCCXLIII'),\n",
    "                     (3844, 'MMMDCCCXLIV'),\n",
    "                     (3888, 'MMMDCCCLXXXVIII'),\n",
    "                     (3940, 'MMMCMXL'),\n",
    "                     (3999, 'MMMCMXCIX'))\n",
    "    \n",
    "    converter = Romans()\n",
    "    \n",
    "    def test_to_roman_known_values(self):\n",
    "        '''to_roman should give known results with known input'''\n",
    "        \n",
    "        for number, roman in self.known_values:\n",
    "            self.assertEqual(roman, self.converter.to_roman(number))\n",
    "            \n",
    "    def test_large_numbers(self):\n",
    "        '''to_roman must fail for large input'''\n",
    "        \n",
    "        self.assertRaises(OutOfRangeError, self.converter.to_roman, 4000)\n",
    "        \n",
    "    def test_zero(self):\n",
    "        '''to_roman must fail for zero'''\n",
    "        self.assertRaises(OutOfRangeError, self.converter.to_roman, 0)\n",
    "        \n",
    "    def test_negative_number(self):\n",
    "        '''to_roman must fail for negative numbers'''\n",
    "        self.assertRaises(OutOfRangeError, self.converter.to_roman, -1)"
   ]
  },
  {
   "cell_type": "markdown",
   "metadata": {},
   "source": [
    "What about fractions or floating point numbers, these do not have a representation in Roman numerals. Lets follow the same process of adding a test seeing a failure and adding code to handle the scenario.\n",
    "\n",
    "This time lets add a new kind of error `NotIntegerError`"
   ]
  },
  {
   "cell_type": "code",
   "execution_count": 75,
   "metadata": {},
   "outputs": [
    {
     "data": {
      "application/unittest.status+json": {
       "color": "yellow",
       "message": "",
       "previous": 0
      },
      "text/plain": []
     },
     "metadata": {},
     "output_type": "display_data"
    },
    {
     "data": {
      "application/unittest.status+json": {
       "color": "salmon",
       "message": "..F..\n======================================================================\nFAIL: test_not_natural_number (__main__.RomansTest)\nto_roman must fail for fraction or floating point numbers\n----------------------------------------------------------------------\nTraceback (most recent call last):\n  File \"Cell Tests\", line 83, in test_not_natural_number\nAssertionError: NotIntegerError not raised by to_roman\n\n----------------------------------------------------------------------\nRan 5 tests in 0.002s\n\nFAILED (failures=1)\n",
       "previous": 0
      },
      "text/plain": [
       "Fail"
      ]
     },
     "metadata": {},
     "output_type": "display_data"
    },
    {
     "name": "stdout",
     "output_type": "stream",
     "text": [
      "..F..\n",
      "======================================================================\n",
      "FAIL: test_not_natural_number (__main__.RomansTest)\n",
      "to_roman must fail for fraction or floating point numbers\n",
      "----------------------------------------------------------------------\n",
      "Traceback (most recent call last):\n",
      "  File \"Cell Tests\", line 83, in test_not_natural_number\n",
      "AssertionError: NotIntegerError not raised by to_roman\n",
      "\n",
      "----------------------------------------------------------------------\n",
      "Ran 5 tests in 0.002s\n",
      "\n",
      "FAILED (failures=1)\n"
     ]
    },
    {
     "data": {
      "text/plain": [
       "<unittest.runner.TextTestResult run=5 errors=0 failures=1>"
      ]
     },
     "execution_count": 75,
     "metadata": {},
     "output_type": "execute_result"
    }
   ],
   "source": [
    "%%unittest_main\n",
    "\n",
    "class RomansTest(unittest.TestCase):\n",
    "    known_values = ( (1, 'I'),\n",
    "                     (2, 'II'),\n",
    "                     (3, 'III'),\n",
    "                     (4, 'IV'),\n",
    "                     (5, 'V'),\n",
    "                     (6, 'VI'),\n",
    "                     (7, 'VII'),\n",
    "                     (8, 'VIII'),\n",
    "                     (9, 'IX'),\n",
    "                     (10, 'X'),\n",
    "                     (50, 'L'),\n",
    "                     (100, 'C'),\n",
    "                     (500, 'D'),\n",
    "                     (1000, 'M'),\n",
    "                     (31, 'XXXI'),\n",
    "                     (148, 'CXLVIII'),\n",
    "                     (294, 'CCXCIV'),\n",
    "                     (312, 'CCCXII'),\n",
    "                     (421, 'CDXXI'),\n",
    "                     (528, 'DXXVIII'),\n",
    "                     (621, 'DCXXI'),\n",
    "                     (782, 'DCCLXXXII'),\n",
    "                     (870, 'DCCCLXX'),\n",
    "                     (941, 'CMXLI'),\n",
    "                     (1043, 'MXLIII'),\n",
    "                     (1110, 'MCX'),\n",
    "                     (1226, 'MCCXXVI'),\n",
    "                     (1301, 'MCCCI'),\n",
    "                     (1485, 'MCDLXXXV'),\n",
    "                     (1509, 'MDIX'),\n",
    "                     (1607, 'MDCVII'),\n",
    "                     (1754, 'MDCCLIV'),\n",
    "                     (1832, 'MDCCCXXXII'),\n",
    "                     (1993, 'MCMXCIII'),\n",
    "                     (2074, 'MMLXXIV'),\n",
    "                     (2152, 'MMCLII'),\n",
    "                     (2212, 'MMCCXII'),\n",
    "                     (2343, 'MMCCCXLIII'),\n",
    "                     (2499, 'MMCDXCIX'),\n",
    "                     (2574, 'MMDLXXIV'),\n",
    "                     (2646, 'MMDCXLVI'),\n",
    "                     (2723, 'MMDCCXXIII'),\n",
    "                     (2892, 'MMDCCCXCII'),\n",
    "                     (2975, 'MMCMLXXV'),\n",
    "                     (3051, 'MMMLI'),\n",
    "                     (3185, 'MMMCLXXXV'),\n",
    "                     (3250, 'MMMCCL'),\n",
    "                     (3313, 'MMMCCCXIII'),\n",
    "                     (3408, 'MMMCDVIII'),\n",
    "                     (3501, 'MMMDI'),\n",
    "                     (3610, 'MMMDCX'),\n",
    "                     (3743, 'MMMDCCXLIII'),\n",
    "                     (3844, 'MMMDCCCXLIV'),\n",
    "                     (3888, 'MMMDCCCLXXXVIII'),\n",
    "                     (3940, 'MMMCMXL'),\n",
    "                     (3999, 'MMMCMXCIX'))\n",
    "    \n",
    "    converter = Romans()\n",
    "    \n",
    "    def test_to_roman_known_values(self):\n",
    "        '''to_roman should give known results with known input'''\n",
    "        \n",
    "        for number, roman in self.known_values:\n",
    "            self.assertEqual(roman, self.converter.to_roman(number))\n",
    "            \n",
    "    def test_large_numbers(self):\n",
    "        '''to_roman must fail for large input'''\n",
    "        \n",
    "        self.assertRaises(OutOfRangeError, self.converter.to_roman, 4000)\n",
    "        \n",
    "    def test_zero(self):\n",
    "        '''to_roman must fail for zero'''\n",
    "        self.assertRaises(OutOfRangeError, self.converter.to_roman, 0)\n",
    "        \n",
    "    def test_negative_number(self):\n",
    "        '''to_roman must fail for negative numbers'''\n",
    "        self.assertRaises(OutOfRangeError, self.converter.to_roman, -1)\n",
    "        \n",
    "    def test_not_natural_number(self):\n",
    "        '''to_roman must fail for fraction or floating point numbers'''\n",
    "        self.assertRaises(NotIntegerError, self.converter.to_roman, 1.5)\n",
    "    "
   ]
  },
  {
   "cell_type": "markdown",
   "metadata": {},
   "source": [
    "At this point the code fails with an `error` which is different from a `failure`. It is erroring because we have not defined the type `NotIntegerError`"
   ]
  },
  {
   "cell_type": "code",
   "execution_count": 76,
   "metadata": {},
   "outputs": [],
   "source": [
    "class NotIntegerError(ValueError):\n",
    "    pass"
   ]
  },
  {
   "cell_type": "markdown",
   "metadata": {},
   "source": [
    "Let's retry the unit test, we now expect a **failure**"
   ]
  },
  {
   "cell_type": "code",
   "execution_count": 77,
   "metadata": {},
   "outputs": [
    {
     "data": {
      "application/unittest.status+json": {
       "color": "yellow",
       "message": "",
       "previous": 0
      },
      "text/plain": []
     },
     "metadata": {},
     "output_type": "display_data"
    },
    {
     "data": {
      "application/unittest.status+json": {
       "color": "salmon",
       "message": "..F..\n======================================================================\nFAIL: test_not_natural_number (__main__.RomansTest)\nto_roman must fail for fraction or floating point numbers\n----------------------------------------------------------------------\nTraceback (most recent call last):\n  File \"Cell Tests\", line 83, in test_not_natural_number\nAssertionError: NotIntegerError not raised by to_roman\n\n----------------------------------------------------------------------\nRan 5 tests in 0.002s\n\nFAILED (failures=1)\n",
       "previous": 0
      },
      "text/plain": [
       "Fail"
      ]
     },
     "metadata": {},
     "output_type": "display_data"
    },
    {
     "name": "stdout",
     "output_type": "stream",
     "text": [
      "..F..\n",
      "======================================================================\n",
      "FAIL: test_not_natural_number (__main__.RomansTest)\n",
      "to_roman must fail for fraction or floating point numbers\n",
      "----------------------------------------------------------------------\n",
      "Traceback (most recent call last):\n",
      "  File \"Cell Tests\", line 83, in test_not_natural_number\n",
      "AssertionError: NotIntegerError not raised by to_roman\n",
      "\n",
      "----------------------------------------------------------------------\n",
      "Ran 5 tests in 0.002s\n",
      "\n",
      "FAILED (failures=1)\n"
     ]
    },
    {
     "data": {
      "text/plain": [
       "<unittest.runner.TextTestResult run=5 errors=0 failures=1>"
      ]
     },
     "execution_count": 77,
     "metadata": {},
     "output_type": "execute_result"
    }
   ],
   "source": [
    "%%unittest_main\n",
    "\n",
    "class RomansTest(unittest.TestCase):\n",
    "    known_values = ( (1, 'I'),\n",
    "                     (2, 'II'),\n",
    "                     (3, 'III'),\n",
    "                     (4, 'IV'),\n",
    "                     (5, 'V'),\n",
    "                     (6, 'VI'),\n",
    "                     (7, 'VII'),\n",
    "                     (8, 'VIII'),\n",
    "                     (9, 'IX'),\n",
    "                     (10, 'X'),\n",
    "                     (50, 'L'),\n",
    "                     (100, 'C'),\n",
    "                     (500, 'D'),\n",
    "                     (1000, 'M'),\n",
    "                     (31, 'XXXI'),\n",
    "                     (148, 'CXLVIII'),\n",
    "                     (294, 'CCXCIV'),\n",
    "                     (312, 'CCCXII'),\n",
    "                     (421, 'CDXXI'),\n",
    "                     (528, 'DXXVIII'),\n",
    "                     (621, 'DCXXI'),\n",
    "                     (782, 'DCCLXXXII'),\n",
    "                     (870, 'DCCCLXX'),\n",
    "                     (941, 'CMXLI'),\n",
    "                     (1043, 'MXLIII'),\n",
    "                     (1110, 'MCX'),\n",
    "                     (1226, 'MCCXXVI'),\n",
    "                     (1301, 'MCCCI'),\n",
    "                     (1485, 'MCDLXXXV'),\n",
    "                     (1509, 'MDIX'),\n",
    "                     (1607, 'MDCVII'),\n",
    "                     (1754, 'MDCCLIV'),\n",
    "                     (1832, 'MDCCCXXXII'),\n",
    "                     (1993, 'MCMXCIII'),\n",
    "                     (2074, 'MMLXXIV'),\n",
    "                     (2152, 'MMCLII'),\n",
    "                     (2212, 'MMCCXII'),\n",
    "                     (2343, 'MMCCCXLIII'),\n",
    "                     (2499, 'MMCDXCIX'),\n",
    "                     (2574, 'MMDLXXIV'),\n",
    "                     (2646, 'MMDCXLVI'),\n",
    "                     (2723, 'MMDCCXXIII'),\n",
    "                     (2892, 'MMDCCCXCII'),\n",
    "                     (2975, 'MMCMLXXV'),\n",
    "                     (3051, 'MMMLI'),\n",
    "                     (3185, 'MMMCLXXXV'),\n",
    "                     (3250, 'MMMCCL'),\n",
    "                     (3313, 'MMMCCCXIII'),\n",
    "                     (3408, 'MMMCDVIII'),\n",
    "                     (3501, 'MMMDI'),\n",
    "                     (3610, 'MMMDCX'),\n",
    "                     (3743, 'MMMDCCXLIII'),\n",
    "                     (3844, 'MMMDCCCXLIV'),\n",
    "                     (3888, 'MMMDCCCLXXXVIII'),\n",
    "                     (3940, 'MMMCMXL'),\n",
    "                     (3999, 'MMMCMXCIX'))\n",
    "    \n",
    "    converter = Romans()\n",
    "    \n",
    "    def test_to_roman_known_values(self):\n",
    "        '''to_roman should give known results with known input'''\n",
    "        \n",
    "        for number, roman in self.known_values:\n",
    "            self.assertEqual(roman, self.converter.to_roman(number))\n",
    "            \n",
    "    def test_large_numbers(self):\n",
    "        '''to_roman must fail for large input'''\n",
    "        \n",
    "        self.assertRaises(OutOfRangeError, self.converter.to_roman, 4000)\n",
    "        \n",
    "    def test_zero(self):\n",
    "        '''to_roman must fail for zero'''\n",
    "        self.assertRaises(OutOfRangeError, self.converter.to_roman, 0)\n",
    "        \n",
    "    def test_negative_number(self):\n",
    "        '''to_roman must fail for negative numbers'''\n",
    "        self.assertRaises(OutOfRangeError, self.converter.to_roman, -1)\n",
    "        \n",
    "    def test_not_natural_number(self):\n",
    "        '''to_roman must fail for fraction or floating point numbers'''\n",
    "        self.assertRaises(NotIntegerError, self.converter.to_roman, 1.5)\n",
    "    "
   ]
  },
  {
   "cell_type": "markdown",
   "metadata": {},
   "source": [
    "Time to implement the required behavior"
   ]
  },
  {
   "cell_type": "code",
   "execution_count": 78,
   "metadata": {},
   "outputs": [],
   "source": [
    "class Romans:\n",
    "    roman_numeral_map = (('M',  1000),\n",
    "                         ('CM', 900),\n",
    "                         ('D',  500),\n",
    "                         ('CD', 400),\n",
    "                         ('C',  100),\n",
    "                         ('XC', 90),\n",
    "                         ('L',  50),\n",
    "                         ('XL', 40),\n",
    "                         ('X',  10),\n",
    "                         ('IX', 9),\n",
    "                         ('V',  5),\n",
    "                         ('IV', 4),\n",
    "                         ('I',  1))\n",
    "\n",
    "    def to_roman(self, n):\n",
    "        '''convert integer to Roman numeral'''\n",
    "        \n",
    "        if not isinstance(n, int):\n",
    "            raise NotIntegerError('non-integer cannot be converted')\n",
    "        \n",
    "        if n > 3999:\n",
    "            raise OutOfRangeError('number out of range (must be less than 4000)')\n",
    "\n",
    "        if n < 1:\n",
    "            raise OutOfRangeError('number out of range (must be more than 0)')\n",
    "\n",
    "        result = ''\n",
    "        for roman, number in self.roman_numeral_map:\n",
    "            while n >= number:\n",
    "                result += roman\n",
    "                n -= number\n",
    "                \n",
    "        return result\n",
    "                \n",
    "    def from_roman(self, r):\n",
    "        '''convert Roman numeral to integer'''\n",
    "        pass"
   ]
  },
  {
   "cell_type": "code",
   "execution_count": 79,
   "metadata": {},
   "outputs": [
    {
     "data": {
      "application/unittest.status+json": {
       "color": "yellow",
       "message": "",
       "previous": 0
      },
      "text/plain": []
     },
     "metadata": {},
     "output_type": "display_data"
    },
    {
     "data": {
      "application/unittest.status+json": {
       "color": "lightgreen",
       "message": ".....\n----------------------------------------------------------------------\nRan 5 tests in 0.001s\n\nOK\n",
       "previous": 0
      },
      "text/plain": [
       "Success"
      ]
     },
     "metadata": {},
     "output_type": "display_data"
    },
    {
     "name": "stdout",
     "output_type": "stream",
     "text": [
      ".....\n",
      "----------------------------------------------------------------------\n",
      "Ran 5 tests in 0.001s\n",
      "\n",
      "OK\n"
     ]
    },
    {
     "data": {
      "text/plain": [
       "<unittest.runner.TextTestResult run=5 errors=0 failures=0>"
      ]
     },
     "execution_count": 79,
     "metadata": {},
     "output_type": "execute_result"
    }
   ],
   "source": [
    "%%unittest_main\n",
    "\n",
    "class RomansTest(unittest.TestCase):\n",
    "    known_values = ( (1, 'I'),\n",
    "                     (2, 'II'),\n",
    "                     (3, 'III'),\n",
    "                     (4, 'IV'),\n",
    "                     (5, 'V'),\n",
    "                     (6, 'VI'),\n",
    "                     (7, 'VII'),\n",
    "                     (8, 'VIII'),\n",
    "                     (9, 'IX'),\n",
    "                     (10, 'X'),\n",
    "                     (50, 'L'),\n",
    "                     (100, 'C'),\n",
    "                     (500, 'D'),\n",
    "                     (1000, 'M'),\n",
    "                     (31, 'XXXI'),\n",
    "                     (148, 'CXLVIII'),\n",
    "                     (294, 'CCXCIV'),\n",
    "                     (312, 'CCCXII'),\n",
    "                     (421, 'CDXXI'),\n",
    "                     (528, 'DXXVIII'),\n",
    "                     (621, 'DCXXI'),\n",
    "                     (782, 'DCCLXXXII'),\n",
    "                     (870, 'DCCCLXX'),\n",
    "                     (941, 'CMXLI'),\n",
    "                     (1043, 'MXLIII'),\n",
    "                     (1110, 'MCX'),\n",
    "                     (1226, 'MCCXXVI'),\n",
    "                     (1301, 'MCCCI'),\n",
    "                     (1485, 'MCDLXXXV'),\n",
    "                     (1509, 'MDIX'),\n",
    "                     (1607, 'MDCVII'),\n",
    "                     (1754, 'MDCCLIV'),\n",
    "                     (1832, 'MDCCCXXXII'),\n",
    "                     (1993, 'MCMXCIII'),\n",
    "                     (2074, 'MMLXXIV'),\n",
    "                     (2152, 'MMCLII'),\n",
    "                     (2212, 'MMCCXII'),\n",
    "                     (2343, 'MMCCCXLIII'),\n",
    "                     (2499, 'MMCDXCIX'),\n",
    "                     (2574, 'MMDLXXIV'),\n",
    "                     (2646, 'MMDCXLVI'),\n",
    "                     (2723, 'MMDCCXXIII'),\n",
    "                     (2892, 'MMDCCCXCII'),\n",
    "                     (2975, 'MMCMLXXV'),\n",
    "                     (3051, 'MMMLI'),\n",
    "                     (3185, 'MMMCLXXXV'),\n",
    "                     (3250, 'MMMCCL'),\n",
    "                     (3313, 'MMMCCCXIII'),\n",
    "                     (3408, 'MMMCDVIII'),\n",
    "                     (3501, 'MMMDI'),\n",
    "                     (3610, 'MMMDCX'),\n",
    "                     (3743, 'MMMDCCXLIII'),\n",
    "                     (3844, 'MMMDCCCXLIV'),\n",
    "                     (3888, 'MMMDCCCLXXXVIII'),\n",
    "                     (3940, 'MMMCMXL'),\n",
    "                     (3999, 'MMMCMXCIX'))\n",
    "    \n",
    "    converter = Romans()\n",
    "    \n",
    "    def test_to_roman_known_values(self):\n",
    "        '''to_roman should give known results with known input'''\n",
    "        \n",
    "        for number, roman in self.known_values:\n",
    "            self.assertEqual(roman, self.converter.to_roman(number))\n",
    "            \n",
    "    def test_large_numbers(self):\n",
    "        '''to_roman must fail for large input'''\n",
    "        \n",
    "        self.assertRaises(OutOfRangeError, self.converter.to_roman, 4000)\n",
    "        \n",
    "    def test_zero(self):\n",
    "        '''to_roman must fail for zero'''\n",
    "        self.assertRaises(OutOfRangeError, self.converter.to_roman, 0)\n",
    "        \n",
    "    def test_negative_number(self):\n",
    "        '''to_roman must fail for negative numbers'''\n",
    "        self.assertRaises(OutOfRangeError, self.converter.to_roman, -1)\n",
    "        \n",
    "    def test_not_natural_number(self):\n",
    "        '''to_roman must fail for fraction or floating point numbers'''\n",
    "        self.assertRaises(NotIntegerError, self.converter.to_roman, 1.5)\n",
    "    "
   ]
  },
  {
   "cell_type": "markdown",
   "metadata": {},
   "source": [
    "Time now to implement `from_roman`. The nitty-gritty of the implementation is straight forward as `to_roman`. Lets start by adding a unit test."
   ]
  },
  {
   "cell_type": "code",
   "execution_count": 80,
   "metadata": {},
   "outputs": [
    {
     "data": {
      "application/unittest.status+json": {
       "color": "yellow",
       "message": "",
       "previous": 0
      },
      "text/plain": []
     },
     "metadata": {},
     "output_type": "display_data"
    },
    {
     "data": {
      "application/unittest.status+json": {
       "color": "salmon",
       "message": "F.....\n======================================================================\nFAIL: test_from_roman_known_values (__main__.RomansTest)\nfrom_roman should give known results with known input\n----------------------------------------------------------------------\nTraceback (most recent call last):\n  File \"Cell Tests\", line 89, in test_from_roman_known_values\nAssertionError: 1 != None\n\n----------------------------------------------------------------------\nRan 6 tests in 0.003s\n\nFAILED (failures=1)\n",
       "previous": 0
      },
      "text/plain": [
       "Fail"
      ]
     },
     "metadata": {},
     "output_type": "display_data"
    },
    {
     "name": "stdout",
     "output_type": "stream",
     "text": [
      "F.....\n",
      "======================================================================\n",
      "FAIL: test_from_roman_known_values (__main__.RomansTest)\n",
      "from_roman should give known results with known input\n",
      "----------------------------------------------------------------------\n",
      "Traceback (most recent call last):\n",
      "  File \"Cell Tests\", line 89, in test_from_roman_known_values\n",
      "AssertionError: 1 != None\n",
      "\n",
      "----------------------------------------------------------------------\n",
      "Ran 6 tests in 0.003s\n",
      "\n",
      "FAILED (failures=1)\n"
     ]
    },
    {
     "data": {
      "text/plain": [
       "<unittest.runner.TextTestResult run=6 errors=0 failures=1>"
      ]
     },
     "execution_count": 80,
     "metadata": {},
     "output_type": "execute_result"
    }
   ],
   "source": [
    "%%unittest_main\n",
    "\n",
    "class RomansTest(unittest.TestCase):\n",
    "    known_values = ( (1, 'I'),\n",
    "                     (2, 'II'),\n",
    "                     (3, 'III'),\n",
    "                     (4, 'IV'),\n",
    "                     (5, 'V'),\n",
    "                     (6, 'VI'),\n",
    "                     (7, 'VII'),\n",
    "                     (8, 'VIII'),\n",
    "                     (9, 'IX'),\n",
    "                     (10, 'X'),\n",
    "                     (50, 'L'),\n",
    "                     (100, 'C'),\n",
    "                     (500, 'D'),\n",
    "                     (1000, 'M'),\n",
    "                     (31, 'XXXI'),\n",
    "                     (148, 'CXLVIII'),\n",
    "                     (294, 'CCXCIV'),\n",
    "                     (312, 'CCCXII'),\n",
    "                     (421, 'CDXXI'),\n",
    "                     (528, 'DXXVIII'),\n",
    "                     (621, 'DCXXI'),\n",
    "                     (782, 'DCCLXXXII'),\n",
    "                     (870, 'DCCCLXX'),\n",
    "                     (941, 'CMXLI'),\n",
    "                     (1043, 'MXLIII'),\n",
    "                     (1110, 'MCX'),\n",
    "                     (1226, 'MCCXXVI'),\n",
    "                     (1301, 'MCCCI'),\n",
    "                     (1485, 'MCDLXXXV'),\n",
    "                     (1509, 'MDIX'),\n",
    "                     (1607, 'MDCVII'),\n",
    "                     (1754, 'MDCCLIV'),\n",
    "                     (1832, 'MDCCCXXXII'),\n",
    "                     (1993, 'MCMXCIII'),\n",
    "                     (2074, 'MMLXXIV'),\n",
    "                     (2152, 'MMCLII'),\n",
    "                     (2212, 'MMCCXII'),\n",
    "                     (2343, 'MMCCCXLIII'),\n",
    "                     (2499, 'MMCDXCIX'),\n",
    "                     (2574, 'MMDLXXIV'),\n",
    "                     (2646, 'MMDCXLVI'),\n",
    "                     (2723, 'MMDCCXXIII'),\n",
    "                     (2892, 'MMDCCCXCII'),\n",
    "                     (2975, 'MMCMLXXV'),\n",
    "                     (3051, 'MMMLI'),\n",
    "                     (3185, 'MMMCLXXXV'),\n",
    "                     (3250, 'MMMCCL'),\n",
    "                     (3313, 'MMMCCCXIII'),\n",
    "                     (3408, 'MMMCDVIII'),\n",
    "                     (3501, 'MMMDI'),\n",
    "                     (3610, 'MMMDCX'),\n",
    "                     (3743, 'MMMDCCXLIII'),\n",
    "                     (3844, 'MMMDCCCXLIV'),\n",
    "                     (3888, 'MMMDCCCLXXXVIII'),\n",
    "                     (3940, 'MMMCMXL'),\n",
    "                     (3999, 'MMMCMXCIX'))\n",
    "    \n",
    "    converter = Romans()\n",
    "    \n",
    "    def test_to_roman_known_values(self):\n",
    "        '''to_roman should give known results with known input'''\n",
    "        \n",
    "        for number, roman in self.known_values:\n",
    "            self.assertEqual(roman, self.converter.to_roman(number))\n",
    "            \n",
    "    def test_large_numbers(self):\n",
    "        '''to_roman must fail for large input'''\n",
    "        \n",
    "        self.assertRaises(OutOfRangeError, self.converter.to_roman, 4000)\n",
    "        \n",
    "    def test_zero(self):\n",
    "        '''to_roman must fail for zero'''\n",
    "        self.assertRaises(OutOfRangeError, self.converter.to_roman, 0)\n",
    "        \n",
    "    def test_negative_number(self):\n",
    "        '''to_roman must fail for negative numbers'''\n",
    "        self.assertRaises(OutOfRangeError, self.converter.to_roman, -1)\n",
    "        \n",
    "    def test_not_natural_number(self):\n",
    "        '''to_roman must fail for fraction or floating point numbers'''\n",
    "        self.assertRaises(NotIntegerError, self.converter.to_roman, 1.5)\n",
    "    \n",
    "    def test_from_roman_known_values(self):\n",
    "        '''from_roman should give known results with known input'''\n",
    "        \n",
    "        for number, roman in self.known_values:\n",
    "            self.assertEqual(number, self.converter.from_roman(roman))\n"
   ]
  },
  {
   "cell_type": "code",
   "execution_count": 81,
   "metadata": {},
   "outputs": [],
   "source": [
    "class Romans:\n",
    "    roman_numeral_map = (('M',  1000),\n",
    "                         ('CM', 900),\n",
    "                         ('D',  500),\n",
    "                         ('CD', 400),\n",
    "                         ('C',  100),\n",
    "                         ('XC', 90),\n",
    "                         ('L',  50),\n",
    "                         ('XL', 40),\n",
    "                         ('X',  10),\n",
    "                         ('IX', 9),\n",
    "                         ('V',  5),\n",
    "                         ('IV', 4),\n",
    "                         ('I',  1))\n",
    "\n",
    "    def to_roman(self, n):\n",
    "        '''convert integer to Roman numeral'''\n",
    "        \n",
    "        if not isinstance(n, int):\n",
    "            raise NotIntegerError('non-integer cannot be converted')\n",
    "        \n",
    "        if n > 3999:\n",
    "            raise OutOfRangeError('number out of range (must be less than 4000)')\n",
    "\n",
    "        if n < 1:\n",
    "            raise OutOfRangeError('number out of range (must be more than 0)')\n",
    "\n",
    "        result = ''\n",
    "        for roman, number in self.roman_numeral_map:\n",
    "            while n >= number:\n",
    "                result += roman\n",
    "                n -= number\n",
    "                \n",
    "        return result\n",
    "                \n",
    "    def from_roman(self, r):\n",
    "        '''convert Roman numeral to integer'''\n",
    "        \n",
    "        result = 0\n",
    "        index = 0\n",
    "        for roman, number in self.roman_numeral_map:\n",
    "            while r[index:index+len(roman)] == roman:\n",
    "                index += len(roman)\n",
    "                result += number\n",
    "                \n",
    "        return result"
   ]
  },
  {
   "cell_type": "code",
   "execution_count": 82,
   "metadata": {},
   "outputs": [
    {
     "data": {
      "application/unittest.status+json": {
       "color": "yellow",
       "message": "",
       "previous": 0
      },
      "text/plain": []
     },
     "metadata": {},
     "output_type": "display_data"
    },
    {
     "data": {
      "application/unittest.status+json": {
       "color": "lightgreen",
       "message": "......\n----------------------------------------------------------------------\nRan 6 tests in 0.001s\n\nOK\n",
       "previous": 0
      },
      "text/plain": [
       "Success"
      ]
     },
     "metadata": {},
     "output_type": "display_data"
    },
    {
     "name": "stdout",
     "output_type": "stream",
     "text": [
      "......\n",
      "----------------------------------------------------------------------\n",
      "Ran 6 tests in 0.001s\n",
      "\n",
      "OK\n"
     ]
    },
    {
     "data": {
      "text/plain": [
       "<unittest.runner.TextTestResult run=6 errors=0 failures=0>"
      ]
     },
     "execution_count": 82,
     "metadata": {},
     "output_type": "execute_result"
    }
   ],
   "source": [
    "%%unittest_main\n",
    "\n",
    "class RomansTest(unittest.TestCase):\n",
    "    known_values = ( (1, 'I'),\n",
    "                     (2, 'II'),\n",
    "                     (3, 'III'),\n",
    "                     (4, 'IV'),\n",
    "                     (5, 'V'),\n",
    "                     (6, 'VI'),\n",
    "                     (7, 'VII'),\n",
    "                     (8, 'VIII'),\n",
    "                     (9, 'IX'),\n",
    "                     (10, 'X'),\n",
    "                     (50, 'L'),\n",
    "                     (100, 'C'),\n",
    "                     (500, 'D'),\n",
    "                     (1000, 'M'),\n",
    "                     (31, 'XXXI'),\n",
    "                     (148, 'CXLVIII'),\n",
    "                     (294, 'CCXCIV'),\n",
    "                     (312, 'CCCXII'),\n",
    "                     (421, 'CDXXI'),\n",
    "                     (528, 'DXXVIII'),\n",
    "                     (621, 'DCXXI'),\n",
    "                     (782, 'DCCLXXXII'),\n",
    "                     (870, 'DCCCLXX'),\n",
    "                     (941, 'CMXLI'),\n",
    "                     (1043, 'MXLIII'),\n",
    "                     (1110, 'MCX'),\n",
    "                     (1226, 'MCCXXVI'),\n",
    "                     (1301, 'MCCCI'),\n",
    "                     (1485, 'MCDLXXXV'),\n",
    "                     (1509, 'MDIX'),\n",
    "                     (1607, 'MDCVII'),\n",
    "                     (1754, 'MDCCLIV'),\n",
    "                     (1832, 'MDCCCXXXII'),\n",
    "                     (1993, 'MCMXCIII'),\n",
    "                     (2074, 'MMLXXIV'),\n",
    "                     (2152, 'MMCLII'),\n",
    "                     (2212, 'MMCCXII'),\n",
    "                     (2343, 'MMCCCXLIII'),\n",
    "                     (2499, 'MMCDXCIX'),\n",
    "                     (2574, 'MMDLXXIV'),\n",
    "                     (2646, 'MMDCXLVI'),\n",
    "                     (2723, 'MMDCCXXIII'),\n",
    "                     (2892, 'MMDCCCXCII'),\n",
    "                     (2975, 'MMCMLXXV'),\n",
    "                     (3051, 'MMMLI'),\n",
    "                     (3185, 'MMMCLXXXV'),\n",
    "                     (3250, 'MMMCCL'),\n",
    "                     (3313, 'MMMCCCXIII'),\n",
    "                     (3408, 'MMMCDVIII'),\n",
    "                     (3501, 'MMMDI'),\n",
    "                     (3610, 'MMMDCX'),\n",
    "                     (3743, 'MMMDCCXLIII'),\n",
    "                     (3844, 'MMMDCCCXLIV'),\n",
    "                     (3888, 'MMMDCCCLXXXVIII'),\n",
    "                     (3940, 'MMMCMXL'),\n",
    "                     (3999, 'MMMCMXCIX'))\n",
    "    \n",
    "    converter = Romans()\n",
    "    \n",
    "    def test_to_roman_known_values(self):\n",
    "        '''to_roman should give known results with known input'''\n",
    "        \n",
    "        for number, roman in self.known_values:\n",
    "            self.assertEqual(roman, self.converter.to_roman(number))\n",
    "            \n",
    "    def test_large_numbers(self):\n",
    "        '''to_roman must fail for large input'''\n",
    "        \n",
    "        self.assertRaises(OutOfRangeError, self.converter.to_roman, 4000)\n",
    "        \n",
    "    def test_zero(self):\n",
    "        '''to_roman must fail for zero'''\n",
    "        self.assertRaises(OutOfRangeError, self.converter.to_roman, 0)\n",
    "        \n",
    "    def test_negative_number(self):\n",
    "        '''to_roman must fail for negative numbers'''\n",
    "        self.assertRaises(OutOfRangeError, self.converter.to_roman, -1)\n",
    "        \n",
    "    def test_not_natural_number(self):\n",
    "        '''to_roman must fail for fraction or floating point numbers'''\n",
    "        self.assertRaises(NotIntegerError, self.converter.to_roman, 1.5)\n",
    "    \n",
    "    def test_from_roman_known_values(self):\n",
    "        '''from_roman should give known results with known input'''\n",
    "        \n",
    "        for number, roman in self.known_values:\n",
    "            self.assertEqual(number, self.converter.from_roman(roman))\n"
   ]
  },
  {
   "cell_type": "markdown",
   "metadata": {},
   "source": [
    "Excellent we now have `from_roman` working as expected for known values. An observation here is that `to_roman` and `from_roman` are symmetric. We can utilize this property to test the entire range of Roman numerals.\n",
    "\n",
    "Keep in mind that this test only demonstrates symmetry between the implementation of `to_roman` and `from_roman`. A bug in either may be reproduced in the other. This test is not intended to demonstrate correctness of eithe function."
   ]
  },
  {
   "cell_type": "code",
   "execution_count": 83,
   "metadata": {},
   "outputs": [
    {
     "data": {
      "application/unittest.status+json": {
       "color": "yellow",
       "message": "",
       "previous": 0
      },
      "text/plain": []
     },
     "metadata": {},
     "output_type": "display_data"
    },
    {
     "data": {
      "application/unittest.status+json": {
       "color": "lightgreen",
       "message": ".......\n----------------------------------------------------------------------\nRan 7 tests in 0.033s\n\nOK\n",
       "previous": 0
      },
      "text/plain": [
       "Success"
      ]
     },
     "metadata": {},
     "output_type": "display_data"
    },
    {
     "name": "stdout",
     "output_type": "stream",
     "text": [
      ".......\n",
      "----------------------------------------------------------------------\n",
      "Ran 7 tests in 0.033s\n",
      "\n",
      "OK\n"
     ]
    },
    {
     "data": {
      "text/plain": [
       "<unittest.runner.TextTestResult run=7 errors=0 failures=0>"
      ]
     },
     "execution_count": 83,
     "metadata": {},
     "output_type": "execute_result"
    }
   ],
   "source": [
    "%%unittest_main\n",
    "\n",
    "class RomansTest(unittest.TestCase):\n",
    "    known_values = ( (1, 'I'),\n",
    "                     (2, 'II'),\n",
    "                     (3, 'III'),\n",
    "                     (4, 'IV'),\n",
    "                     (5, 'V'),\n",
    "                     (6, 'VI'),\n",
    "                     (7, 'VII'),\n",
    "                     (8, 'VIII'),\n",
    "                     (9, 'IX'),\n",
    "                     (10, 'X'),\n",
    "                     (50, 'L'),\n",
    "                     (100, 'C'),\n",
    "                     (500, 'D'),\n",
    "                     (1000, 'M'),\n",
    "                     (31, 'XXXI'),\n",
    "                     (148, 'CXLVIII'),\n",
    "                     (294, 'CCXCIV'),\n",
    "                     (312, 'CCCXII'),\n",
    "                     (421, 'CDXXI'),\n",
    "                     (528, 'DXXVIII'),\n",
    "                     (621, 'DCXXI'),\n",
    "                     (782, 'DCCLXXXII'),\n",
    "                     (870, 'DCCCLXX'),\n",
    "                     (941, 'CMXLI'),\n",
    "                     (1043, 'MXLIII'),\n",
    "                     (1110, 'MCX'),\n",
    "                     (1226, 'MCCXXVI'),\n",
    "                     (1301, 'MCCCI'),\n",
    "                     (1485, 'MCDLXXXV'),\n",
    "                     (1509, 'MDIX'),\n",
    "                     (1607, 'MDCVII'),\n",
    "                     (1754, 'MDCCLIV'),\n",
    "                     (1832, 'MDCCCXXXII'),\n",
    "                     (1993, 'MCMXCIII'),\n",
    "                     (2074, 'MMLXXIV'),\n",
    "                     (2152, 'MMCLII'),\n",
    "                     (2212, 'MMCCXII'),\n",
    "                     (2343, 'MMCCCXLIII'),\n",
    "                     (2499, 'MMCDXCIX'),\n",
    "                     (2574, 'MMDLXXIV'),\n",
    "                     (2646, 'MMDCXLVI'),\n",
    "                     (2723, 'MMDCCXXIII'),\n",
    "                     (2892, 'MMDCCCXCII'),\n",
    "                     (2975, 'MMCMLXXV'),\n",
    "                     (3051, 'MMMLI'),\n",
    "                     (3185, 'MMMCLXXXV'),\n",
    "                     (3250, 'MMMCCL'),\n",
    "                     (3313, 'MMMCCCXIII'),\n",
    "                     (3408, 'MMMCDVIII'),\n",
    "                     (3501, 'MMMDI'),\n",
    "                     (3610, 'MMMDCX'),\n",
    "                     (3743, 'MMMDCCXLIII'),\n",
    "                     (3844, 'MMMDCCCXLIV'),\n",
    "                     (3888, 'MMMDCCCLXXXVIII'),\n",
    "                     (3940, 'MMMCMXL'),\n",
    "                     (3999, 'MMMCMXCIX'))\n",
    "    \n",
    "    converter = Romans()\n",
    "    \n",
    "    def test_to_roman_known_values(self):\n",
    "        '''to_roman should give known results with known input'''\n",
    "        \n",
    "        for number, roman in self.known_values:\n",
    "            self.assertEqual(roman, self.converter.to_roman(number))\n",
    "            \n",
    "    def test_large_numbers(self):\n",
    "        '''to_roman must fail for large input'''\n",
    "        \n",
    "        self.assertRaises(OutOfRangeError, self.converter.to_roman, 4000)\n",
    "        \n",
    "    def test_zero(self):\n",
    "        '''to_roman must fail for zero'''\n",
    "        self.assertRaises(OutOfRangeError, self.converter.to_roman, 0)\n",
    "        \n",
    "    def test_negative_number(self):\n",
    "        '''to_roman must fail for negative numbers'''\n",
    "        self.assertRaises(OutOfRangeError, self.converter.to_roman, -1)\n",
    "        \n",
    "    def test_not_natural_number(self):\n",
    "        '''to_roman must fail for fraction or floating point numbers'''\n",
    "        self.assertRaises(NotIntegerError, self.converter.to_roman, 1.5)\n",
    "    \n",
    "    def test_from_roman_known_values(self):\n",
    "        '''from_roman should give known results with known input'''\n",
    "        \n",
    "        for number, roman in self.known_values:\n",
    "            self.assertEqual(number, self.converter.from_roman(roman))\n",
    "\n",
    "    def test_roundtrip(self):\n",
    "        '''from_roman(to_roman(n)) == n for all n'''\n",
    "        \n",
    "        for i in range(1, 4000):\n",
    "            result = self.converter.from_roman(self.converter.to_roman(i))\n",
    "            self.assertEqual(i, result)"
   ]
  },
  {
   "cell_type": "markdown",
   "metadata": {},
   "source": [
    "##### More bad input\n",
    "\n",
    "Now that `from_roman` function works well with good input, it's time to fit in the last piece of the puzzle, making it work with bad input.\n",
    "\n",
    "Since we've previously developed a regex for validating input, we will use the regex here.  First tho, we write some tests"
   ]
  },
  {
   "cell_type": "code",
   "execution_count": 84,
   "metadata": {},
   "outputs": [
    {
     "data": {
      "application/unittest.status+json": {
       "color": "yellow",
       "message": "",
       "previous": 0
      },
      "text/plain": []
     },
     "metadata": {},
     "output_type": "display_data"
    },
    {
     "data": {
      "application/unittest.status+json": {
       "color": "salmon",
       "message": ".F.F....F.\n======================================================================\nFAIL: test_invalid_repeated_pairs (__main__.RomansTest)\nfrom_roman should fail with repeated pairs of numerals\n----------------------------------------------------------------------\nTraceback (most recent call last):\n  File \"Cell Tests\", line 108, in test_invalid_repeated_pairs\nAssertionError: InvalidRomanNumeralError not raised by from_roman\n\n======================================================================\nFAIL: test_malformed_antecedents (__main__.RomansTest)\nfrom_roman should fail with malformed axntecedents\n----------------------------------------------------------------------\nTraceback (most recent call last):\n  File \"Cell Tests\", line 115, in test_malformed_antecedents\nAssertionError: InvalidRomanNumeralError not raised by from_roman\n\n======================================================================\nFAIL: test_too_many_repeated_numerals (__main__.RomansTest)\nfrom_roman should fail with too many repeated numeral\n----------------------------------------------------------------------\nTraceback (most recent call last):\n  File \"Cell Tests\", line 102, in test_too_many_repeated_numerals\nAssertionError: InvalidRomanNumeralError not raised by from_roman\n\n----------------------------------------------------------------------\nRan 10 tests in 0.032s\n\nFAILED (failures=3)\n",
       "previous": 0
      },
      "text/plain": [
       "Fail"
      ]
     },
     "metadata": {},
     "output_type": "display_data"
    },
    {
     "name": "stdout",
     "output_type": "stream",
     "text": [
      ".F.F....F.\n",
      "======================================================================\n",
      "FAIL: test_invalid_repeated_pairs (__main__.RomansTest)\n",
      "from_roman should fail with repeated pairs of numerals\n",
      "----------------------------------------------------------------------\n",
      "Traceback (most recent call last):\n",
      "  File \"Cell Tests\", line 108, in test_invalid_repeated_pairs\n",
      "AssertionError: InvalidRomanNumeralError not raised by from_roman\n",
      "\n",
      "======================================================================\n",
      "FAIL: test_malformed_antecedents (__main__.RomansTest)\n",
      "from_roman should fail with malformed axntecedents\n",
      "----------------------------------------------------------------------\n",
      "Traceback (most recent call last):\n",
      "  File \"Cell Tests\", line 115, in test_malformed_antecedents\n",
      "AssertionError: InvalidRomanNumeralError not raised by from_roman\n",
      "\n",
      "======================================================================\n",
      "FAIL: test_too_many_repeated_numerals (__main__.RomansTest)\n",
      "from_roman should fail with too many repeated numeral\n",
      "----------------------------------------------------------------------\n",
      "Traceback (most recent call last):\n",
      "  File \"Cell Tests\", line 102, in test_too_many_repeated_numerals\n",
      "AssertionError: InvalidRomanNumeralError not raised by from_roman\n",
      "\n",
      "----------------------------------------------------------------------\n",
      "Ran 10 tests in 0.032s\n",
      "\n",
      "FAILED (failures=3)\n"
     ]
    },
    {
     "data": {
      "text/plain": [
       "<unittest.runner.TextTestResult run=10 errors=0 failures=3>"
      ]
     },
     "execution_count": 84,
     "metadata": {},
     "output_type": "execute_result"
    }
   ],
   "source": [
    "%%unittest_main\n",
    "\n",
    "class RomansTest(unittest.TestCase):\n",
    "    known_values = ( (1, 'I'),\n",
    "                     (2, 'II'),\n",
    "                     (3, 'III'),\n",
    "                     (4, 'IV'),\n",
    "                     (5, 'V'),\n",
    "                     (6, 'VI'),\n",
    "                     (7, 'VII'),\n",
    "                     (8, 'VIII'),\n",
    "                     (9, 'IX'),\n",
    "                     (10, 'X'),\n",
    "                     (50, 'L'),\n",
    "                     (100, 'C'),\n",
    "                     (500, 'D'),\n",
    "                     (1000, 'M'),\n",
    "                     (31, 'XXXI'),\n",
    "                     (148, 'CXLVIII'),\n",
    "                     (294, 'CCXCIV'),\n",
    "                     (312, 'CCCXII'),\n",
    "                     (421, 'CDXXI'),\n",
    "                     (528, 'DXXVIII'),\n",
    "                     (621, 'DCXXI'),\n",
    "                     (782, 'DCCLXXXII'),\n",
    "                     (870, 'DCCCLXX'),\n",
    "                     (941, 'CMXLI'),\n",
    "                     (1043, 'MXLIII'),\n",
    "                     (1110, 'MCX'),\n",
    "                     (1226, 'MCCXXVI'),\n",
    "                     (1301, 'MCCCI'),\n",
    "                     (1485, 'MCDLXXXV'),\n",
    "                     (1509, 'MDIX'),\n",
    "                     (1607, 'MDCVII'),\n",
    "                     (1754, 'MDCCLIV'),\n",
    "                     (1832, 'MDCCCXXXII'),\n",
    "                     (1993, 'MCMXCIII'),\n",
    "                     (2074, 'MMLXXIV'),\n",
    "                     (2152, 'MMCLII'),\n",
    "                     (2212, 'MMCCXII'),\n",
    "                     (2343, 'MMCCCXLIII'),\n",
    "                     (2499, 'MMCDXCIX'),\n",
    "                     (2574, 'MMDLXXIV'),\n",
    "                     (2646, 'MMDCXLVI'),\n",
    "                     (2723, 'MMDCCXXIII'),\n",
    "                     (2892, 'MMDCCCXCII'),\n",
    "                     (2975, 'MMCMLXXV'),\n",
    "                     (3051, 'MMMLI'),\n",
    "                     (3185, 'MMMCLXXXV'),\n",
    "                     (3250, 'MMMCCL'),\n",
    "                     (3313, 'MMMCCCXIII'),\n",
    "                     (3408, 'MMMCDVIII'),\n",
    "                     (3501, 'MMMDI'),\n",
    "                     (3610, 'MMMDCX'),\n",
    "                     (3743, 'MMMDCCXLIII'),\n",
    "                     (3844, 'MMMDCCCXLIV'),\n",
    "                     (3888, 'MMMDCCCLXXXVIII'),\n",
    "                     (3940, 'MMMCMXL'),\n",
    "                     (3999, 'MMMCMXCIX'))\n",
    "    \n",
    "    converter = Romans()\n",
    "    \n",
    "    def test_to_roman_known_values(self):\n",
    "        '''to_roman should give known results with known input'''\n",
    "        \n",
    "        for number, roman in self.known_values:\n",
    "            self.assertEqual(roman, self.converter.to_roman(number))\n",
    "            \n",
    "    def test_large_numbers(self):\n",
    "        '''to_roman must fail for large input'''\n",
    "        \n",
    "        self.assertRaises(OutOfRangeError, self.converter.to_roman, 4000)\n",
    "        \n",
    "    def test_zero(self):\n",
    "        '''to_roman must fail for zero'''\n",
    "        self.assertRaises(OutOfRangeError, self.converter.to_roman, 0)\n",
    "        \n",
    "    def test_negative_number(self):\n",
    "        '''to_roman must fail for negative numbers'''\n",
    "        self.assertRaises(OutOfRangeError, self.converter.to_roman, -1)\n",
    "        \n",
    "    def test_not_natural_number(self):\n",
    "        '''to_roman must fail for fraction or floating point numbers'''\n",
    "        self.assertRaises(NotIntegerError, self.converter.to_roman, 1.5)\n",
    "    \n",
    "    def test_from_roman_known_values(self):\n",
    "        '''from_roman should give known results with known input'''\n",
    "        \n",
    "        for number, roman in self.known_values:\n",
    "            self.assertEqual(number, self.converter.from_roman(roman))\n",
    "\n",
    "    def test_roundtrip(self):\n",
    "        '''from_roman(to_roman(n)) == n for all n'''\n",
    "        \n",
    "        for i in range(1, 4000):\n",
    "            result = self.converter.from_roman(self.converter.to_roman(i))\n",
    "            self.assertEqual(i, result)\n",
    "            \n",
    "    def test_too_many_repeated_numerals(self):\n",
    "        '''from_roman should fail with too many repeated numeral'''\n",
    "        \n",
    "        for s in ('MMMM', 'DD', 'CCCC', 'LL', 'XXXX', 'VV', 'IIII'):\n",
    "            self.assertRaises(InvalidRomanNumeralError, self.converter.from_roman, s)\n",
    "            \n",
    "    def test_invalid_repeated_pairs(self):\n",
    "        '''from_roman should fail with repeated pairs of numerals'''\n",
    "        \n",
    "        for s in ('CMCM', 'CDCD', 'XCXC', 'XLXL', 'IXIX', 'IVIV'):\n",
    "            self.assertRaises(InvalidRomanNumeralError, self.converter.from_roman, s)\n",
    "            \n",
    "    def test_malformed_antecedents(self):\n",
    "        '''from_roman should fail with malformed axntecedents'''\n",
    "        \n",
    "        for s in ('IIMXCC', 'VX', 'DCM', 'CMM', 'IXIV',\n",
    "                  'MCMC', 'XCX', 'IVI', 'LM', 'LD', 'LC'):\n",
    "            self.assertRaises(InvalidRomanNumeralError, self.converter.from_roman, s)"
   ]
  },
  {
   "cell_type": "code",
   "execution_count": 85,
   "metadata": {},
   "outputs": [],
   "source": [
    "# Implementing the error type\n",
    "\n",
    "class InvalidRomanNumeralError(ValueError):\n",
    "    pass"
   ]
  },
  {
   "cell_type": "code",
   "execution_count": 86,
   "metadata": {},
   "outputs": [
    {
     "data": {
      "application/unittest.status+json": {
       "color": "yellow",
       "message": "",
       "previous": 0
      },
      "text/plain": []
     },
     "metadata": {},
     "output_type": "display_data"
    },
    {
     "data": {
      "application/unittest.status+json": {
       "color": "salmon",
       "message": ".F.F....F.\n======================================================================\nFAIL: test_invalid_repeated_pairs (__main__.RomansTest)\nfrom_roman should fail with repeated pairs of numerals\n----------------------------------------------------------------------\nTraceback (most recent call last):\n  File \"Cell Tests\", line 108, in test_invalid_repeated_pairs\nAssertionError: InvalidRomanNumeralError not raised by from_roman\n\n======================================================================\nFAIL: test_malformed_antecedents (__main__.RomansTest)\nfrom_roman should fail with malformed axntecedents\n----------------------------------------------------------------------\nTraceback (most recent call last):\n  File \"Cell Tests\", line 115, in test_malformed_antecedents\nAssertionError: InvalidRomanNumeralError not raised by from_roman\n\n======================================================================\nFAIL: test_too_many_repeated_numerals (__main__.RomansTest)\nfrom_roman should fail with too many repeated numeral\n----------------------------------------------------------------------\nTraceback (most recent call last):\n  File \"Cell Tests\", line 102, in test_too_many_repeated_numerals\nAssertionError: InvalidRomanNumeralError not raised by from_roman\n\n----------------------------------------------------------------------\nRan 10 tests in 0.033s\n\nFAILED (failures=3)\n",
       "previous": 0
      },
      "text/plain": [
       "Fail"
      ]
     },
     "metadata": {},
     "output_type": "display_data"
    },
    {
     "name": "stdout",
     "output_type": "stream",
     "text": [
      ".F.F....F.\n",
      "======================================================================\n",
      "FAIL: test_invalid_repeated_pairs (__main__.RomansTest)\n",
      "from_roman should fail with repeated pairs of numerals\n",
      "----------------------------------------------------------------------\n",
      "Traceback (most recent call last):\n",
      "  File \"Cell Tests\", line 108, in test_invalid_repeated_pairs\n",
      "AssertionError: InvalidRomanNumeralError not raised by from_roman\n",
      "\n",
      "======================================================================\n",
      "FAIL: test_malformed_antecedents (__main__.RomansTest)\n",
      "from_roman should fail with malformed axntecedents\n",
      "----------------------------------------------------------------------\n",
      "Traceback (most recent call last):\n",
      "  File \"Cell Tests\", line 115, in test_malformed_antecedents\n",
      "AssertionError: InvalidRomanNumeralError not raised by from_roman\n",
      "\n",
      "======================================================================\n",
      "FAIL: test_too_many_repeated_numerals (__main__.RomansTest)\n",
      "from_roman should fail with too many repeated numeral\n",
      "----------------------------------------------------------------------\n",
      "Traceback (most recent call last):\n",
      "  File \"Cell Tests\", line 102, in test_too_many_repeated_numerals\n",
      "AssertionError: InvalidRomanNumeralError not raised by from_roman\n",
      "\n",
      "----------------------------------------------------------------------\n",
      "Ran 10 tests in 0.033s\n",
      "\n",
      "FAILED (failures=3)\n"
     ]
    },
    {
     "data": {
      "text/plain": [
       "<unittest.runner.TextTestResult run=10 errors=0 failures=3>"
      ]
     },
     "execution_count": 86,
     "metadata": {},
     "output_type": "execute_result"
    }
   ],
   "source": [
    "%%unittest_main\n",
    "\n",
    "class RomansTest(unittest.TestCase):\n",
    "    known_values = ( (1, 'I'),\n",
    "                     (2, 'II'),\n",
    "                     (3, 'III'),\n",
    "                     (4, 'IV'),\n",
    "                     (5, 'V'),\n",
    "                     (6, 'VI'),\n",
    "                     (7, 'VII'),\n",
    "                     (8, 'VIII'),\n",
    "                     (9, 'IX'),\n",
    "                     (10, 'X'),\n",
    "                     (50, 'L'),\n",
    "                     (100, 'C'),\n",
    "                     (500, 'D'),\n",
    "                     (1000, 'M'),\n",
    "                     (31, 'XXXI'),\n",
    "                     (148, 'CXLVIII'),\n",
    "                     (294, 'CCXCIV'),\n",
    "                     (312, 'CCCXII'),\n",
    "                     (421, 'CDXXI'),\n",
    "                     (528, 'DXXVIII'),\n",
    "                     (621, 'DCXXI'),\n",
    "                     (782, 'DCCLXXXII'),\n",
    "                     (870, 'DCCCLXX'),\n",
    "                     (941, 'CMXLI'),\n",
    "                     (1043, 'MXLIII'),\n",
    "                     (1110, 'MCX'),\n",
    "                     (1226, 'MCCXXVI'),\n",
    "                     (1301, 'MCCCI'),\n",
    "                     (1485, 'MCDLXXXV'),\n",
    "                     (1509, 'MDIX'),\n",
    "                     (1607, 'MDCVII'),\n",
    "                     (1754, 'MDCCLIV'),\n",
    "                     (1832, 'MDCCCXXXII'),\n",
    "                     (1993, 'MCMXCIII'),\n",
    "                     (2074, 'MMLXXIV'),\n",
    "                     (2152, 'MMCLII'),\n",
    "                     (2212, 'MMCCXII'),\n",
    "                     (2343, 'MMCCCXLIII'),\n",
    "                     (2499, 'MMCDXCIX'),\n",
    "                     (2574, 'MMDLXXIV'),\n",
    "                     (2646, 'MMDCXLVI'),\n",
    "                     (2723, 'MMDCCXXIII'),\n",
    "                     (2892, 'MMDCCCXCII'),\n",
    "                     (2975, 'MMCMLXXV'),\n",
    "                     (3051, 'MMMLI'),\n",
    "                     (3185, 'MMMCLXXXV'),\n",
    "                     (3250, 'MMMCCL'),\n",
    "                     (3313, 'MMMCCCXIII'),\n",
    "                     (3408, 'MMMCDVIII'),\n",
    "                     (3501, 'MMMDI'),\n",
    "                     (3610, 'MMMDCX'),\n",
    "                     (3743, 'MMMDCCXLIII'),\n",
    "                     (3844, 'MMMDCCCXLIV'),\n",
    "                     (3888, 'MMMDCCCLXXXVIII'),\n",
    "                     (3940, 'MMMCMXL'),\n",
    "                     (3999, 'MMMCMXCIX'))\n",
    "    \n",
    "    converter = Romans()\n",
    "    \n",
    "    def test_to_roman_known_values(self):\n",
    "        '''to_roman should give known results with known input'''\n",
    "        \n",
    "        for number, roman in self.known_values:\n",
    "            self.assertEqual(roman, self.converter.to_roman(number))\n",
    "            \n",
    "    def test_large_numbers(self):\n",
    "        '''to_roman must fail for large input'''\n",
    "        \n",
    "        self.assertRaises(OutOfRangeError, self.converter.to_roman, 4000)\n",
    "        \n",
    "    def test_zero(self):\n",
    "        '''to_roman must fail for zero'''\n",
    "        self.assertRaises(OutOfRangeError, self.converter.to_roman, 0)\n",
    "        \n",
    "    def test_negative_number(self):\n",
    "        '''to_roman must fail for negative numbers'''\n",
    "        self.assertRaises(OutOfRangeError, self.converter.to_roman, -1)\n",
    "        \n",
    "    def test_not_natural_number(self):\n",
    "        '''to_roman must fail for fraction or floating point numbers'''\n",
    "        self.assertRaises(NotIntegerError, self.converter.to_roman, 1.5)\n",
    "    \n",
    "    def test_from_roman_known_values(self):\n",
    "        '''from_roman should give known results with known input'''\n",
    "        \n",
    "        for number, roman in self.known_values:\n",
    "            self.assertEqual(number, self.converter.from_roman(roman))\n",
    "\n",
    "    def test_roundtrip(self):\n",
    "        '''from_roman(to_roman(n)) == n for all n'''\n",
    "        \n",
    "        for i in range(1, 4000):\n",
    "            result = self.converter.from_roman(self.converter.to_roman(i))\n",
    "            self.assertEqual(i, result)\n",
    "            \n",
    "    def test_too_many_repeated_numerals(self):\n",
    "        '''from_roman should fail with too many repeated numeral'''\n",
    "        \n",
    "        for s in ('MMMM', 'DD', 'CCCC', 'LL', 'XXXX', 'VV', 'IIII'):\n",
    "            self.assertRaises(InvalidRomanNumeralError, self.converter.from_roman, s)\n",
    "            \n",
    "    def test_invalid_repeated_pairs(self):\n",
    "        '''from_roman should fail with repeated pairs of numerals'''\n",
    "        \n",
    "        for s in ('CMCM', 'CDCD', 'XCXC', 'XLXL', 'IXIX', 'IVIV'):\n",
    "            self.assertRaises(InvalidRomanNumeralError, self.converter.from_roman, s)\n",
    "            \n",
    "    def test_malformed_antecedents(self):\n",
    "        '''from_roman should fail with malformed axntecedents'''\n",
    "        \n",
    "        for s in ('IIMXCC', 'VX', 'DCM', 'CMM', 'IXIV',\n",
    "                  'MCMC', 'XCX', 'IVI', 'LM', 'LD', 'LC'):\n",
    "            self.assertRaises(InvalidRomanNumeralError, self.converter.from_roman, s)"
   ]
  },
  {
   "cell_type": "markdown",
   "metadata": {},
   "source": [
    "Now lets use the **regex** from earlier to implement the code needed to address the test above"
   ]
  },
  {
   "cell_type": "code",
   "execution_count": 87,
   "metadata": {},
   "outputs": [],
   "source": [
    "import re\n",
    "\n",
    "class Romans:\n",
    "    roman_numeral_map = (('M',  1000),\n",
    "                         ('CM', 900),\n",
    "                         ('D',  500),\n",
    "                         ('CD', 400),\n",
    "                         ('C',  100),\n",
    "                         ('XC', 90),\n",
    "                         ('L',  50),\n",
    "                         ('XL', 40),\n",
    "                         ('X',  10),\n",
    "                         ('IX', 9),\n",
    "                         ('V',  5),\n",
    "                         ('IV', 4),\n",
    "                         ('I',  1))\n",
    "    \n",
    "    roman_numeral_pattern = re.compile('''\n",
    "        ^                   # beginning of string\n",
    "        M{0,3}              # thousands - 0 to 3 Ms\n",
    "        (CM|CD|D?C{0,3})    # hundreds - 900 (CM), 400 (CD), 0-300 (0 to 3 Cs),\n",
    "                            #            or 500-800 (D, followed by 0 to 3 Cs)\n",
    "        (XC|XL|L?X{0,3})    # tens - 90 (XC), 40 (XL), 0-30 (0 to 3 Xs),\n",
    "                            #        or 50-80 (L, followed by 0 to 3 Xs)\n",
    "        (IX|IV|V?I{0,3})    # ones - 9 (IX), 4 (IV), 0-3 (0 to 3 Is),\n",
    "                            #        or 5-8 (V, followed by 0 to 3 Is)\n",
    "        $                   # end of string\n",
    "        ''', re.VERBOSE)\n",
    "\n",
    "\n",
    "    def to_roman(self, n):\n",
    "        '''convert integer to Roman numeral'''\n",
    "        \n",
    "        if not isinstance(n, int):\n",
    "            raise NotIntegerError('non-integer cannot be converted')\n",
    "        \n",
    "        if n > 3999:\n",
    "            raise OutOfRangeError('number out of range (must be less than 4000)')\n",
    "\n",
    "        if n < 1:\n",
    "            raise OutOfRangeError('number out of range (must be more than 0)')\n",
    "\n",
    "        result = ''\n",
    "        for roman, number in self.roman_numeral_map:\n",
    "            while n >= number:\n",
    "                result += roman\n",
    "                n -= number\n",
    "                \n",
    "        return result\n",
    "                \n",
    "    def from_roman(self, r):\n",
    "        '''convert Roman numeral to integer'''\n",
    "        \n",
    "        if not self.roman_numeral_pattern.search(r):\n",
    "            raise InvalidRomanNumeralError(f\"Invalid Roman numeral: {r}\")\n",
    "        \n",
    "        result = 0\n",
    "        index = 0\n",
    "        for roman, number in self.roman_numeral_map:\n",
    "            while r[index:index+len(roman)] == roman:\n",
    "                index += len(roman)\n",
    "                result += number\n",
    "                \n",
    "        return result\n",
    "    "
   ]
  },
  {
   "cell_type": "code",
   "execution_count": 88,
   "metadata": {},
   "outputs": [
    {
     "data": {
      "application/unittest.status+json": {
       "color": "yellow",
       "message": "",
       "previous": 0
      },
      "text/plain": []
     },
     "metadata": {},
     "output_type": "display_data"
    },
    {
     "data": {
      "application/unittest.status+json": {
       "color": "lightgreen",
       "message": "..........\n----------------------------------------------------------------------\nRan 10 tests in 0.035s\n\nOK\n",
       "previous": 0
      },
      "text/plain": [
       "Success"
      ]
     },
     "metadata": {},
     "output_type": "display_data"
    },
    {
     "name": "stdout",
     "output_type": "stream",
     "text": [
      "..........\n",
      "----------------------------------------------------------------------\n",
      "Ran 10 tests in 0.035s\n",
      "\n",
      "OK\n"
     ]
    },
    {
     "data": {
      "text/plain": [
       "<unittest.runner.TextTestResult run=10 errors=0 failures=0>"
      ]
     },
     "execution_count": 88,
     "metadata": {},
     "output_type": "execute_result"
    }
   ],
   "source": [
    "%%unittest_main\n",
    "\n",
    "class RomansTest(unittest.TestCase):\n",
    "    known_values = ( (1, 'I'),\n",
    "                     (2, 'II'),\n",
    "                     (3, 'III'),\n",
    "                     (4, 'IV'),\n",
    "                     (5, 'V'),\n",
    "                     (6, 'VI'),\n",
    "                     (7, 'VII'),\n",
    "                     (8, 'VIII'),\n",
    "                     (9, 'IX'),\n",
    "                     (10, 'X'),\n",
    "                     (50, 'L'),\n",
    "                     (100, 'C'),\n",
    "                     (500, 'D'),\n",
    "                     (1000, 'M'),\n",
    "                     (31, 'XXXI'),\n",
    "                     (148, 'CXLVIII'),\n",
    "                     (294, 'CCXCIV'),\n",
    "                     (312, 'CCCXII'),\n",
    "                     (421, 'CDXXI'),\n",
    "                     (528, 'DXXVIII'),\n",
    "                     (621, 'DCXXI'),\n",
    "                     (782, 'DCCLXXXII'),\n",
    "                     (870, 'DCCCLXX'),\n",
    "                     (941, 'CMXLI'),\n",
    "                     (1043, 'MXLIII'),\n",
    "                     (1110, 'MCX'),\n",
    "                     (1226, 'MCCXXVI'),\n",
    "                     (1301, 'MCCCI'),\n",
    "                     (1485, 'MCDLXXXV'),\n",
    "                     (1509, 'MDIX'),\n",
    "                     (1607, 'MDCVII'),\n",
    "                     (1754, 'MDCCLIV'),\n",
    "                     (1832, 'MDCCCXXXII'),\n",
    "                     (1993, 'MCMXCIII'),\n",
    "                     (2074, 'MMLXXIV'),\n",
    "                     (2152, 'MMCLII'),\n",
    "                     (2212, 'MMCCXII'),\n",
    "                     (2343, 'MMCCCXLIII'),\n",
    "                     (2499, 'MMCDXCIX'),\n",
    "                     (2574, 'MMDLXXIV'),\n",
    "                     (2646, 'MMDCXLVI'),\n",
    "                     (2723, 'MMDCCXXIII'),\n",
    "                     (2892, 'MMDCCCXCII'),\n",
    "                     (2975, 'MMCMLXXV'),\n",
    "                     (3051, 'MMMLI'),\n",
    "                     (3185, 'MMMCLXXXV'),\n",
    "                     (3250, 'MMMCCL'),\n",
    "                     (3313, 'MMMCCCXIII'),\n",
    "                     (3408, 'MMMCDVIII'),\n",
    "                     (3501, 'MMMDI'),\n",
    "                     (3610, 'MMMDCX'),\n",
    "                     (3743, 'MMMDCCXLIII'),\n",
    "                     (3844, 'MMMDCCCXLIV'),\n",
    "                     (3888, 'MMMDCCCLXXXVIII'),\n",
    "                     (3940, 'MMMCMXL'),\n",
    "                     (3999, 'MMMCMXCIX'))\n",
    "    \n",
    "    converter = Romans()\n",
    "    \n",
    "    def test_to_roman_known_values(self):\n",
    "        '''to_roman should give known results with known input'''\n",
    "        \n",
    "        for number, roman in self.known_values:\n",
    "            self.assertEqual(roman, self.converter.to_roman(number))\n",
    "            \n",
    "    def test_large_numbers(self):\n",
    "        '''to_roman must fail for large input'''\n",
    "        \n",
    "        self.assertRaises(OutOfRangeError, self.converter.to_roman, 4000)\n",
    "        \n",
    "    def test_zero(self):\n",
    "        '''to_roman must fail for zero'''\n",
    "        self.assertRaises(OutOfRangeError, self.converter.to_roman, 0)\n",
    "        \n",
    "    def test_negative_number(self):\n",
    "        '''to_roman must fail for negative numbers'''\n",
    "        self.assertRaises(OutOfRangeError, self.converter.to_roman, -1)\n",
    "        \n",
    "    def test_not_natural_number(self):\n",
    "        '''to_roman must fail for fraction or floating point numbers'''\n",
    "        self.assertRaises(NotIntegerError, self.converter.to_roman, 1.5)\n",
    "    \n",
    "    def test_from_roman_known_values(self):\n",
    "        '''from_roman should give known results with known input'''\n",
    "        \n",
    "        for number, roman in self.known_values:\n",
    "            self.assertEqual(number, self.converter.from_roman(roman))\n",
    "\n",
    "    def test_roundtrip(self):\n",
    "        '''from_roman(to_roman(n)) == n for all n'''\n",
    "        \n",
    "        for i in range(1, 4000):\n",
    "            result = self.converter.from_roman(self.converter.to_roman(i))\n",
    "            self.assertEqual(i, result)\n",
    "            \n",
    "    def test_too_many_repeated_numerals(self):\n",
    "        '''from_roman should fail with too many repeated numeral'''\n",
    "        \n",
    "        for s in ('MMMM', 'DD', 'CCCC', 'LL', 'XXXX', 'VV', 'IIII'):\n",
    "            self.assertRaises(InvalidRomanNumeralError, self.converter.from_roman, s)\n",
    "            \n",
    "    def test_invalid_repeated_pairs(self):\n",
    "        '''from_roman should fail with repeated pairs of numerals'''\n",
    "        \n",
    "        for s in ('CMCM', 'CDCD', 'XCXC', 'XLXL', 'IXIX', 'IVIV'):\n",
    "            self.assertRaises(InvalidRomanNumeralError, self.converter.from_roman, s)\n",
    "            \n",
    "    def test_malformed_antecedents(self):\n",
    "        '''from_roman should fail with malformed axntecedents'''\n",
    "        \n",
    "        for s in ('IIMXCC', 'VX', 'DCM', 'CMM', 'IXIV',\n",
    "                  'MCMC', 'XCX', 'IVI', 'LM', 'LD', 'LC'):\n",
    "            self.assertRaises(InvalidRomanNumeralError, self.converter.from_roman, s)"
   ]
  },
  {
   "cell_type": "markdown",
   "metadata": {},
   "source": [
    "I feel it is appropriate to end this notebook with a line from the book itself\n",
    "\n",
    "And the anticlimax award of the year goes to... the word `\"OK\"`, which is printed by the `unittest` module when all the tests pass."
   ]
  }
 ],
 "metadata": {
  "kernelspec": {
   "display_name": "Python 3",
   "language": "python",
   "name": "python3"
  },
  "language_info": {
   "codemirror_mode": {
    "name": "ipython",
    "version": 3
   },
   "file_extension": ".py",
   "mimetype": "text/x-python",
   "name": "python",
   "nbconvert_exporter": "python",
   "pygments_lexer": "ipython3",
   "version": "3.8.5"
  }
 },
 "nbformat": 4,
 "nbformat_minor": 4
}
