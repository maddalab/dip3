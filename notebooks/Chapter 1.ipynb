{
 "cells": [
  {
   "cell_type": "code",
   "execution_count": 5,
   "metadata": {},
   "outputs": [],
   "source": [
    "from typing import Dict, List\n",
    "\n",
    "SUFFIXES: Dict[int, List[str]] = {1000: ['KB', 'MB', 'GB', 'TB', 'PB', 'EB', 'ZB', 'YB'],\n",
    "            1024: ['KiB', 'MiB', 'GiB', 'TiB', 'PiB', 'EiB', 'ZiB', 'YiB']}"
   ]
  },
  {
   "cell_type": "code",
   "execution_count": 7,
   "metadata": {},
   "outputs": [],
   "source": [
    "def approximate_size(size: int, a_kilobyte_is_1024_bytes: bool = True) -> str:\n",
    "    '''Convert a file size to human readable form\n",
    "    \n",
    "    Keyword arguments:\n",
    "    size -- file size in bytes\n",
    "    a_kilobyte_is_1024_bytes -- if True (default), use multiple of 1024\n",
    "                                if False, use multiple of 1000\n",
    "                                \n",
    "    Returns: string\n",
    "    '''\n",
    "    \n",
    "    if size < 0:\n",
    "        raise ValueError('size must be non-negative')\n",
    "        \n",
    "    multiple = 1024 if a_kilobyte_is_1024_bytes else 1000\n",
    "    for suffix in SUFFIXES[multiple]:\n",
    "        size /= multiple\n",
    "        if size < multiple:\n",
    "            return '{0:.1f} {1}'.format(size, suffix)\n",
    "        \n",
    "    raise ValueError(\"size is too large\")"
   ]
  },
  {
   "cell_type": "code",
   "execution_count": 8,
   "metadata": {},
   "outputs": [
    {
     "name": "stdout",
     "output_type": "stream",
     "text": [
      "1.0 TB\n"
     ]
    }
   ],
   "source": [
    "print(approximate_size(1000000000000, False))"
   ]
  },
  {
   "cell_type": "code",
   "execution_count": 9,
   "metadata": {},
   "outputs": [
    {
     "name": "stdout",
     "output_type": "stream",
     "text": [
      "931.3 GiB\n"
     ]
    }
   ],
   "source": [
    "print(approximate_size(1000000000000))"
   ]
  },
  {
   "cell_type": "code",
   "execution_count": null,
   "metadata": {},
   "outputs": [],
   "source": []
  }
 ],
 "metadata": {
  "kernelspec": {
   "display_name": "Python 3",
   "language": "python",
   "name": "python3"
  },
  "language_info": {
   "codemirror_mode": {
    "name": "ipython",
    "version": 3
   },
   "file_extension": ".py",
   "mimetype": "text/x-python",
   "name": "python",
   "nbconvert_exporter": "python",
   "pygments_lexer": "ipython3",
   "version": "3.8.5"
  }
 },
 "nbformat": 4,
 "nbformat_minor": 4
}
