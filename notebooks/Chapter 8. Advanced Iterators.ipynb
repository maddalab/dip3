{
 "cells": [
  {
   "cell_type": "markdown",
   "metadata": {},
   "source": [
    "#### Diving In\n",
    "\n",
    "Just as _regular expressions_ put _strings_ on steroid the `itertools` module puts `iterators` on steroid.\n",
    "\n",
    "\n",
    "Lets take a look at some examples.\n",
    "\n",
    "`itertools.permutations` take a sequence and a number representing the selection size and returns all permutations of that size."
   ]
  },
  {
   "cell_type": "code",
   "execution_count": 1,
   "metadata": {},
   "outputs": [
    {
     "data": {
      "text/plain": [
       "[('A', 'B', 'C'),\n",
       " ('A', 'C', 'B'),\n",
       " ('B', 'A', 'C'),\n",
       " ('B', 'C', 'A'),\n",
       " ('C', 'A', 'B'),\n",
       " ('C', 'B', 'A')]"
      ]
     },
     "execution_count": 1,
     "metadata": {},
     "output_type": "execute_result"
    }
   ],
   "source": [
    "import itertools\n",
    "\n",
    "list(itertools.permutations(\"ABC\", 3))"
   ]
  },
  {
   "cell_type": "code",
   "execution_count": 2,
   "metadata": {},
   "outputs": [
    {
     "data": {
      "text/plain": [
       "[('A', 'B'), ('A', 'C'), ('B', 'A'), ('B', 'C'), ('C', 'A'), ('C', 'B')]"
      ]
     },
     "execution_count": 2,
     "metadata": {},
     "output_type": "execute_result"
    }
   ],
   "source": [
    "list(itertools.permutations(\"ABC\", 2))"
   ]
  },
  {
   "cell_type": "markdown",
   "metadata": {},
   "source": [
    "`itertools.combinations` is similar to the earlier method, except ordering is not important"
   ]
  },
  {
   "cell_type": "code",
   "execution_count": 3,
   "metadata": {},
   "outputs": [
    {
     "data": {
      "text/plain": [
       "[('A', 'B'), ('A', 'C'), ('B', 'C')]"
      ]
     },
     "execution_count": 3,
     "metadata": {},
     "output_type": "execute_result"
    }
   ],
   "source": [
    "list(itertools.combinations(\"ABC\", 2))"
   ]
  },
  {
   "cell_type": "markdown",
   "metadata": {},
   "source": [
    "##### Generator Expressions\n",
    "\n",
    "A generator expression is like a _generator function_ (yield) without the function"
   ]
  },
  {
   "cell_type": "code",
   "execution_count": 4,
   "metadata": {},
   "outputs": [],
   "source": [
    "unique_characters = {'E', 'D', 'M', 'O', 'N', 'S', 'R', 'Y'}\n",
    "gen = (ord(c) for c in unique_characters)"
   ]
  },
  {
   "cell_type": "code",
   "execution_count": 5,
   "metadata": {},
   "outputs": [
    {
     "data": {
      "text/plain": [
       "generator"
      ]
     },
     "execution_count": 5,
     "metadata": {},
     "output_type": "execute_result"
    }
   ],
   "source": [
    "type(gen)"
   ]
  },
  {
   "cell_type": "markdown",
   "metadata": {},
   "source": [
    "The generator expression is like an anonymous function that `yields` values. The expression itself looks a bit like `list comprehensions`, but it is wrapper in parenthesis instance of square brackets."
   ]
  },
  {
   "cell_type": "code",
   "execution_count": 6,
   "metadata": {},
   "outputs": [
    {
     "data": {
      "text/plain": [
       "[79, 82, 69, 89, 77, 78, 68, 83]"
      ]
     },
     "execution_count": 6,
     "metadata": {},
     "output_type": "execute_result"
    }
   ],
   "source": [
    "list(gen)"
   ]
  },
  {
   "cell_type": "markdown",
   "metadata": {},
   "source": [
    "##### Combining Generator expressions and itertools\n",
    "\n",
    "Lets look at a cryptarithms or alphametrics puzzle\n",
    "\n",
    "    HAWAII + IDAHO + IOWA + OHIO == STATES\n",
    "    510199 + 98153 + 9301 + 3593 == 621246\n",
    "    \n",
    "The letters spell out actual words, but if you replace each letter with a digit from 0-9 it also \"spells\" an arithmetric equation. The trick is to figure out which letter maps to each digit.\n",
    "\n",
    "All occurences of each letter must map to the same digit, no digit can be repeated and no word can start with `0`"
   ]
  },
  {
   "cell_type": "code",
   "execution_count": 27,
   "metadata": {},
   "outputs": [],
   "source": [
    "import re\n",
    "import itertools\n",
    "\n",
    "def solve(puzzle: str) -> str:\n",
    "    '''solves alphametric puzzles'''\n",
    "    \n",
    "    # split out the provided puzzle to capture all the words\n",
    "    words = re.findall('[A-Z]+', puzzle.upper())\n",
    "    \n",
    "    # gather all the unique character in the words\n",
    "    unique_characters = set(''.join(words))\n",
    "    \n",
    "    # we can't have more than 10 letters 0-9\n",
    "    assert len(unique_characters) <= 10, 'Too many letters'\n",
    "    \n",
    "    # collect the first letters\n",
    "    first_letters = {word[0] for word in words}\n",
    "    n = len(first_letters)\n",
    "    \n",
    "    # sort with first letter in the front\n",
    "    sorted_characters = ''.join(first_letters) + ''.join(unique_characters - first_letters)\n",
    "    \n",
    "    # set up the tuples we will be using with permutations\n",
    "    characters = tuple(ord(c) for c in sorted_characters)\n",
    "    digits = tuple(ord(c) for c in '0123456789')\n",
    "    \n",
    "    # what is the 0 digit represented as\n",
    "    zero = digits[0]\n",
    "    for guess in itertools.permutations(digits, len(characters)):\n",
    "        \n",
    "        # the first `n` characters are first letter of words and ca\n",
    "        if zero not in guess[:n]:\n",
    "            mapping = dict(zip(characters, guess))\n",
    "            equation = puzzle.upper().translate(mapping)\n",
    "            if eval(equation):\n",
    "                return equation\n",
    "            \n",
    "    raise \"No equation available\"\n",
    "    \n",
    "    "
   ]
  },
  {
   "cell_type": "code",
   "execution_count": 28,
   "metadata": {},
   "outputs": [
    {
     "data": {
      "text/plain": [
       "'9567 + 1085 == 10652'"
      ]
     },
     "execution_count": 28,
     "metadata": {},
     "output_type": "execute_result"
    }
   ],
   "source": [
    "solve(\"send + more == money\")"
   ]
  },
  {
   "cell_type": "code",
   "execution_count": 29,
   "metadata": {},
   "outputs": [
    {
     "data": {
      "text/plain": [
       "'510199 + 98153 + 9301 + 3593 == 621246'"
      ]
     },
     "execution_count": 29,
     "metadata": {},
     "output_type": "execute_result"
    }
   ],
   "source": [
    "solve(\"HAWAII + IDAHO + IOWA + OHIO == STATES\")"
   ]
  },
  {
   "cell_type": "code",
   "execution_count": null,
   "metadata": {},
   "outputs": [],
   "source": []
  }
 ],
 "metadata": {
  "kernelspec": {
   "display_name": "Python 3",
   "language": "python",
   "name": "python3"
  },
  "language_info": {
   "codemirror_mode": {
    "name": "ipython",
    "version": 3
   },
   "file_extension": ".py",
   "mimetype": "text/x-python",
   "name": "python",
   "nbconvert_exporter": "python",
   "pygments_lexer": "ipython3",
   "version": "3.8.5"
  }
 },
 "nbformat": 4,
 "nbformat_minor": 4
}
