{
 "cells": [
  {
   "cell_type": "code",
   "execution_count": 1,
   "metadata": {},
   "outputs": [],
   "source": [
    "%load_ext ipython_unittest"
   ]
  },
  {
   "cell_type": "markdown",
   "metadata": {},
   "source": [
    "### (Not) Diving In\n",
    "\n",
    "We will revisit the roman numeral problem from earlier. The rules associated with roman numerals are\n",
    "\n",
    "In Roman numerals, there are seven characters that are repeated and combined in various ways to represent numbers.\n",
    "\n",
    "    I = 1\n",
    "    V = 5\n",
    "    X = 10\n",
    "    L = 50\n",
    "    C = 100\n",
    "    D = 500\n",
    "    M = 1000\n",
    "\n",
    "The following are some general rules for constructing Roman numerals:\n",
    "\n",
    "* Sometimes characters are additive. I is 1, II is 2, and III is 3. VI is 6 (literally, “5 and 1”), VII is 7, and VIII is 8.\n",
    "\n",
    "* The tens characters (I, X, C, and M) can be repeated up to three times. At 4, you need to subtract from the next highest fives character. You can't represent 4 as IIII; instead, it is represented as IV (“1 less than 5”). 40 is written as XL (“10 less than 50”), 41 as XLI, 42 as XLII, 43 as XLIII, and then 44 as XLIV (“10 less than 50, then 1 less than 5”).\n",
    "\n",
    "* Sometimes characters are the opposite of additive. By putting certain characters before others, you subtract from the final value. For example, at 9, you need to subtract from the next highest tens character: 8 is VIII, but 9 is IX (“1 less than 10”), not VIIII (since the I character can not be repeated four times). 90 is XC, 900 is CM.\n",
    "\n",
    "* The fives characters can not be repeated. 10 is always represented as X, never as VV. 100 is always C, never LL.\n",
    "\n",
    "* Roman numerals are read left to right, so the order of characters matters very much. DC is 600; CD is a completely different number (400, “100 less than 500”). CI is 101; IC is not even a valid Roman numeral (because you can't subtract 1 directly from 100; you would need to write it as XCIX, “10 less than 100, then 1 less than 10”).\n",
    "\n",
    "\n",
    "The above rules lead to a number of interesting observations\n",
    "\n",
    "1. There is _only one_ correct way to represent an Roman numeral.\n",
    "\n",
    "2. The converse is also true: if a string is a valid Roman numeral, it represent _only one_ number (that is, it can only be interpreted one way)\n",
    "\n",
    "3. There is a limited range of number than can be expressed as Roman numerals, specifically 1 thru 3999.\n",
    "\n",
    "4. There is no way to represent 0 as a Roman numberal\n",
    "\n",
    "5. There is no way to represent negative numbers in Roman numerals.\n",
    "\n",
    "6. There is no way to represent fractions or non-integer numbers in Roman numerals.\n",
    "\n"
   ]
  },
  {
   "cell_type": "markdown",
   "metadata": {},
   "source": [
    "##### TDD - Test Driven Development\n",
    "\n",
    "Test driven development means writing test before writing code. Usually approaches for TDD are implemented via _unit tests_. Python has a framework for unit testing, the appropriately named `unittest` module.\n",
    "\n",
    "Unit testing is an important part of an overall testing-centric development strategy. If you write unit testing it is important to write them early and to keep them updated as code and requirements change.\n",
    "\n",
    "Unit testing are beneficial without TDD, but are better applied in conjunction with TDD.\n",
    "\n",
    "* Before writing code, writing tests forces you to detail your requirements in a useful fashion\n",
    "\n",
    "* While writing code, unit tests keep you from over architecting. When all the test cases pass, the function is complete\n",
    "\n",
    "* When refactoring code, unit tests prove the new version behaves the same way as the old version.\n",
    "\n",
    "* When writing code in a team, having comprehensive test suite dramatically decreases the chances that your code will break someone else's code.\n",
    "\n",
    "##### Writing test cases\n",
    "\n",
    "A test case should be able to run completely by itself without any human input. Unit testing is about automation.\n",
    "\n",
    "A test case should determine success or failure of the code under test\n",
    "\n",
    "A test case is run in isolation separate from any other test case, even if they test the same function. Each test case is an island.\n",
    "\n",
    "Let's demonstrate unit tests using an example."
   ]
  },
  {
   "cell_type": "markdown",
   "metadata": {},
   "source": [
    "##### Chess Dictionary Validator\n",
    "\n",
    "We use the dictionary value \n",
    "\n",
    "```python\n",
    "{'1h': 'bking', '6c': 'wqueen', '2g': 'bbishop', '5h': 'bqueen', '3e': 'wking'}\n",
    "```\n",
    "\n",
    "to represent a chess board. Write a function named `isValidChessBoard()` that takes a dictionary argument and returns `True` or `False` depending on if the board is valid.\n",
    "\n",
    "A valid board\n",
    "\n",
    "* will have exactly one black king and exactly one white king.\n",
    "* Each player can only have at most 16 pieces\n",
    "* at most 8 pawns\n",
    "* all pieces must be on a valid space from '1a' to '8h'; that is, a piece can’t be on space '9z'.\n",
    "* The piece names begin with either a 'w' or 'b' to represent white or black, followed by 'pawn', 'knight', 'bishop', 'rook', 'queen', or 'king'.\n",
    "\n",
    "This function should detect when a bug has resulted in an improper chess board.\n"
   ]
  },
  {
   "cell_type": "code",
   "execution_count": 171,
   "metadata": {},
   "outputs": [],
   "source": [
    "# define a signature for the verification function\n",
    "\n",
    "def isValidChessBoard(board):\n",
    "    raise NotImplementedError()"
   ]
  },
  {
   "cell_type": "code",
   "execution_count": 172,
   "metadata": {},
   "outputs": [
    {
     "data": {
      "application/unittest.status+json": {
       "color": "yellow",
       "message": "",
       "previous": 0
      },
      "text/plain": []
     },
     "metadata": {},
     "output_type": "display_data"
    },
    {
     "data": {
      "application/unittest.status+json": {
       "color": "salmon",
       "message": "EEEEEE\n======================================================================\nERROR: test_bad_board_alien_piece (__main__.VerifyChessBoard)\n----------------------------------------------------------------------\nTraceback (most recent call last):\n  File \"Cell Tests\", line 82, in test_bad_board_alien_piece\n  File \"<ipython-input-171-460d70cd4b77>\", line 4, in isValidChessBoard\n    raise NotImplementedError()\nNotImplementedError\n\n======================================================================\nERROR: test_bad_board_incorrect_position (__main__.VerifyChessBoard)\n----------------------------------------------------------------------\nTraceback (most recent call last):\n  File \"Cell Tests\", line 28, in test_bad_board_incorrect_position\n  File \"<ipython-input-171-460d70cd4b77>\", line 4, in isValidChessBoard\n    raise NotImplementedError()\nNotImplementedError\n\n======================================================================\nERROR: test_bad_board_too_many_kings (__main__.VerifyChessBoard)\n----------------------------------------------------------------------\nTraceback (most recent call last):\n  File \"Cell Tests\", line 55, in test_bad_board_too_many_kings\n  File \"<ipython-input-171-460d70cd4b77>\", line 4, in isValidChessBoard\n    raise NotImplementedError()\nNotImplementedError\n\n======================================================================\nERROR: test_bad_board_too_many_pawns (__main__.VerifyChessBoard)\n----------------------------------------------------------------------\nTraceback (most recent call last):\n  File \"Cell Tests\", line 69, in test_bad_board_too_many_pawns\n  File \"<ipython-input-171-460d70cd4b77>\", line 4, in isValidChessBoard\n    raise NotImplementedError()\nNotImplementedError\n\n======================================================================\nERROR: test_bad_board_too_many_white_pieces (__main__.VerifyChessBoard)\n----------------------------------------------------------------------\nTraceback (most recent call last):\n  File \"Cell Tests\", line 41, in test_bad_board_too_many_white_pieces\n  File \"<ipython-input-171-460d70cd4b77>\", line 4, in isValidChessBoard\n    raise NotImplementedError()\nNotImplementedError\n\n======================================================================\nERROR: test_valid_board (__main__.VerifyChessBoard)\n----------------------------------------------------------------------\nTraceback (most recent call last):\n  File \"Cell Tests\", line 15, in test_valid_board\n  File \"<ipython-input-171-460d70cd4b77>\", line 4, in isValidChessBoard\n    raise NotImplementedError()\nNotImplementedError\n\n----------------------------------------------------------------------\nRan 6 tests in 0.006s\n\nFAILED (errors=6)\n",
       "previous": 0
      },
      "text/plain": [
       "Fail"
      ]
     },
     "metadata": {},
     "output_type": "display_data"
    },
    {
     "name": "stdout",
     "output_type": "stream",
     "text": [
      "EEEEEE\n",
      "======================================================================\n",
      "ERROR: test_bad_board_alien_piece (__main__.VerifyChessBoard)\n",
      "----------------------------------------------------------------------\n",
      "Traceback (most recent call last):\n",
      "  File \"Cell Tests\", line 82, in test_bad_board_alien_piece\n",
      "  File \"<ipython-input-171-460d70cd4b77>\", line 4, in isValidChessBoard\n",
      "    raise NotImplementedError()\n",
      "NotImplementedError\n",
      "\n",
      "======================================================================\n",
      "ERROR: test_bad_board_incorrect_position (__main__.VerifyChessBoard)\n",
      "----------------------------------------------------------------------\n",
      "Traceback (most recent call last):\n",
      "  File \"Cell Tests\", line 28, in test_bad_board_incorrect_position\n",
      "  File \"<ipython-input-171-460d70cd4b77>\", line 4, in isValidChessBoard\n",
      "    raise NotImplementedError()\n",
      "NotImplementedError\n",
      "\n",
      "======================================================================\n",
      "ERROR: test_bad_board_too_many_kings (__main__.VerifyChessBoard)\n",
      "----------------------------------------------------------------------\n",
      "Traceback (most recent call last):\n",
      "  File \"Cell Tests\", line 55, in test_bad_board_too_many_kings\n",
      "  File \"<ipython-input-171-460d70cd4b77>\", line 4, in isValidChessBoard\n",
      "    raise NotImplementedError()\n",
      "NotImplementedError\n",
      "\n",
      "======================================================================\n",
      "ERROR: test_bad_board_too_many_pawns (__main__.VerifyChessBoard)\n",
      "----------------------------------------------------------------------\n",
      "Traceback (most recent call last):\n",
      "  File \"Cell Tests\", line 69, in test_bad_board_too_many_pawns\n",
      "  File \"<ipython-input-171-460d70cd4b77>\", line 4, in isValidChessBoard\n",
      "    raise NotImplementedError()\n",
      "NotImplementedError\n",
      "\n",
      "======================================================================\n",
      "ERROR: test_bad_board_too_many_white_pieces (__main__.VerifyChessBoard)\n",
      "----------------------------------------------------------------------\n",
      "Traceback (most recent call last):\n",
      "  File \"Cell Tests\", line 41, in test_bad_board_too_many_white_pieces\n",
      "  File \"<ipython-input-171-460d70cd4b77>\", line 4, in isValidChessBoard\n",
      "    raise NotImplementedError()\n",
      "NotImplementedError\n",
      "\n",
      "======================================================================\n",
      "ERROR: test_valid_board (__main__.VerifyChessBoard)\n",
      "----------------------------------------------------------------------\n",
      "Traceback (most recent call last):\n",
      "  File \"Cell Tests\", line 15, in test_valid_board\n",
      "  File \"<ipython-input-171-460d70cd4b77>\", line 4, in isValidChessBoard\n",
      "    raise NotImplementedError()\n",
      "NotImplementedError\n",
      "\n",
      "----------------------------------------------------------------------\n",
      "Ran 6 tests in 0.006s\n",
      "\n",
      "FAILED (errors=6)\n"
     ]
    },
    {
     "data": {
      "text/plain": [
       "<unittest.runner.TextTestResult run=6 errors=6 failures=0>"
      ]
     },
     "execution_count": 172,
     "metadata": {},
     "output_type": "execute_result"
    }
   ],
   "source": [
    "%%unittest_main\n",
    "\n",
    "import unittest\n",
    "\n",
    "class VerifyChessBoard(unittest.TestCase):\n",
    "    \n",
    "    def test_valid_board(self):\n",
    "        board = {'1a': 'bking','2a': 'bqueen','3a': 'brook','4a': 'brook', '5a': 'bknight','6a': 'bknight','7a':'bbishop','8a': 'bbishop',\n",
    "                 '1b': 'bpawn','2b': 'bpawn','3b': 'bpawn','4b':'bpawn', '5b': 'bpawn','6b': 'bpawn','7b': 'bpawn','8b': 'bpawn',\n",
    "                 '1c': 'wking','2c': 'wqueen','3c': 'wrook','4c': 'wrook','5c': 'wbishop','6c': 'wbishop','7c': 'wknight','8c':'wknight',\n",
    "                 '1e': 'wpawn','2e': 'wpawn','3e': 'wpawn','4e': 'wpawn', '5e': 'wpawn','6e': 'wpawn','7e': 'wpawn','8e': 'wpawn',\n",
    "                 '1f': '','2f': '','3f': '','4f': '','5f': '','6f': '','7f': '','8f': '',\n",
    "                 '1g': '','2g': '','3g': '','4g': '','5g': '','6g': '','7g': '','8g': '',\n",
    "                 '1h': '','2h': '','3h': '','4h': '','5h': '','6h': '','7h': '','8h': '',}\n",
    "        \n",
    "        self.assertTrue(isValidChessBoard(board))\n",
    "        \n",
    "    def test_bad_board_incorrect_position(self):\n",
    "        board = {'1a': 'wrook', '1b': 'wknight', '1c': 'wbishop', '1d': 'wqueen', '1e': 'wking', '1f': 'wbishop', '1g': 'wknight', '1h': 'wrook',\n",
    "                 '2a': 'wpawn', '2b': 'wpawn', '2c': 'wpawn', '2d': 'wpawn', '2e': 'wpawn', '2f': 'wpawn', '2g': 'wpawn', '2h': 'wpawn',\n",
    "                 '3a': '', '3b': '', '3c': '', '3d': '', '3e': '', '3f': '', '3g': '', '3h': '',\n",
    "                 '4a': '', '4b': '', '4c': '', '9d': '', '4e': '', '4f': '', '4g': '', '4h': '',\n",
    "                 '5a': '', '5b': '', '5c': '', '5d': '', '5e': '', '5f': '', '5g': '', '5h': '',\n",
    "                 '6a': '', '6b': '', '6c': '', '6d': '', '6e': '', '6f': '', '6g': '', '6h': '',\n",
    "                 '7a': 'bpawn', '7b': 'bpawn', '7c': 'bpawn', '7d': 'bpawn', '7e': 'bpawn', '7f': 'bpawn', '7g': 'bpawn', '7h': 'bpawn',\n",
    "                 '8a': 'brook', '8b': 'bknight', '8c': 'bbishop', '8d': 'bqueen', '8e': 'bking', '8f': 'bbishop', '8g': 'bknight', '8h': 'brook',\n",
    "                }\n",
    "        \n",
    "        self.assertFalse(isValidChessBoard(board))\n",
    "        \n",
    "    def test_bad_board_too_many_white_pieces(self):\n",
    "        board = {'1a': 'wrook', '1b': 'wknight', '1c': 'wbishop', '1d': 'wqueen', '1e': 'wking', '1f': 'wbishop', '1g': 'wknight', '1h': 'wrook',\n",
    "                 '2a': 'wpawn', '2b': 'wpawn', '2c': 'wpawn', '2d': 'wpawn', '2e': 'wpawn', '2f': 'wpawn', '2g': 'wpawn', '2h': 'wpawn',\n",
    "                 '3a': '', '3b': '', '3c': '', '3d': '', '3e': '', '3f': '', '3g': '', '3h': '',\n",
    "                 '4a': '', '4b': '', '4c': 'wknight', '4d': '', '4e': '', '4f': '', '4g': '', '4h': '',\n",
    "                 '5a': '', '5b': '', '5c': '', '5d': '', '5e': '', '5f': '', '5g': '', '5h': '',\n",
    "                 '6a': '', '6b': '', '6c': '', '6d': '', '6e': '', '6f': '', '6g': '', '6h': '',\n",
    "                 '7a': 'bpawn', '7b': 'bpawn', '7c': 'bpawn', '7d': 'bpawn', '7e': 'bpawn', '7f': 'bpawn', '7g': 'bpawn', '7h': 'bpawn',\n",
    "                 '8a': 'brook', '8b': 'bknight', '8c': 'bbishop', '8d': 'bqueen', '8e': 'bking', '8f': 'bbishop', '8g': 'bknight', '8h': 'brook',\n",
    "                }\n",
    "        \n",
    "        self.assertFalse(isValidChessBoard(board))\n",
    "        \n",
    "        \n",
    "    def test_bad_board_too_many_kings(self):\n",
    "        board = {'1a': 'wrook', '1b': 'wknight', '1c': 'wbishop', '1d': 'wqueen', '1e': 'wking', '1f': 'wbishop', '1g': 'wknight', '1h': 'wrook',\n",
    "                 '2a': 'wpawn', '2b': '', '2c': 'wpawn', '2d': 'wpawn', '2e': 'wpawn', '2f': 'wpawn', '2g': 'wpawn', '2h': 'wpawn',\n",
    "                 '3a': '', '3b': '', '3c': '', '3d': '', '3e': '', '3f': '', '3g': '', '3h': '',\n",
    "                 '4a': '', '4b': '', '4c': '', '4d': '', '4e': '', '4f': 'wking', '4g': '', '4h': '',\n",
    "                 '5a': '', '5b': '', '5c': '', '5d': '', '5e': '', '5f': '', '5g': '', '5h': '',\n",
    "                 '6a': '', '6b': '', '6c': '', '6d': '', '6e': '', '6f': '', '6g': '', '6h': '',\n",
    "                 '7a': 'bpawn', '7b': 'bpawn', '7c': 'bpawn', '7d': 'bpawn', '7e': 'bpawn', '7f': 'bpawn', '7g': 'bpawn', '7h': 'bpawn',\n",
    "                 '8a': 'brook', '8b': 'bknight', '8c': 'bbishop', '8d': 'bqueen', '8e': 'bking', '8f': 'bbishop', '8g': 'bknight', '8h': 'brook',\n",
    "                }\n",
    "        \n",
    "        self.assertFalse(isValidChessBoard(board))\n",
    "        \n",
    "\n",
    "    def test_bad_board_too_many_pawns(self):\n",
    "        board = {'1a': 'wrook', '1b': 'wknight', '1c': 'wbishop', '1d': 'wqueen', '1e': 'wking', '1f': 'wbishop', '1g': 'wknight', '1h': 'wrook',\n",
    "                 '2a': 'wpawn', '2b': 'wpawn', '2c': 'wpawn', '2d': 'wpawn', '2e': 'wpawn', '2f': 'wpawn', '2g': 'wpawn', '2h': 'wpawn',\n",
    "                 '3a': '', '3b': '', '3c': '', '3d': '', '3e': '', '3f': '', '3g': '', '3h': '',\n",
    "                 '4a': '', '4b': '', '4c': '', '4d': '', '4e': '', '4f': '', '4g': '', '4h': '',\n",
    "                 '5a': '', '5b': '', '5c': '', '5d': '', '5e': '', '5f': '', '5g': '', '5h': '',\n",
    "                 '6a': '', '6b': '', '6c': '', '6d': '', '6e': '', '6f': '', '6g': '', '6h': '',\n",
    "                 '7a': 'bpawn', '7b': 'bpawn', '7c': 'bpawn', '7d': 'bpawn', '7e': 'bpawn', '7f': 'bpawn', '7g': 'bpawn', '7h': 'bpawn',\n",
    "                 '8a': 'bpawn', '8b': 'bknight', '8c': 'bbishop', '8d': 'bqueen', '8e': 'bking', '8f': 'bbishop', '8g': 'bknight', '8h': 'brook',\n",
    "                }\n",
    "        \n",
    "        self.assertFalse(isValidChessBoard(board))\n",
    "        \n",
    "    def test_bad_board_alien_piece(self):\n",
    "        board = {'1a': 'wrook', '1b': 'wknight', '1c': 'wbishop', '1d': 'wqueen', '1e': 'wking', '1f': 'wbishop', '1g': 'wknight', '1h': 'wrook',\n",
    "                 '2a': 'wpawn', '2b': 'wpawn', '2c': 'wpawn', '2d': 'wpawn', '2e': 'wpawn', '2f': 'wpawn', '2g': 'wpawn', '2h': 'wpawn',\n",
    "                 '3a': '', '3b': '', '3c': '', '3d': '', '3e': '', '3f': '', '3g': '', '3h': '',\n",
    "                 '4a': '', '4b': '', '4c': '', '4d': '', '4e': '', '4f': '', '4g': '', '4h': '',\n",
    "                 '5a': '', '5b': '', '5c': '', '5d': '', '5e': 'gqueen', '5f': '', '5g': '', '5h': '',\n",
    "                 '6a': '', '6b': '', '6c': '', '6d': '', '6e': '', '6f': '', '6g': '', '6h': '',\n",
    "                 '7a': 'bpawn', '7b': 'bpawn', '7c': 'bpawn', '7d': 'bpawn', '7e': 'bpawn', '7f': 'bpawn', '7g': 'bpawn', '7h': 'bpawn',\n",
    "                 '8a': 'brook', '8b': 'bknight', '8c': 'bbishop', '8d': 'bqueen', '8e': 'bking', '8f': 'bbishop', '8g': 'bknight', '8h': 'brook',\n",
    "                }\n",
    "        \n",
    "        self.assertFalse(isValidChessBoard(board))"
   ]
  },
  {
   "cell_type": "markdown",
   "metadata": {},
   "source": [
    "##### Implementing the function\n",
    "\n",
    "With the above test cases in place we can go ahead and implement the logic necessary to verify a chess board"
   ]
  },
  {
   "cell_type": "code",
   "execution_count": 173,
   "metadata": {},
   "outputs": [],
   "source": [
    "def validPositions():\n",
    "    positions = set()\n",
    "    for col in ['a', 'b', 'c', 'd', 'e', 'f', 'g', 'h']:\n",
    "        for row in range(1, 9):\n",
    "            positions.add(str(row) + col)\n",
    "            \n",
    "    return positions\n",
    "\n",
    "def checkValidPositions(input_pos):\n",
    "    positions = validPositions()\n",
    "    return all(pos in positions for pos in input_pos)\n",
    "\n",
    "def isValidChessBoard(board):\n",
    "    return checkValidPositions(board.keys())"
   ]
  },
  {
   "cell_type": "markdown",
   "metadata": {},
   "source": [
    "Let's verify the correctness of a simple board position - for convenience we are reproducing the unit tests from above, in a typical development process we wouldn't do this. We expect the test case for the board with an incorrect position `9d` to succeed now."
   ]
  },
  {
   "cell_type": "code",
   "execution_count": 174,
   "metadata": {},
   "outputs": [
    {
     "data": {
      "application/unittest.status+json": {
       "color": "yellow",
       "message": "",
       "previous": 0
      },
      "text/plain": []
     },
     "metadata": {},
     "output_type": "display_data"
    },
    {
     "data": {
      "application/unittest.status+json": {
       "color": "lightgreen",
       "message": "..\n----------------------------------------------------------------------\nRan 2 tests in 0.000s\n\nOK\n",
       "previous": 0
      },
      "text/plain": [
       "Success"
      ]
     },
     "metadata": {},
     "output_type": "display_data"
    },
    {
     "name": "stdout",
     "output_type": "stream",
     "text": [
      "..\n",
      "----------------------------------------------------------------------\n",
      "Ran 2 tests in 0.000s\n",
      "\n",
      "OK\n"
     ]
    },
    {
     "data": {
      "text/plain": [
       "<unittest.runner.TextTestResult run=2 errors=0 failures=0>"
      ]
     },
     "execution_count": 174,
     "metadata": {},
     "output_type": "execute_result"
    }
   ],
   "source": [
    "%%unittest_main\n",
    "\n",
    "# write test cases that fail first with errors - since the function is not implemented\n",
    "\n",
    "import unittest\n",
    "\n",
    "class VerifyChessBoard(unittest.TestCase):\n",
    "    \n",
    "    def test_valid_board(self):\n",
    "        board = {'1a': 'bking','2a': 'bqueen','3a': 'brook','4a': 'brook', '5a': 'bknight','6a': 'bknight','7a':'bbishop','8a': 'bbishop',\n",
    "                 '1b': 'bpawn','2b': 'bpawn','3b': 'bpawn','4b':'bpawn', '5b': 'bpawn','6b': 'bpawn','7b': 'bpawn','8b': 'bpawn',\n",
    "                 '1c': 'wking','2c': 'wqueen','3c': 'wrook','4c': 'wrook','5c': 'wbishop','6c': 'wbishop','7c': 'wknight','8c':'wknight',\n",
    "                 '1e': 'wpawn','2e': 'wpawn','3e': 'wpawn','4e': 'wpawn', '5e': 'wpawn','6e': 'wpawn','7e': 'wpawn','8e': 'wpawn',\n",
    "                 '1f': '','2f': '','3f': '','4f': '','5f': '','6f': '','7f': '','8f': '',\n",
    "                 '1g': '','2g': '','3g': '','4g': '','5g': '','6g': '','7g': '','8g': '',\n",
    "                 '1h': '','2h': '','3h': '','4h': '','5h': '','6h': '','7h': '','8h': '',}\n",
    "        \n",
    "        self.assertTrue(isValidChessBoard(board))\n",
    "        \n",
    "    def test_bad_board_incorrect_position(self):\n",
    "        board = {'1a': 'wrook', '1b': 'wknight', '1c': 'wbishop', '1d': 'wqueen', '1e': 'wking', '1f': 'wbishop', '1g': 'wknight', '1h': 'wrook',\n",
    "                 '2a': 'wpawn', '2b': 'wpawn', '2c': 'wpawn', '2d': 'wpawn', '2e': 'wpawn', '2f': 'wpawn', '2g': 'wpawn', '2h': 'wpawn',\n",
    "                 '3a': '', '3b': '', '3c': '', '3d': '', '3e': '', '3f': '', '3g': '', '3h': '',\n",
    "                 '4a': '', '4b': '', '4c': '', '9d': '', '4e': '', '4f': '', '4g': '', '4h': '',\n",
    "                 '5a': '', '5b': '', '5c': '', '5d': '', '5e': '', '5f': '', '5g': '', '5h': '',\n",
    "                 '6a': '', '6b': '', '6c': '', '6d': '', '6e': '', '6f': '', '6g': '', '6h': '',\n",
    "                 '7a': 'bpawn', '7b': 'bpawn', '7c': 'bpawn', '7d': 'bpawn', '7e': 'bpawn', '7f': 'bpawn', '7g': 'bpawn', '7h': 'bpawn',\n",
    "                 '8a': 'brook', '8b': 'bknight', '8c': 'bbishop', '8d': 'bqueen', '8e': 'bking', '8f': 'bbishop', '8g': 'bknight', '8h': 'brook',\n",
    "                }\n",
    "        \n",
    "        self.assertFalse(isValidChessBoard(board))"
   ]
  },
  {
   "cell_type": "markdown",
   "metadata": {},
   "source": [
    "Let's continue to implement additional logic. For convenience the rules are reproduces here.\n",
    "\n",
    "A valid board\n",
    "\n",
    "* ~all pieces must be on a valid space from '1a' to '8h'; that is, a piece can’t be on space '9z'.~\n",
    "* will have exactly one black king and exactly one white king.\n",
    "* Each player can only have at most 16 pieces\n",
    "* at most 8 pawns\n",
    "* The piece names begin with either a 'w' or 'b' to represent white or black, followed by 'pawn', 'knight', 'bishop', 'rook', 'queen', or 'king'.\n"
   ]
  },
  {
   "cell_type": "code",
   "execution_count": 175,
   "metadata": {},
   "outputs": [],
   "source": [
    "def validPositions():\n",
    "    positions = set()\n",
    "    for col in ['a', 'b', 'c', 'd', 'e', 'f', 'g', 'h']:\n",
    "        for row in range(1, 9):\n",
    "            positions.add(str(row) + col)\n",
    "            \n",
    "    return positions\n",
    "\n",
    "def checkValidPositions(input_pos):\n",
    "    positions = validPositions()\n",
    "    return all(pos in positions for pos in input_pos)\n",
    "\n",
    "def checkMaxPiecesByColor(pieces):\n",
    "    for ch in ['w', 'b']:\n",
    "        if len(list(filter(lambda piece: len(piece) > 0 and piece[0] == ch, pieces))) > 16:\n",
    "            return False\n",
    "        \n",
    "    return True\n",
    "\n",
    "def isValidChessBoard(board):\n",
    "    if not checkValidPositions(board.keys()):\n",
    "        return False\n",
    "        \n",
    "    if not checkMaxPiecesByColor(board.values()):\n",
    "        return False\n",
    "    \n",
    "    return True\n",
    "    "
   ]
  },
  {
   "cell_type": "code",
   "execution_count": 176,
   "metadata": {},
   "outputs": [
    {
     "data": {
      "application/unittest.status+json": {
       "color": "yellow",
       "message": "",
       "previous": 0
      },
      "text/plain": []
     },
     "metadata": {},
     "output_type": "display_data"
    },
    {
     "data": {
      "application/unittest.status+json": {
       "color": "lightgreen",
       "message": "...\n----------------------------------------------------------------------\nRan 3 tests in 0.001s\n\nOK\n",
       "previous": 0
      },
      "text/plain": [
       "Success"
      ]
     },
     "metadata": {},
     "output_type": "display_data"
    },
    {
     "name": "stdout",
     "output_type": "stream",
     "text": [
      "...\n",
      "----------------------------------------------------------------------\n",
      "Ran 3 tests in 0.001s\n",
      "\n",
      "OK\n"
     ]
    },
    {
     "data": {
      "text/plain": [
       "<unittest.runner.TextTestResult run=3 errors=0 failures=0>"
      ]
     },
     "execution_count": 176,
     "metadata": {},
     "output_type": "execute_result"
    }
   ],
   "source": [
    "%%unittest_main\n",
    "\n",
    "import unittest\n",
    "\n",
    "class VerifyChessBoard(unittest.TestCase):\n",
    "    \n",
    "    def test_valid_board(self):\n",
    "        board = {'1a': 'bking','2a': 'bqueen','3a': 'brook','4a': 'brook', '5a': 'bknight','6a': 'bknight','7a':'bbishop','8a': 'bbishop',\n",
    "                 '1b': 'bpawn','2b': 'bpawn','3b': 'bpawn','4b':'bpawn', '5b': 'bpawn','6b': 'bpawn','7b': 'bpawn','8b': 'bpawn',\n",
    "                 '1c': 'wking','2c': 'wqueen','3c': 'wrook','4c': 'wrook','5c': 'wbishop','6c': 'wbishop','7c': 'wknight','8c':'wknight',\n",
    "                 '1e': 'wpawn','2e': 'wpawn','3e': 'wpawn','4e': 'wpawn', '5e': 'wpawn','6e': 'wpawn','7e': 'wpawn','8e': 'wpawn',\n",
    "                 '1f': '','2f': '','3f': '','4f': '','5f': '','6f': '','7f': '','8f': '',\n",
    "                 '1g': '','2g': '','3g': '','4g': '','5g': '','6g': '','7g': '','8g': '',\n",
    "                 '1h': '','2h': '','3h': '','4h': '','5h': '','6h': '','7h': '','8h': '',}\n",
    "        \n",
    "        self.assertTrue(isValidChessBoard(board))\n",
    "        \n",
    "    def test_bad_board_incorrect_position(self):\n",
    "        board = {'1a': 'wrook', '1b': 'wknight', '1c': 'wbishop', '1d': 'wqueen', '1e': 'wking', '1f': 'wbishop', '1g': 'wknight', '1h': 'wrook',\n",
    "                 '2a': 'wpawn', '2b': 'wpawn', '2c': 'wpawn', '2d': 'wpawn', '2e': 'wpawn', '2f': 'wpawn', '2g': 'wpawn', '2h': 'wpawn',\n",
    "                 '3a': '', '3b': '', '3c': '', '3d': '', '3e': '', '3f': '', '3g': '', '3h': '',\n",
    "                 '4a': '', '4b': '', '4c': '', '9d': '', '4e': '', '4f': '', '4g': '', '4h': '',\n",
    "                 '5a': '', '5b': '', '5c': '', '5d': '', '5e': '', '5f': '', '5g': '', '5h': '',\n",
    "                 '6a': '', '6b': '', '6c': '', '6d': '', '6e': '', '6f': '', '6g': '', '6h': '',\n",
    "                 '7a': 'bpawn', '7b': 'bpawn', '7c': 'bpawn', '7d': 'bpawn', '7e': 'bpawn', '7f': 'bpawn', '7g': 'bpawn', '7h': 'bpawn',\n",
    "                 '8a': 'brook', '8b': 'bknight', '8c': 'bbishop', '8d': 'bqueen', '8e': 'bking', '8f': 'bbishop', '8g': 'bknight', '8h': 'brook',\n",
    "                }\n",
    "        \n",
    "        self.assertFalse(isValidChessBoard(board))\n",
    "        \n",
    "    def test_bad_board_too_many_white_pieces(self):\n",
    "        board = {'1a': 'wrook', '1b': 'wknight', '1c': 'wbishop', '1d': 'wqueen', '1e': 'wking', '1f': 'wbishop', '1g': 'wknight', '1h': 'wrook',\n",
    "                 '2a': 'wpawn', '2b': 'wpawn', '2c': 'wpawn', '2d': 'wpawn', '2e': 'wpawn', '2f': 'wpawn', '2g': 'wpawn', '2h': 'wpawn',\n",
    "                 '3a': '', '3b': '', '3c': '', '3d': '', '3e': '', '3f': '', '3g': '', '3h': '',\n",
    "                 '4a': '', '4b': '', '4c': 'wknight', '4d': '', '4e': '', '4f': '', '4g': '', '4h': '',\n",
    "                 '5a': '', '5b': '', '5c': '', '5d': '', '5e': '', '5f': '', '5g': '', '5h': '',\n",
    "                 '6a': '', '6b': '', '6c': '', '6d': '', '6e': '', '6f': '', '6g': '', '6h': '',\n",
    "                 '7a': 'bpawn', '7b': 'bpawn', '7c': 'bpawn', '7d': 'bpawn', '7e': 'bpawn', '7f': 'bpawn', '7g': 'bpawn', '7h': 'bpawn',\n",
    "                 '8a': 'brook', '8b': 'bknight', '8c': 'bbishop', '8d': 'bqueen', '8e': 'bking', '8f': 'bbishop', '8g': 'bknight', '8h': 'brook',\n",
    "                }\n",
    "        \n",
    "        self.assertFalse(isValidChessBoard(board))"
   ]
  },
  {
   "cell_type": "markdown",
   "metadata": {},
   "source": [
    "Continuing on keeping track of the rules we've implemented\n",
    "\n",
    "A valid board\n",
    "\n",
    "* ~all pieces must be on a valid space from '1a' to '8h'; that is, a piece can’t be on space '9z'.~\n",
    "* will have exactly one black king and exactly one white king.\n",
    "* ~Each player can only have at most 16 pieces~\n",
    "* at most 8 pawns\n",
    "* The piece names begin with either a 'w' or 'b' to represent white or black, followed by 'pawn', 'knight', 'bishop', 'rook', 'queen', or 'king'.\n"
   ]
  },
  {
   "cell_type": "code",
   "execution_count": 177,
   "metadata": {},
   "outputs": [],
   "source": [
    "def validPositions():\n",
    "    positions = set()\n",
    "    for col in ['a', 'b', 'c', 'd', 'e', 'f', 'g', 'h']:\n",
    "        for row in range(1, 9):\n",
    "            positions.add(str(row) + col)\n",
    "            \n",
    "    return positions\n",
    "\n",
    "def checkValidPositions(input_pos):\n",
    "    positions = validPositions()\n",
    "    return all(pos in positions for pos in input_pos)\n",
    "\n",
    "def checkMaxPiecesByColor(pieces):\n",
    "    for ch in ['w', 'b']:\n",
    "        if len(list(filter(lambda piece: len(piece) > 0 and piece[0] == ch, pieces))) > 16:\n",
    "            return False\n",
    "        \n",
    "    return True\n",
    "\n",
    "def checkKingCount(pieces):\n",
    "    for king in ['bking', 'wking']:\n",
    "        if len(list(filter(lambda piece: piece == king, pieces))) > 1:\n",
    "            return False\n",
    "        \n",
    "    return True\n",
    "\n",
    "def isValidChessBoard(board):\n",
    "    if not checkValidPositions(board.keys()):\n",
    "        return False\n",
    "        \n",
    "    if not checkMaxPiecesByColor(board.values()):\n",
    "        return False\n",
    "    \n",
    "    if not checkKingCount(board.values()):\n",
    "        return False\n",
    "    \n",
    "    return True\n",
    "    "
   ]
  },
  {
   "cell_type": "code",
   "execution_count": 178,
   "metadata": {},
   "outputs": [
    {
     "data": {
      "application/unittest.status+json": {
       "color": "yellow",
       "message": "",
       "previous": 0
      },
      "text/plain": []
     },
     "metadata": {},
     "output_type": "display_data"
    },
    {
     "data": {
      "application/unittest.status+json": {
       "color": "lightgreen",
       "message": "....\n----------------------------------------------------------------------\nRan 4 tests in 0.001s\n\nOK\n",
       "previous": 0
      },
      "text/plain": [
       "Success"
      ]
     },
     "metadata": {},
     "output_type": "display_data"
    },
    {
     "name": "stdout",
     "output_type": "stream",
     "text": [
      "....\n",
      "----------------------------------------------------------------------\n",
      "Ran 4 tests in 0.001s\n",
      "\n",
      "OK\n"
     ]
    },
    {
     "data": {
      "text/plain": [
       "<unittest.runner.TextTestResult run=4 errors=0 failures=0>"
      ]
     },
     "execution_count": 178,
     "metadata": {},
     "output_type": "execute_result"
    }
   ],
   "source": [
    "%%unittest_main\n",
    "\n",
    "import unittest\n",
    "\n",
    "class VerifyChessBoard(unittest.TestCase):\n",
    "    \n",
    "    def test_valid_board(self):\n",
    "        board = {'1a': 'bking','2a': 'bqueen','3a': 'brook','4a': 'brook', '5a': 'bknight','6a': 'bknight','7a':'bbishop','8a': 'bbishop',\n",
    "                 '1b': 'bpawn','2b': 'bpawn','3b': 'bpawn','4b':'bpawn', '5b': 'bpawn','6b': 'bpawn','7b': 'bpawn','8b': 'bpawn',\n",
    "                 '1c': 'wking','2c': 'wqueen','3c': 'wrook','4c': 'wrook','5c': 'wbishop','6c': 'wbishop','7c': 'wknight','8c':'wknight',\n",
    "                 '1e': 'wpawn','2e': 'wpawn','3e': 'wpawn','4e': 'wpawn', '5e': 'wpawn','6e': 'wpawn','7e': 'wpawn','8e': 'wpawn',\n",
    "                 '1f': '','2f': '','3f': '','4f': '','5f': '','6f': '','7f': '','8f': '',\n",
    "                 '1g': '','2g': '','3g': '','4g': '','5g': '','6g': '','7g': '','8g': '',\n",
    "                 '1h': '','2h': '','3h': '','4h': '','5h': '','6h': '','7h': '','8h': '',}\n",
    "        \n",
    "        self.assertTrue(isValidChessBoard(board))\n",
    "        \n",
    "    def test_bad_board_incorrect_position(self):\n",
    "        board = {'1a': 'wrook', '1b': 'wknight', '1c': 'wbishop', '1d': 'wqueen', '1e': 'wking', '1f': 'wbishop', '1g': 'wknight', '1h': 'wrook',\n",
    "                 '2a': 'wpawn', '2b': 'wpawn', '2c': 'wpawn', '2d': 'wpawn', '2e': 'wpawn', '2f': 'wpawn', '2g': 'wpawn', '2h': 'wpawn',\n",
    "                 '3a': '', '3b': '', '3c': '', '3d': '', '3e': '', '3f': '', '3g': '', '3h': '',\n",
    "                 '4a': '', '4b': '', '4c': '', '9d': '', '4e': '', '4f': '', '4g': '', '4h': '',\n",
    "                 '5a': '', '5b': '', '5c': '', '5d': '', '5e': '', '5f': '', '5g': '', '5h': '',\n",
    "                 '6a': '', '6b': '', '6c': '', '6d': '', '6e': '', '6f': '', '6g': '', '6h': '',\n",
    "                 '7a': 'bpawn', '7b': 'bpawn', '7c': 'bpawn', '7d': 'bpawn', '7e': 'bpawn', '7f': 'bpawn', '7g': 'bpawn', '7h': 'bpawn',\n",
    "                 '8a': 'brook', '8b': 'bknight', '8c': 'bbishop', '8d': 'bqueen', '8e': 'bking', '8f': 'bbishop', '8g': 'bknight', '8h': 'brook',\n",
    "                }\n",
    "        \n",
    "        self.assertFalse(isValidChessBoard(board))\n",
    "        \n",
    "    def test_bad_board_too_many_white_pieces(self):\n",
    "        board = {'1a': 'wrook', '1b': 'wknight', '1c': 'wbishop', '1d': 'wqueen', '1e': 'wking', '1f': 'wbishop', '1g': 'wknight', '1h': 'wrook',\n",
    "                 '2a': 'wpawn', '2b': 'wpawn', '2c': 'wpawn', '2d': 'wpawn', '2e': 'wpawn', '2f': 'wpawn', '2g': 'wpawn', '2h': 'wpawn',\n",
    "                 '3a': '', '3b': '', '3c': '', '3d': '', '3e': '', '3f': '', '3g': '', '3h': '',\n",
    "                 '4a': '', '4b': '', '4c': 'wknight', '4d': '', '4e': '', '4f': '', '4g': '', '4h': '',\n",
    "                 '5a': '', '5b': '', '5c': '', '5d': '', '5e': '', '5f': '', '5g': '', '5h': '',\n",
    "                 '6a': '', '6b': '', '6c': '', '6d': '', '6e': '', '6f': '', '6g': '', '6h': '',\n",
    "                 '7a': 'bpawn', '7b': 'bpawn', '7c': 'bpawn', '7d': 'bpawn', '7e': 'bpawn', '7f': 'bpawn', '7g': 'bpawn', '7h': 'bpawn',\n",
    "                 '8a': 'brook', '8b': 'bknight', '8c': 'bbishop', '8d': 'bqueen', '8e': 'bking', '8f': 'bbishop', '8g': 'bknight', '8h': 'brook',\n",
    "                }\n",
    "        \n",
    "        self.assertFalse(isValidChessBoard(board))\n",
    "        \n",
    "        \n",
    "    def test_bad_board_too_many_kings(self):\n",
    "        board = {'1a': 'wrook', '1b': 'wknight', '1c': 'wbishop', '1d': 'wqueen', '1e': 'wking', '1f': 'wbishop', '1g': 'wknight', '1h': 'wrook',\n",
    "                 '2a': 'wpawn', '2b': '', '2c': 'wpawn', '2d': 'wpawn', '2e': 'wpawn', '2f': 'wpawn', '2g': 'wpawn', '2h': 'wpawn',\n",
    "                 '3a': '', '3b': '', '3c': '', '3d': '', '3e': '', '3f': '', '3g': '', '3h': '',\n",
    "                 '4a': '', '4b': '', '4c': '', '4d': '', '4e': '', '4f': 'wking', '4g': '', '4h': '',\n",
    "                 '5a': '', '5b': '', '5c': '', '5d': '', '5e': '', '5f': '', '5g': '', '5h': '',\n",
    "                 '6a': '', '6b': '', '6c': '', '6d': '', '6e': '', '6f': '', '6g': '', '6h': '',\n",
    "                 '7a': 'bpawn', '7b': 'bpawn', '7c': 'bpawn', '7d': 'bpawn', '7e': 'bpawn', '7f': 'bpawn', '7g': 'bpawn', '7h': 'bpawn',\n",
    "                 '8a': 'brook', '8b': 'bknight', '8c': 'bbishop', '8d': 'bqueen', '8e': 'bking', '8f': 'bbishop', '8g': 'bknight', '8h': 'brook',\n",
    "                }\n",
    "        \n",
    "        self.assertFalse(isValidChessBoard(board))"
   ]
  },
  {
   "cell_type": "markdown",
   "metadata": {},
   "source": [
    "Continuing on keeping track of the rules we've implemented\n",
    "\n",
    "A valid board\n",
    "\n",
    "* ~all pieces must be on a valid space from '1a' to '8h'; that is, a piece can’t be on space '9z'.~\n",
    "* ~will have exactly one black king and exactly one white king.~\n",
    "* ~Each player can only have at most 16 pieces~\n",
    "* at most 8 pawns\n",
    "* The piece names begin with either a 'w' or 'b' to represent white or black, followed by 'pawn', 'knight', 'bishop', 'rook', 'queen', or 'king'.\n"
   ]
  },
  {
   "cell_type": "code",
   "execution_count": 180,
   "metadata": {},
   "outputs": [],
   "source": [
    "def validPositions():\n",
    "    positions = set()\n",
    "    for col in ['a', 'b', 'c', 'd', 'e', 'f', 'g', 'h']:\n",
    "        for row in range(1, 9):\n",
    "            positions.add(str(row) + col)\n",
    "            \n",
    "    return positions\n",
    "\n",
    "def checkValidPositions(input_pos):\n",
    "    positions = validPositions()\n",
    "    return all(pos in positions for pos in input_pos)\n",
    "\n",
    "def checkMaxPiecesByColor(pieces):\n",
    "    for ch in ['w', 'b']:\n",
    "        if len(list(filter(lambda piece: len(piece) > 0 and piece[0] == ch, pieces))) > 16:\n",
    "            return False\n",
    "        \n",
    "    return True\n",
    "\n",
    "def checkKingCount(pieces):\n",
    "    for king in ['bking', 'wking']:\n",
    "        if len(list(filter(lambda piece: piece == king, pieces))) > 1:\n",
    "            return False\n",
    "        \n",
    "    return True\n",
    "\n",
    "def checkPawnCount(pieces):\n",
    "    for pawn in ['bpawn', 'wpawn']:\n",
    "        if len(list(filter(lambda piece: piece == pawn, pieces))) > 8:\n",
    "            return False\n",
    "        \n",
    "    return True\n",
    "\n",
    "def isValidChessBoard(board):\n",
    "    pieces = board.values()\n",
    "    positions = board.keys()\n",
    "\n",
    "    if not checkValidPositions(positions):\n",
    "        return False\n",
    "        \n",
    "    if not checkMaxPiecesByColor(pieces):\n",
    "        return False\n",
    "    \n",
    "    if not checkKingCount(pieces):\n",
    "        return False\n",
    "        \n",
    "    if not checkPawnCount(pieces):\n",
    "        return False\n",
    "    \n",
    "    return True"
   ]
  },
  {
   "cell_type": "code",
   "execution_count": 181,
   "metadata": {},
   "outputs": [
    {
     "data": {
      "application/unittest.status+json": {
       "color": "yellow",
       "message": "",
       "previous": 0
      },
      "text/plain": []
     },
     "metadata": {},
     "output_type": "display_data"
    },
    {
     "data": {
      "application/unittest.status+json": {
       "color": "lightgreen",
       "message": ".....\n----------------------------------------------------------------------\nRan 5 tests in 0.001s\n\nOK\n",
       "previous": 0
      },
      "text/plain": [
       "Success"
      ]
     },
     "metadata": {},
     "output_type": "display_data"
    },
    {
     "name": "stdout",
     "output_type": "stream",
     "text": [
      ".....\n",
      "----------------------------------------------------------------------\n",
      "Ran 5 tests in 0.001s\n",
      "\n",
      "OK\n"
     ]
    },
    {
     "data": {
      "text/plain": [
       "<unittest.runner.TextTestResult run=5 errors=0 failures=0>"
      ]
     },
     "execution_count": 181,
     "metadata": {},
     "output_type": "execute_result"
    }
   ],
   "source": [
    "%%unittest_main\n",
    "\n",
    "import unittest\n",
    "\n",
    "class VerifyChessBoard(unittest.TestCase):\n",
    "    \n",
    "    def test_valid_board(self):\n",
    "        board = {'1a': 'bking','2a': 'bqueen','3a': 'brook','4a': 'brook', '5a': 'bknight','6a': 'bknight','7a':'bbishop','8a': 'bbishop',\n",
    "                 '1b': 'bpawn','2b': 'bpawn','3b': 'bpawn','4b':'bpawn', '5b': 'bpawn','6b': 'bpawn','7b': 'bpawn','8b': 'bpawn',\n",
    "                 '1c': 'wking','2c': 'wqueen','3c': 'wrook','4c': 'wrook','5c': 'wbishop','6c': 'wbishop','7c': 'wknight','8c':'wknight',\n",
    "                 '1e': 'wpawn','2e': 'wpawn','3e': 'wpawn','4e': 'wpawn', '5e': 'wpawn','6e': 'wpawn','7e': 'wpawn','8e': 'wpawn',\n",
    "                 '1f': '','2f': '','3f': '','4f': '','5f': '','6f': '','7f': '','8f': '',\n",
    "                 '1g': '','2g': '','3g': '','4g': '','5g': '','6g': '','7g': '','8g': '',\n",
    "                 '1h': '','2h': '','3h': '','4h': '','5h': '','6h': '','7h': '','8h': '',}\n",
    "        \n",
    "        self.assertTrue(isValidChessBoard(board))\n",
    "        \n",
    "    def test_bad_board_incorrect_position(self):\n",
    "        board = {'1a': 'wrook', '1b': 'wknight', '1c': 'wbishop', '1d': 'wqueen', '1e': 'wking', '1f': 'wbishop', '1g': 'wknight', '1h': 'wrook',\n",
    "                 '2a': 'wpawn', '2b': 'wpawn', '2c': 'wpawn', '2d': 'wpawn', '2e': 'wpawn', '2f': 'wpawn', '2g': 'wpawn', '2h': 'wpawn',\n",
    "                 '3a': '', '3b': '', '3c': '', '3d': '', '3e': '', '3f': '', '3g': '', '3h': '',\n",
    "                 '4a': '', '4b': '', '4c': '', '9d': '', '4e': '', '4f': '', '4g': '', '4h': '',\n",
    "                 '5a': '', '5b': '', '5c': '', '5d': '', '5e': '', '5f': '', '5g': '', '5h': '',\n",
    "                 '6a': '', '6b': '', '6c': '', '6d': '', '6e': '', '6f': '', '6g': '', '6h': '',\n",
    "                 '7a': 'bpawn', '7b': 'bpawn', '7c': 'bpawn', '7d': 'bpawn', '7e': 'bpawn', '7f': 'bpawn', '7g': 'bpawn', '7h': 'bpawn',\n",
    "                 '8a': 'brook', '8b': 'bknight', '8c': 'bbishop', '8d': 'bqueen', '8e': 'bking', '8f': 'bbishop', '8g': 'bknight', '8h': 'brook',\n",
    "                }\n",
    "        \n",
    "        self.assertFalse(isValidChessBoard(board))\n",
    "        \n",
    "    def test_bad_board_too_many_white_pieces(self):\n",
    "        board = {'1a': 'wrook', '1b': 'wknight', '1c': 'wbishop', '1d': 'wqueen', '1e': 'wking', '1f': 'wbishop', '1g': 'wknight', '1h': 'wrook',\n",
    "                 '2a': 'wpawn', '2b': 'wpawn', '2c': 'wpawn', '2d': 'wpawn', '2e': 'wpawn', '2f': 'wpawn', '2g': 'wpawn', '2h': 'wpawn',\n",
    "                 '3a': '', '3b': '', '3c': '', '3d': '', '3e': '', '3f': '', '3g': '', '3h': '',\n",
    "                 '4a': '', '4b': '', '4c': 'wknight', '4d': '', '4e': '', '4f': '', '4g': '', '4h': '',\n",
    "                 '5a': '', '5b': '', '5c': '', '5d': '', '5e': '', '5f': '', '5g': '', '5h': '',\n",
    "                 '6a': '', '6b': '', '6c': '', '6d': '', '6e': '', '6f': '', '6g': '', '6h': '',\n",
    "                 '7a': 'bpawn', '7b': 'bpawn', '7c': 'bpawn', '7d': 'bpawn', '7e': 'bpawn', '7f': 'bpawn', '7g': 'bpawn', '7h': 'bpawn',\n",
    "                 '8a': 'brook', '8b': 'bknight', '8c': 'bbishop', '8d': 'bqueen', '8e': 'bking', '8f': 'bbishop', '8g': 'bknight', '8h': 'brook',\n",
    "                }\n",
    "        \n",
    "        self.assertFalse(isValidChessBoard(board))\n",
    "        \n",
    "        \n",
    "    def test_bad_board_too_many_kings(self):\n",
    "        board = {'1a': 'wrook', '1b': 'wknight', '1c': 'wbishop', '1d': 'wqueen', '1e': 'wking', '1f': 'wbishop', '1g': 'wknight', '1h': 'wrook',\n",
    "                 '2a': 'wpawn', '2b': '', '2c': 'wpawn', '2d': 'wpawn', '2e': 'wpawn', '2f': 'wpawn', '2g': 'wpawn', '2h': 'wpawn',\n",
    "                 '3a': '', '3b': '', '3c': '', '3d': '', '3e': '', '3f': '', '3g': '', '3h': '',\n",
    "                 '4a': '', '4b': '', '4c': '', '4d': '', '4e': '', '4f': 'wking', '4g': '', '4h': '',\n",
    "                 '5a': '', '5b': '', '5c': '', '5d': '', '5e': '', '5f': '', '5g': '', '5h': '',\n",
    "                 '6a': '', '6b': '', '6c': '', '6d': '', '6e': '', '6f': '', '6g': '', '6h': '',\n",
    "                 '7a': 'bpawn', '7b': 'bpawn', '7c': 'bpawn', '7d': 'bpawn', '7e': 'bpawn', '7f': 'bpawn', '7g': 'bpawn', '7h': 'bpawn',\n",
    "                 '8a': 'brook', '8b': 'bknight', '8c': 'bbishop', '8d': 'bqueen', '8e': 'bking', '8f': 'bbishop', '8g': 'bknight', '8h': 'brook',\n",
    "                }\n",
    "        \n",
    "        self.assertFalse(isValidChessBoard(board))\n",
    "        \n",
    "\n",
    "    def test_bad_board_too_many_pawns(self):\n",
    "        board = {'1a': 'wrook', '1b': 'wknight', '1c': 'wbishop', '1d': 'wqueen', '1e': 'wking', '1f': 'wbishop', '1g': 'wknight', '1h': 'wrook',\n",
    "                 '2a': 'wpawn', '2b': 'wpawn', '2c': 'wpawn', '2d': 'wpawn', '2e': 'wpawn', '2f': 'wpawn', '2g': 'wpawn', '2h': 'wpawn',\n",
    "                 '3a': '', '3b': '', '3c': '', '3d': '', '3e': '', '3f': '', '3g': '', '3h': '',\n",
    "                 '4a': '', '4b': '', '4c': '', '4d': '', '4e': '', '4f': '', '4g': '', '4h': '',\n",
    "                 '5a': '', '5b': '', '5c': '', '5d': '', '5e': '', '5f': '', '5g': '', '5h': '',\n",
    "                 '6a': '', '6b': '', '6c': '', '6d': '', '6e': '', '6f': '', '6g': '', '6h': '',\n",
    "                 '7a': 'bpawn', '7b': 'bpawn', '7c': 'bpawn', '7d': 'bpawn', '7e': 'bpawn', '7f': 'bpawn', '7g': 'bpawn', '7h': 'bpawn',\n",
    "                 '8a': 'bpawn', '8b': 'bknight', '8c': 'bbishop', '8d': 'bqueen', '8e': 'bking', '8f': 'bbishop', '8g': 'bknight', '8h': 'brook',\n",
    "                }\n",
    "        \n",
    "        self.assertFalse(isValidChessBoard(board))"
   ]
  },
  {
   "cell_type": "markdown",
   "metadata": {},
   "source": [
    "Continuing on keeping track of the rules we've implemented\n",
    "\n",
    "A valid board\n",
    "\n",
    "* ~all pieces must be on a valid space from '1a' to '8h'; that is, a piece can’t be on space '9z'.~\n",
    "* ~will have exactly one black king and exactly one white king.~\n",
    "* ~Each player can only have at most 16 pieces~\n",
    "* ~at most 8 pawns~\n",
    "* The piece names begin with either a 'w' or 'b' to represent white or black, followed by 'pawn', 'knight', 'bishop', 'rook', 'queen', or 'king'.\n"
   ]
  },
  {
   "cell_type": "code",
   "execution_count": 182,
   "metadata": {},
   "outputs": [],
   "source": [
    "def validPositions():\n",
    "    positions = set()\n",
    "    for col in ['a', 'b', 'c', 'd', 'e', 'f', 'g', 'h']:\n",
    "        for row in range(1, 9):\n",
    "            positions.add(str(row) + col)\n",
    "            \n",
    "    return positions\n",
    "\n",
    "def checkValidPositions(input_pos):\n",
    "    positions = validPositions()\n",
    "    return all(pos in positions for pos in input_pos)\n",
    "\n",
    "def checkMaxPiecesByColor(pieces):\n",
    "    for ch in ['w', 'b']:\n",
    "        if len(list(filter(lambda piece: len(piece) > 0 and piece[0] == ch, pieces))) > 16:\n",
    "            return False\n",
    "        \n",
    "    return True\n",
    "\n",
    "def checkKingCount(pieces):\n",
    "    for king in ['bking', 'wking']:\n",
    "        if len(list(filter(lambda piece: piece == king, pieces))) > 1:\n",
    "            return False\n",
    "        \n",
    "    return True\n",
    "\n",
    "def checkPawnCount(pieces):\n",
    "    for pawn in ['bpawn', 'wpawn']:\n",
    "        if len(list(filter(lambda piece: piece == pawn, pieces))) > 8:\n",
    "            return False\n",
    "        \n",
    "    return True\n",
    "\n",
    "def checkValidPieces(pieces):\n",
    "    valid_pieces = set()\n",
    "    for color in ['w', 'b']:\n",
    "        for piece in ['pawn', 'knight', 'bishop', 'rook', 'queen', 'king']:\n",
    "            valid_pieces.add(color + piece)\n",
    "\n",
    "    return len(pieces - valid_pieces) == 0\n",
    "\n",
    "def isValidChessBoard(board):\n",
    "    pieces = board.values()\n",
    "    positions = board.keys()\n",
    "\n",
    "    if not checkValidPositions(positions):\n",
    "        return False\n",
    "        \n",
    "    if not checkMaxPiecesByColor(pieces):\n",
    "        return False\n",
    "    \n",
    "    if not checkKingCount(pieces):\n",
    "        return False\n",
    "        \n",
    "    if not checkPawnCount(pieces):\n",
    "        return False\n",
    "    \n",
    "    if not checkValidPieces(set(pieces) - set([''])):\n",
    "        return False\n",
    "    \n",
    "    return True"
   ]
  },
  {
   "cell_type": "code",
   "execution_count": 183,
   "metadata": {
    "scrolled": true
   },
   "outputs": [
    {
     "data": {
      "application/unittest.status+json": {
       "color": "yellow",
       "message": "",
       "previous": 0
      },
      "text/plain": []
     },
     "metadata": {},
     "output_type": "display_data"
    },
    {
     "data": {
      "application/unittest.status+json": {
       "color": "lightgreen",
       "message": "......\n----------------------------------------------------------------------\nRan 6 tests in 0.001s\n\nOK\n",
       "previous": 0
      },
      "text/plain": [
       "Success"
      ]
     },
     "metadata": {},
     "output_type": "display_data"
    },
    {
     "name": "stdout",
     "output_type": "stream",
     "text": [
      "......\n",
      "----------------------------------------------------------------------\n",
      "Ran 6 tests in 0.001s\n",
      "\n",
      "OK\n"
     ]
    },
    {
     "data": {
      "text/plain": [
       "<unittest.runner.TextTestResult run=6 errors=0 failures=0>"
      ]
     },
     "execution_count": 183,
     "metadata": {},
     "output_type": "execute_result"
    }
   ],
   "source": [
    "%%unittest_main\n",
    "\n",
    "import unittest\n",
    "\n",
    "class VerifyChessBoard(unittest.TestCase):\n",
    "    \n",
    "    def test_valid_board(self):\n",
    "        board = {'1a': 'bking','2a': 'bqueen','3a': 'brook','4a': 'brook', '5a': 'bknight','6a': 'bknight','7a':'bbishop','8a': 'bbishop',\n",
    "                 '1b': 'bpawn','2b': 'bpawn','3b': 'bpawn','4b':'bpawn', '5b': 'bpawn','6b': 'bpawn','7b': 'bpawn','8b': 'bpawn',\n",
    "                 '1c': 'wking','2c': 'wqueen','3c': 'wrook','4c': 'wrook','5c': 'wbishop','6c': 'wbishop','7c': 'wknight','8c':'wknight',\n",
    "                 '1e': 'wpawn','2e': 'wpawn','3e': 'wpawn','4e': 'wpawn', '5e': 'wpawn','6e': 'wpawn','7e': 'wpawn','8e': 'wpawn',\n",
    "                 '1f': '','2f': '','3f': '','4f': '','5f': '','6f': '','7f': '','8f': '',\n",
    "                 '1g': '','2g': '','3g': '','4g': '','5g': '','6g': '','7g': '','8g': '',\n",
    "                 '1h': '','2h': '','3h': '','4h': '','5h': '','6h': '','7h': '','8h': '',}\n",
    "        \n",
    "        self.assertTrue(isValidChessBoard(board))\n",
    "        \n",
    "    def test_bad_board_incorrect_position(self):\n",
    "        board = {'1a': 'wrook', '1b': 'wknight', '1c': 'wbishop', '1d': 'wqueen', '1e': 'wking', '1f': 'wbishop', '1g': 'wknight', '1h': 'wrook',\n",
    "                 '2a': 'wpawn', '2b': 'wpawn', '2c': 'wpawn', '2d': 'wpawn', '2e': 'wpawn', '2f': 'wpawn', '2g': 'wpawn', '2h': 'wpawn',\n",
    "                 '3a': '', '3b': '', '3c': '', '3d': '', '3e': '', '3f': '', '3g': '', '3h': '',\n",
    "                 '4a': '', '4b': '', '4c': '', '9d': '', '4e': '', '4f': '', '4g': '', '4h': '',\n",
    "                 '5a': '', '5b': '', '5c': '', '5d': '', '5e': '', '5f': '', '5g': '', '5h': '',\n",
    "                 '6a': '', '6b': '', '6c': '', '6d': '', '6e': '', '6f': '', '6g': '', '6h': '',\n",
    "                 '7a': 'bpawn', '7b': 'bpawn', '7c': 'bpawn', '7d': 'bpawn', '7e': 'bpawn', '7f': 'bpawn', '7g': 'bpawn', '7h': 'bpawn',\n",
    "                 '8a': 'brook', '8b': 'bknight', '8c': 'bbishop', '8d': 'bqueen', '8e': 'bking', '8f': 'bbishop', '8g': 'bknight', '8h': 'brook',\n",
    "                }\n",
    "        \n",
    "        self.assertFalse(isValidChessBoard(board))\n",
    "        \n",
    "    def test_bad_board_too_many_white_pieces(self):\n",
    "        board = {'1a': 'wrook', '1b': 'wknight', '1c': 'wbishop', '1d': 'wqueen', '1e': 'wking', '1f': 'wbishop', '1g': 'wknight', '1h': 'wrook',\n",
    "                 '2a': 'wpawn', '2b': 'wpawn', '2c': 'wpawn', '2d': 'wpawn', '2e': 'wpawn', '2f': 'wpawn', '2g': 'wpawn', '2h': 'wpawn',\n",
    "                 '3a': '', '3b': '', '3c': '', '3d': '', '3e': '', '3f': '', '3g': '', '3h': '',\n",
    "                 '4a': '', '4b': '', '4c': 'wknight', '4d': '', '4e': '', '4f': '', '4g': '', '4h': '',\n",
    "                 '5a': '', '5b': '', '5c': '', '5d': '', '5e': '', '5f': '', '5g': '', '5h': '',\n",
    "                 '6a': '', '6b': '', '6c': '', '6d': '', '6e': '', '6f': '', '6g': '', '6h': '',\n",
    "                 '7a': 'bpawn', '7b': 'bpawn', '7c': 'bpawn', '7d': 'bpawn', '7e': 'bpawn', '7f': 'bpawn', '7g': 'bpawn', '7h': 'bpawn',\n",
    "                 '8a': 'brook', '8b': 'bknight', '8c': 'bbishop', '8d': 'bqueen', '8e': 'bking', '8f': 'bbishop', '8g': 'bknight', '8h': 'brook',\n",
    "                }\n",
    "        \n",
    "        self.assertFalse(isValidChessBoard(board))\n",
    "        \n",
    "        \n",
    "    def test_bad_board_too_many_kings(self):\n",
    "        board = {'1a': 'wrook', '1b': 'wknight', '1c': 'wbishop', '1d': 'wqueen', '1e': 'wking', '1f': 'wbishop', '1g': 'wknight', '1h': 'wrook',\n",
    "                 '2a': 'wpawn', '2b': '', '2c': 'wpawn', '2d': 'wpawn', '2e': 'wpawn', '2f': 'wpawn', '2g': 'wpawn', '2h': 'wpawn',\n",
    "                 '3a': '', '3b': '', '3c': '', '3d': '', '3e': '', '3f': '', '3g': '', '3h': '',\n",
    "                 '4a': '', '4b': '', '4c': '', '4d': '', '4e': '', '4f': 'wking', '4g': '', '4h': '',\n",
    "                 '5a': '', '5b': '', '5c': '', '5d': '', '5e': '', '5f': '', '5g': '', '5h': '',\n",
    "                 '6a': '', '6b': '', '6c': '', '6d': '', '6e': '', '6f': '', '6g': '', '6h': '',\n",
    "                 '7a': 'bpawn', '7b': 'bpawn', '7c': 'bpawn', '7d': 'bpawn', '7e': 'bpawn', '7f': 'bpawn', '7g': 'bpawn', '7h': 'bpawn',\n",
    "                 '8a': 'brook', '8b': 'bknight', '8c': 'bbishop', '8d': 'bqueen', '8e': 'bking', '8f': 'bbishop', '8g': 'bknight', '8h': 'brook',\n",
    "                }\n",
    "        \n",
    "        self.assertFalse(isValidChessBoard(board))\n",
    "        \n",
    "\n",
    "    def test_bad_board_too_many_pawns(self):\n",
    "        board = {'1a': 'wrook', '1b': 'wknight', '1c': 'wbishop', '1d': 'wqueen', '1e': 'wking', '1f': 'wbishop', '1g': 'wknight', '1h': 'wrook',\n",
    "                 '2a': 'wpawn', '2b': 'wpawn', '2c': 'wpawn', '2d': 'wpawn', '2e': 'wpawn', '2f': 'wpawn', '2g': 'wpawn', '2h': 'wpawn',\n",
    "                 '3a': '', '3b': '', '3c': '', '3d': '', '3e': '', '3f': '', '3g': '', '3h': '',\n",
    "                 '4a': '', '4b': '', '4c': '', '4d': '', '4e': '', '4f': '', '4g': '', '4h': '',\n",
    "                 '5a': '', '5b': '', '5c': '', '5d': '', '5e': '', '5f': '', '5g': '', '5h': '',\n",
    "                 '6a': '', '6b': '', '6c': '', '6d': '', '6e': '', '6f': '', '6g': '', '6h': '',\n",
    "                 '7a': 'bpawn', '7b': 'bpawn', '7c': 'bpawn', '7d': 'bpawn', '7e': 'bpawn', '7f': 'bpawn', '7g': 'bpawn', '7h': 'bpawn',\n",
    "                 '8a': 'bpawn', '8b': 'bknight', '8c': 'bbishop', '8d': 'bqueen', '8e': 'bking', '8f': 'bbishop', '8g': 'bknight', '8h': 'brook',\n",
    "                }\n",
    "        \n",
    "        self.assertFalse(isValidChessBoard(board))\n",
    "        \n",
    "    def test_bad_board_alien_piece(self):\n",
    "        board = {'1a': 'wrook', '1b': 'wknight', '1c': 'wbishop', '1d': 'wqueen', '1e': 'wking', '1f': 'wbishop', '1g': 'wknight', '1h': 'wrook',\n",
    "                 '2a': 'wpawn', '2b': 'wpawn', '2c': 'wpawn', '2d': 'wpawn', '2e': 'wpawn', '2f': 'wpawn', '2g': 'wpawn', '2h': 'wpawn',\n",
    "                 '3a': '', '3b': '', '3c': '', '3d': '', '3e': '', '3f': '', '3g': '', '3h': '',\n",
    "                 '4a': '', '4b': '', '4c': '', '4d': '', '4e': '', '4f': '', '4g': '', '4h': '',\n",
    "                 '5a': '', '5b': '', '5c': '', '5d': '', '5e': 'gqueen', '5f': '', '5g': '', '5h': '',\n",
    "                 '6a': '', '6b': '', '6c': '', '6d': '', '6e': '', '6f': '', '6g': '', '6h': '',\n",
    "                 '7a': 'bpawn', '7b': 'bpawn', '7c': 'bpawn', '7d': 'bpawn', '7e': 'bpawn', '7f': 'bpawn', '7g': 'bpawn', '7h': 'bpawn',\n",
    "                 '8a': 'brook', '8b': 'bknight', '8c': 'bbishop', '8d': 'bqueen', '8e': 'bking', '8f': 'bbishop', '8g': 'bknight', '8h': 'brook',\n",
    "                }\n",
    "        \n",
    "        self.assertFalse(isValidChessBoard(board))"
   ]
  },
  {
   "cell_type": "markdown",
   "metadata": {},
   "source": [
    "With that we have completed the implementation\n",
    "\n",
    "A valid board\n",
    "\n",
    "* ~all pieces must be on a valid space from '1a' to '8h'; that is, a piece can’t be on space '9z'.~\n",
    "* ~will have exactly one black king and exactly one white king.~\n",
    "* ~Each player can only have at most 16 pieces~\n",
    "* ~at most 8 pawns~\n",
    "* ~The piece names begin with either a 'w' or 'b' to represent white or black, followed by 'pawn', 'knight', 'bishop', 'rook', 'queen', or 'king'.~\n",
    "\n",
    "\n",
    "Now is a good time to refactor the implementation to remove redundancy in code.\n",
    "\n",
    "The implementations for `checkPawnCount`, `checkKingCount` and `checkMaxPiecesByColor` all look pretty similar, let's refactor.\n"
   ]
  },
  {
   "cell_type": "code",
   "execution_count": 186,
   "metadata": {},
   "outputs": [],
   "source": [
    "def checkCriteria(pieces, fn, cnt):\n",
    "    if len(list(filter(fn, pieces))) > cnt:\n",
    "        return False\n",
    "    \n",
    "    return True\n",
    "\n",
    "def checkValidPositions(input_pos):\n",
    "    positions = set()\n",
    "    for col in ['a', 'b', 'c', 'd', 'e', 'f', 'g', 'h']:\n",
    "        for row in range(1, 9):\n",
    "            positions.add(str(row) + col)\n",
    "\n",
    "    return all(pos in positions for pos in input_pos)\n",
    "\n",
    "def checkMaxPiecesByColor(pieces):\n",
    "    return all(checkCriteria(pieces, lambda piece: len(piece) > 0 and piece[0] == ch, 16) for ch in ['w', 'b'])\n",
    "\n",
    "def checkKingCount(pieces):\n",
    "    return all(checkCriteria(pieces, lambda piece: piece == king, 1) for king in ['bking', 'wking'])\n",
    "\n",
    "def checkPawnCount(pieces):\n",
    "    return all(checkCriteria(pieces, lambda piece: piece == pawn, 8) for pawn in ['bpawn', 'wpawn'])\n",
    "\n",
    "def checkValidPieces(pieces):\n",
    "    valid_pieces = set()\n",
    "    for color in ['w', 'b']:\n",
    "        for piece in ['pawn', 'knight', 'bishop', 'rook', 'queen', 'king']:\n",
    "            valid_pieces.add(color + piece)\n",
    "\n",
    "    return len(pieces - valid_pieces) == 0\n",
    "\n",
    "def isValidChessBoard(board):\n",
    "    pieces = board.values()\n",
    "    positions = board.keys()\n",
    "\n",
    "    if not checkValidPositions(positions):\n",
    "        return False\n",
    "        \n",
    "    if not checkMaxPiecesByColor(pieces):\n",
    "        return False\n",
    "    \n",
    "    if not checkKingCount(pieces):\n",
    "        return False\n",
    "        \n",
    "    if not checkPawnCount(pieces):\n",
    "        return False\n",
    "    \n",
    "    if not checkValidPieces(set(pieces) - set([''])):\n",
    "        return False\n",
    "    \n",
    "    return True"
   ]
  },
  {
   "cell_type": "code",
   "execution_count": 187,
   "metadata": {},
   "outputs": [
    {
     "data": {
      "application/unittest.status+json": {
       "color": "yellow",
       "message": "",
       "previous": 0
      },
      "text/plain": []
     },
     "metadata": {},
     "output_type": "display_data"
    },
    {
     "data": {
      "application/unittest.status+json": {
       "color": "lightgreen",
       "message": "......\n----------------------------------------------------------------------\nRan 6 tests in 0.001s\n\nOK\n",
       "previous": 0
      },
      "text/plain": [
       "Success"
      ]
     },
     "metadata": {},
     "output_type": "display_data"
    },
    {
     "name": "stdout",
     "output_type": "stream",
     "text": [
      "......\n",
      "----------------------------------------------------------------------\n",
      "Ran 6 tests in 0.001s\n",
      "\n",
      "OK\n"
     ]
    },
    {
     "data": {
      "text/plain": [
       "<unittest.runner.TextTestResult run=6 errors=0 failures=0>"
      ]
     },
     "execution_count": 187,
     "metadata": {},
     "output_type": "execute_result"
    }
   ],
   "source": [
    "%%unittest_main\n",
    "\n",
    "import unittest\n",
    "\n",
    "class VerifyChessBoard(unittest.TestCase):\n",
    "    \n",
    "    def test_valid_board(self):\n",
    "        board = {'1a': 'bking','2a': 'bqueen','3a': 'brook','4a': 'brook', '5a': 'bknight','6a': 'bknight','7a':'bbishop','8a': 'bbishop',\n",
    "                 '1b': 'bpawn','2b': 'bpawn','3b': 'bpawn','4b':'bpawn', '5b': 'bpawn','6b': 'bpawn','7b': 'bpawn','8b': 'bpawn',\n",
    "                 '1c': 'wking','2c': 'wqueen','3c': 'wrook','4c': 'wrook','5c': 'wbishop','6c': 'wbishop','7c': 'wknight','8c':'wknight',\n",
    "                 '1e': 'wpawn','2e': 'wpawn','3e': 'wpawn','4e': 'wpawn', '5e': 'wpawn','6e': 'wpawn','7e': 'wpawn','8e': 'wpawn',\n",
    "                 '1f': '','2f': '','3f': '','4f': '','5f': '','6f': '','7f': '','8f': '',\n",
    "                 '1g': '','2g': '','3g': '','4g': '','5g': '','6g': '','7g': '','8g': '',\n",
    "                 '1h': '','2h': '','3h': '','4h': '','5h': '','6h': '','7h': '','8h': '',}\n",
    "        \n",
    "        self.assertTrue(isValidChessBoard(board))\n",
    "        \n",
    "    def test_bad_board_incorrect_position(self):\n",
    "        board = {'1a': 'wrook', '1b': 'wknight', '1c': 'wbishop', '1d': 'wqueen', '1e': 'wking', '1f': 'wbishop', '1g': 'wknight', '1h': 'wrook',\n",
    "                 '2a': 'wpawn', '2b': 'wpawn', '2c': 'wpawn', '2d': 'wpawn', '2e': 'wpawn', '2f': 'wpawn', '2g': 'wpawn', '2h': 'wpawn',\n",
    "                 '3a': '', '3b': '', '3c': '', '3d': '', '3e': '', '3f': '', '3g': '', '3h': '',\n",
    "                 '4a': '', '4b': '', '4c': '', '9d': '', '4e': '', '4f': '', '4g': '', '4h': '',\n",
    "                 '5a': '', '5b': '', '5c': '', '5d': '', '5e': '', '5f': '', '5g': '', '5h': '',\n",
    "                 '6a': '', '6b': '', '6c': '', '6d': '', '6e': '', '6f': '', '6g': '', '6h': '',\n",
    "                 '7a': 'bpawn', '7b': 'bpawn', '7c': 'bpawn', '7d': 'bpawn', '7e': 'bpawn', '7f': 'bpawn', '7g': 'bpawn', '7h': 'bpawn',\n",
    "                 '8a': 'brook', '8b': 'bknight', '8c': 'bbishop', '8d': 'bqueen', '8e': 'bking', '8f': 'bbishop', '8g': 'bknight', '8h': 'brook',\n",
    "                }\n",
    "        \n",
    "        self.assertFalse(isValidChessBoard(board))\n",
    "        \n",
    "    def test_bad_board_too_many_white_pieces(self):\n",
    "        board = {'1a': 'wrook', '1b': 'wknight', '1c': 'wbishop', '1d': 'wqueen', '1e': 'wking', '1f': 'wbishop', '1g': 'wknight', '1h': 'wrook',\n",
    "                 '2a': 'wpawn', '2b': 'wpawn', '2c': 'wpawn', '2d': 'wpawn', '2e': 'wpawn', '2f': 'wpawn', '2g': 'wpawn', '2h': 'wpawn',\n",
    "                 '3a': '', '3b': '', '3c': '', '3d': '', '3e': '', '3f': '', '3g': '', '3h': '',\n",
    "                 '4a': '', '4b': '', '4c': 'wknight', '4d': '', '4e': '', '4f': '', '4g': '', '4h': '',\n",
    "                 '5a': '', '5b': '', '5c': '', '5d': '', '5e': '', '5f': '', '5g': '', '5h': '',\n",
    "                 '6a': '', '6b': '', '6c': '', '6d': '', '6e': '', '6f': '', '6g': '', '6h': '',\n",
    "                 '7a': 'bpawn', '7b': 'bpawn', '7c': 'bpawn', '7d': 'bpawn', '7e': 'bpawn', '7f': 'bpawn', '7g': 'bpawn', '7h': 'bpawn',\n",
    "                 '8a': 'brook', '8b': 'bknight', '8c': 'bbishop', '8d': 'bqueen', '8e': 'bking', '8f': 'bbishop', '8g': 'bknight', '8h': 'brook',\n",
    "                }\n",
    "        \n",
    "        self.assertFalse(isValidChessBoard(board))\n",
    "        \n",
    "        \n",
    "    def test_bad_board_too_many_kings(self):\n",
    "        board = {'1a': 'wrook', '1b': 'wknight', '1c': 'wbishop', '1d': 'wqueen', '1e': 'wking', '1f': 'wbishop', '1g': 'wknight', '1h': 'wrook',\n",
    "                 '2a': 'wpawn', '2b': '', '2c': 'wpawn', '2d': 'wpawn', '2e': 'wpawn', '2f': 'wpawn', '2g': 'wpawn', '2h': 'wpawn',\n",
    "                 '3a': '', '3b': '', '3c': '', '3d': '', '3e': '', '3f': '', '3g': '', '3h': '',\n",
    "                 '4a': '', '4b': '', '4c': '', '4d': '', '4e': '', '4f': 'wking', '4g': '', '4h': '',\n",
    "                 '5a': '', '5b': '', '5c': '', '5d': '', '5e': '', '5f': '', '5g': '', '5h': '',\n",
    "                 '6a': '', '6b': '', '6c': '', '6d': '', '6e': '', '6f': '', '6g': '', '6h': '',\n",
    "                 '7a': 'bpawn', '7b': 'bpawn', '7c': 'bpawn', '7d': 'bpawn', '7e': 'bpawn', '7f': 'bpawn', '7g': 'bpawn', '7h': 'bpawn',\n",
    "                 '8a': 'brook', '8b': 'bknight', '8c': 'bbishop', '8d': 'bqueen', '8e': 'bking', '8f': 'bbishop', '8g': 'bknight', '8h': 'brook',\n",
    "                }\n",
    "        \n",
    "        self.assertFalse(isValidChessBoard(board))\n",
    "        \n",
    "\n",
    "    def test_bad_board_too_many_pawns(self):\n",
    "        board = {'1a': 'wrook', '1b': 'wknight', '1c': 'wbishop', '1d': 'wqueen', '1e': 'wking', '1f': 'wbishop', '1g': 'wknight', '1h': 'wrook',\n",
    "                 '2a': 'wpawn', '2b': 'wpawn', '2c': 'wpawn', '2d': 'wpawn', '2e': 'wpawn', '2f': 'wpawn', '2g': 'wpawn', '2h': 'wpawn',\n",
    "                 '3a': '', '3b': '', '3c': '', '3d': '', '3e': '', '3f': '', '3g': '', '3h': '',\n",
    "                 '4a': '', '4b': '', '4c': '', '4d': '', '4e': '', '4f': '', '4g': '', '4h': '',\n",
    "                 '5a': '', '5b': '', '5c': '', '5d': '', '5e': '', '5f': '', '5g': '', '5h': '',\n",
    "                 '6a': '', '6b': '', '6c': '', '6d': '', '6e': '', '6f': '', '6g': '', '6h': '',\n",
    "                 '7a': 'bpawn', '7b': 'bpawn', '7c': 'bpawn', '7d': 'bpawn', '7e': 'bpawn', '7f': 'bpawn', '7g': 'bpawn', '7h': 'bpawn',\n",
    "                 '8a': 'bpawn', '8b': 'bknight', '8c': 'bbishop', '8d': 'bqueen', '8e': 'bking', '8f': 'bbishop', '8g': 'bknight', '8h': 'brook',\n",
    "                }\n",
    "        \n",
    "        self.assertFalse(isValidChessBoard(board))\n",
    "        \n",
    "    def test_bad_board_alien_piece(self):\n",
    "        board = {'1a': 'wrook', '1b': 'wknight', '1c': 'wbishop', '1d': 'wqueen', '1e': 'wking', '1f': 'wbishop', '1g': 'wknight', '1h': 'wrook',\n",
    "                 '2a': 'wpawn', '2b': 'wpawn', '2c': 'wpawn', '2d': 'wpawn', '2e': 'wpawn', '2f': 'wpawn', '2g': 'wpawn', '2h': 'wpawn',\n",
    "                 '3a': '', '3b': '', '3c': '', '3d': '', '3e': '', '3f': '', '3g': '', '3h': '',\n",
    "                 '4a': '', '4b': '', '4c': '', '4d': '', '4e': '', '4f': '', '4g': '', '4h': '',\n",
    "                 '5a': '', '5b': '', '5c': '', '5d': '', '5e': 'gqueen', '5f': '', '5g': '', '5h': '',\n",
    "                 '6a': '', '6b': '', '6c': '', '6d': '', '6e': '', '6f': '', '6g': '', '6h': '',\n",
    "                 '7a': 'bpawn', '7b': 'bpawn', '7c': 'bpawn', '7d': 'bpawn', '7e': 'bpawn', '7f': 'bpawn', '7g': 'bpawn', '7h': 'bpawn',\n",
    "                 '8a': 'brook', '8b': 'bknight', '8c': 'bbishop', '8d': 'bqueen', '8e': 'bking', '8f': 'bbishop', '8g': 'bknight', '8h': 'brook',\n",
    "                }\n",
    "        \n",
    "        self.assertFalse(isValidChessBoard(board))"
   ]
  }
 ],
 "metadata": {
  "kernelspec": {
   "display_name": "Python 3",
   "language": "python",
   "name": "python3"
  },
  "language_info": {
   "codemirror_mode": {
    "name": "ipython",
    "version": 3
   },
   "file_extension": ".py",
   "mimetype": "text/x-python",
   "name": "python",
   "nbconvert_exporter": "python",
   "pygments_lexer": "ipython3",
   "version": "3.8.5"
  }
 },
 "nbformat": 4,
 "nbformat_minor": 4
}
