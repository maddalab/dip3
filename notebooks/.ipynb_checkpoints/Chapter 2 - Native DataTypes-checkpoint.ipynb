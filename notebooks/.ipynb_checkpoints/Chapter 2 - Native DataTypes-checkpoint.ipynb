{
 "cells": [
  {
   "cell_type": "markdown",
   "metadata": {},
   "source": [
    "**Python** keeps track of variable data types internally. Use *typing* to specify data types, however this is not utilized or relevant for the runtime, it is purely a convenience for documenation.\n",
    "\n",
    "*Python* has many data types. The important ones are\n",
    "\n",
    "1. Boolean (True / False)\n",
    "2. Numebrs (int, float, fraction or even complex numbers)\n",
    "3. String (unicode characters)\n",
    "4. Bytes and byte arrays (example. binary image data)\n",
    "5. Lists (ordered sequence of values, arrays in other languages)\n",
    "6. Tuples (immutable sequences of value, the difference between list and tupels is that lists are mutable)\n",
    "7. Sets (unordered collection / bag of values)\n",
    "8. Dictionaries (unordered collection / bag of key value pairs)\n",
    "\n",
    "There are more types, *everything is an object* is Python. So there are types like *modules, functions, class, files* and even compiled code."
   ]
  },
  {
   "cell_type": "markdown",
   "metadata": {},
   "source": [
    "##### Booleans\n",
    "\n",
    "Booleans has two values _True_ and _False_\n",
    "\n",
    "In certain places like and _If_ statement, Python expects the expression to evaluate to a *bool*. You can use virtually any expression in a boolean context and Python will try to determine truth value **do not do this, determine boolean value in code**\n",
    "\n",
    "Different dataypes have different rules about which values are true or false in a boolean context."
   ]
  },
  {
   "cell_type": "markdown",
   "metadata": {},
   "source": [
    "##### Numbers\n",
    "Python supports both integers (int) and floating point numbers (float). There is no way to distinguish them other than the presence or absence of a decimal point"
   ]
  },
  {
   "cell_type": "code",
   "execution_count": 1,
   "metadata": {},
   "outputs": [
    {
     "name": "stdout",
     "output_type": "stream",
     "text": [
      "<class 'int'>\n",
      "True\n",
      "2\n",
      "2.0\n",
      "<class 'float'>\n"
     ]
    }
   ],
   "source": [
    "print(type(1))\n",
    "print(isinstance(1, int))\n",
    "print(1 + 1)\n",
    "print(1 + 1.0)\n",
    "print(type(2.0))"
   ]
  },
  {
   "cell_type": "markdown",
   "metadata": {},
   "source": [
    "Python coerces the _int_ to a _float_ when adding an _int_ to a _float_ and return a _float_"
   ]
  },
  {
   "cell_type": "code",
   "execution_count": 2,
   "metadata": {},
   "outputs": [
    {
     "name": "stdout",
     "output_type": "stream",
     "text": [
      "5.5\n",
      "5\n",
      "5.5\n",
      "5.0\n",
      "121\n",
      "1\n"
     ]
    }
   ],
   "source": [
    "# operations on numbers\n",
    "\n",
    "print(11/2)\n",
    "print(11//2)\n",
    "print(11.0/2)\n",
    "print(float(11)//2)\n",
    "print(11**2)\n",
    "print(11%2)"
   ]
  },
  {
   "cell_type": "markdown",
   "metadata": {},
   "source": [
    "###### Fractions\n",
    "Python isn't limited to integers and floating point numbers."
   ]
  },
  {
   "cell_type": "code",
   "execution_count": 3,
   "metadata": {},
   "outputs": [],
   "source": [
    "import fractions\n",
    "x = fractions.Fraction(1, 3)"
   ]
  },
  {
   "cell_type": "code",
   "execution_count": 4,
   "metadata": {},
   "outputs": [
    {
     "name": "stdout",
     "output_type": "stream",
     "text": [
      "1/3\n"
     ]
    }
   ],
   "source": [
    "print(x)"
   ]
  },
  {
   "cell_type": "code",
   "execution_count": 5,
   "metadata": {},
   "outputs": [
    {
     "data": {
      "text/plain": [
       "Fraction(2, 3)"
      ]
     },
     "execution_count": 5,
     "metadata": {},
     "output_type": "execute_result"
    }
   ],
   "source": [
    "x*2"
   ]
  },
  {
   "cell_type": "code",
   "execution_count": 6,
   "metadata": {},
   "outputs": [
    {
     "data": {
      "text/plain": [
       "Fraction(3, 2)"
      ]
     },
     "execution_count": 6,
     "metadata": {},
     "output_type": "execute_result"
    }
   ],
   "source": [
    "fractions.Fraction(6, 4)"
   ]
  },
  {
   "cell_type": "markdown",
   "metadata": {},
   "source": [
    "###### Trignometry\n",
    "Python supports trignometry using the _math_ module. The math module has all the basic trignometric functions, including *sin(), cos(), tan()* and variants like *asin()*"
   ]
  },
  {
   "cell_type": "code",
   "execution_count": 7,
   "metadata": {},
   "outputs": [
    {
     "data": {
      "text/plain": [
       "3.141592653589793"
      ]
     },
     "execution_count": 7,
     "metadata": {},
     "output_type": "execute_result"
    }
   ],
   "source": [
    "import math\n",
    "math.pi"
   ]
  },
  {
   "cell_type": "code",
   "execution_count": 8,
   "metadata": {},
   "outputs": [
    {
     "data": {
      "text/plain": [
       "1.0"
      ]
     },
     "execution_count": 8,
     "metadata": {},
     "output_type": "execute_result"
    }
   ],
   "source": [
    "math.sin(math.pi / 2)"
   ]
  },
  {
   "cell_type": "code",
   "execution_count": 9,
   "metadata": {},
   "outputs": [
    {
     "data": {
      "text/plain": [
       "0.9999999999999999"
      ]
     },
     "execution_count": 9,
     "metadata": {},
     "output_type": "execute_result"
    }
   ],
   "source": [
    "math.tan(math.pi / 4)"
   ]
  },
  {
   "cell_type": "markdown",
   "metadata": {},
   "source": [
    "##### Typing\n",
    "\n",
    "There is a special **Any** type indicating an unconstrained type\n",
    "\n",
    "* Every type is compatible with **Any**\n",
    "* **Any** is compatible with every type\n",
    "\n",
    "A static type checker will treat every type as beinc compatible with Any and Any as being compatible with every type.\n",
    "\n",
    "This means that is is possible to perform *any* operations or method call on a value of type **Any** and assign it to *any* variable.\n",
    "\n",
    "```python\n",
    "from typing import Any\n",
    "\n",
    "a = None    # type: Any\n",
    "a = []      # OK\n",
    "a = 2       # OK\n",
    "\n",
    "s = ''      # type: str\n",
    "s = a       # OK\n",
    "\n",
    "# valid\n",
    "def foo(item: Any) -> int:\n",
    "    item.bar()\n",
    "```\n",
    "\n",
    "No typechecking is performed when assigning a value of **Any** to a more precise type. This behavior allows **Any** to be used as an escape hatch when you need to mix dynamically and statically typed code.\n",
    "\n",
    "\n",
    "Contrast the behavior of **Any** with the behavior of **object**. Similar to **Any**, every type is a subtype of **object**. However unlike **Any**, **object** is *NOT* a subtype of every other type.\n",
    "\n",
    "Use **object** to indicate that a value could be of _any_ type in a a typesafe manner. Use **Any** to indicate that the value is dynamically typed."
   ]
  },
  {
   "cell_type": "code",
   "execution_count": 12,
   "metadata": {},
   "outputs": [],
   "source": [
    "from typing import Any\n",
    "a: Any = None\n",
    "a = []\n",
    "a = 2"
   ]
  },
  {
   "cell_type": "code",
   "execution_count": 13,
   "metadata": {},
   "outputs": [],
   "source": [
    "s = ''\n",
    "s = a"
   ]
  },
  {
   "cell_type": "code",
   "execution_count": 14,
   "metadata": {},
   "outputs": [],
   "source": [
    "def foo(item: Any) -> int:\n",
    "    item.bar()"
   ]
  },
  {
   "cell_type": "code",
   "execution_count": 17,
   "metadata": {},
   "outputs": [
    {
     "name": "stdout",
     "output_type": "stream",
     "text": [
      "int does not have an attribute bar, but the method is invoked\n"
     ]
    }
   ],
   "source": [
    "try:\n",
    "    foo(10)\n",
    "except AttributeError:\n",
    "    print(\"int does not have an attribute bar, but the method is invoked\")"
   ]
  },
  {
   "cell_type": "code",
   "execution_count": 18,
   "metadata": {},
   "outputs": [],
   "source": [
    "def bar(item: object) -> int:\n",
    "    item.foo()"
   ]
  }
 ],
 "metadata": {
  "kernelspec": {
   "display_name": "Python 3",
   "language": "python",
   "name": "python3"
  },
  "language_info": {
   "codemirror_mode": {
    "name": "ipython",
    "version": 3
   },
   "file_extension": ".py",
   "mimetype": "text/x-python",
   "name": "python",
   "nbconvert_exporter": "python",
   "pygments_lexer": "ipython3",
   "version": "3.8.5"
  }
 },
 "nbformat": 4,
 "nbformat_minor": 4
}
