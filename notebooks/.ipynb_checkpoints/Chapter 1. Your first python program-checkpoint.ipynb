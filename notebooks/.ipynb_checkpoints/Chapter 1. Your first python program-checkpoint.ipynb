{
 "cells": [
  {
   "cell_type": "code",
   "execution_count": 5,
   "metadata": {},
   "outputs": [],
   "source": [
    "from typing import Dict, List\n",
    "\n",
    "SUFFIXES: Dict[int, List[str]] = {1000: ['KB', 'MB', 'GB', 'TB', 'PB', 'EB', 'ZB', 'YB'],\n",
    "            1024: ['KiB', 'MiB', 'GiB', 'TiB', 'PiB', 'EiB', 'ZiB', 'YiB']}"
   ]
  },
  {
   "cell_type": "code",
   "execution_count": 14,
   "metadata": {},
   "outputs": [],
   "source": [
    "def approximate_size(size: int, a_kilobyte_is_1024_bytes: bool = True) -> str:\n",
    "    '''Convert a file size to human readable form\n",
    "    \n",
    "    Keyword arguments:\n",
    "    size -- file size in bytes\n",
    "    a_kilobyte_is_1024_bytes -- if True (default), use multiple of 1024\n",
    "                                if False, use multiple of 1000\n",
    "                                \n",
    "    Returns: string\n",
    "    '''\n",
    "    \n",
    "    if size < 0:\n",
    "        raise ValueError('size must be non-negative')\n",
    "        \n",
    "    multiple = 1024 if a_kilobyte_is_1024_bytes else 1000\n",
    "    for suffix in SUFFIXES[multiple]:\n",
    "        size /= multiple\n",
    "        if size < multiple:\n",
    "            return '{0:.1f} {1}'.format(size, suffix)\n",
    "        \n",
    "    raise ValueError(\"size is too large\")"
   ]
  },
  {
   "cell_type": "code",
   "execution_count": 16,
   "metadata": {},
   "outputs": [
    {
     "name": "stdout",
     "output_type": "stream",
     "text": [
      "10.0 EB\n"
     ]
    }
   ],
   "source": [
    "print(approximate_size(10000000000000000000, False))"
   ]
  },
  {
   "cell_type": "code",
   "execution_count": 9,
   "metadata": {},
   "outputs": [
    {
     "name": "stdout",
     "output_type": "stream",
     "text": [
      "931.3 GiB\n"
     ]
    }
   ],
   "source": [
    "print(approximate_size(1000000000000))"
   ]
  },
  {
   "cell_type": "code",
   "execution_count": 18,
   "metadata": {},
   "outputs": [
    {
     "name": "stdout",
     "output_type": "stream",
     "text": [
      "Convert a file size to human readable form\n",
      "    \n",
      "    Keyword arguments:\n",
      "    size -- file size in bytes\n",
      "    a_kilobyte_is_1024_bytes -- if True (default), use multiple of 1024\n",
      "                                if False, use multiple of 1000\n",
      "                                \n",
      "    Returns: string\n",
      "    \n"
     ]
    }
   ],
   "source": [
    "print(approximate_size.__doc__)"
   ]
  },
  {
   "cell_type": "code",
   "execution_count": 19,
   "metadata": {},
   "outputs": [
    {
     "data": {
      "text/plain": [
       "['/Users/bhaskar/workspace/dip3/notebooks',\n",
       " '/Users/bhaskar/.pyenv/versions/3.8.5/lib/python38.zip',\n",
       " '/Users/bhaskar/.pyenv/versions/3.8.5/lib/python3.8',\n",
       " '/Users/bhaskar/.pyenv/versions/3.8.5/lib/python3.8/lib-dynload',\n",
       " '',\n",
       " '/Users/bhaskar/Library/Caches/pypoetry/virtualenvs/dive_into_python3-NDjgBark-py3.8/lib/python3.8/site-packages',\n",
       " '/Users/bhaskar/Library/Caches/pypoetry/virtualenvs/dive_into_python3-NDjgBark-py3.8/lib/python3.8/site-packages/IPython/extensions',\n",
       " '/Users/bhaskar/.ipython']"
      ]
     },
     "execution_count": 19,
     "metadata": {},
     "output_type": "execute_result"
    }
   ],
   "source": [
    "import sys\n",
    "sys.path"
   ]
  },
  {
   "cell_type": "code",
   "execution_count": null,
   "metadata": {},
   "outputs": [],
   "source": []
  }
 ],
 "metadata": {
  "kernelspec": {
   "display_name": "Python 3",
   "language": "python",
   "name": "python3"
  },
  "language_info": {
   "codemirror_mode": {
    "name": "ipython",
    "version": 3
   },
   "file_extension": ".py",
   "mimetype": "text/x-python",
   "name": "python",
   "nbconvert_exporter": "python",
   "pygments_lexer": "ipython3",
   "version": "3.8.5"
  }
 },
 "nbformat": 4,
 "nbformat_minor": 4
}
