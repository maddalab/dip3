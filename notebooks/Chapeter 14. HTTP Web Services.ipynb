{
 "cells": [
  {
   "cell_type": "markdown",
   "metadata": {},
   "source": [
    "##### Diving In\n",
    "\n",
    "HTTP webservices can be described as _exchanging data with remote servers using nothing but the operations of HTTP_\n",
    "\n",
    "* `HTTP GET` to get data from a server\n",
    "* `HTTP POST` to send new data to a server\n",
    "* `HTTP PUT` to create or modify data on a server\n",
    "* `HTTP DELETE` to delete data on a server.\n",
    "\n",
    "The \"verbs\" built into `HTTP` protocol (`GET`, `POST`, `PUT`, `DELETE`) map directly to application-level operations for retrieving, creating, modifying and deleting data.\n",
    "\n",
    "Python comes with two different libraries for interacting with `HTTP` we services\n",
    "\n",
    "* `http.client` is a low-level library that implements `RFC` 2616, the `HTTP` protocol\n",
    "* `urllib.request` is an abstraction layer built on top of `http.client`. It provides a standard `API` for accessing both `HTTP` and `FTP` servers, automaticall follows `HTTP` redirects and handles some common forms of `HTTP` authentication.\n",
    "\n",
    "A preferred library for http use cases in python is the open source `httplib2` library that more fully implements `http.client` and provides a better abstraction than `urllib.request`.\n",
    "\n",
    "\n",
    "##### Features of HTTP\n",
    "\n",
    "**Caching**\n",
    "\n",
    "Network requests are very expensive and add unacceptable latency to receiving a response. Due to this `HTTP` is designed with caching in  mind. \n",
    "\n",
    "The `Cache-Control` and `Expires` headers tell your browser / client that content can be cached, in additional the service via the `Expires` header specifies when the content expires.\n",
    "\n",
    "When the browser / client needs to make a request, it may find the content cached locally based on the headers in a previous response. If the content is cached locally, the browser will not make a network request.\n",
    "\n",
    "If for any reason the local cache has be purged, the browser makes a network request, that may be satisfied by an intermediate caching proxy which does not necessitate a request to the `origin` server.\n",
    "\n",
    "Python `HTTP` libraries do not support caching, but `httplib2` does.\n",
    "\n",
    "**Last modified Checking**\n",
    "\n",
    "Some data never changes, while other data changes all the time. In between, there is a vast field of data that _might_ have changed.\n",
    "\n",
    "CNN.com's data changes every few minutes, a weblog data might change once a week or less frequently.\n",
    "\n",
    "When data has not change we do not want to re-download the content as putting data on a network and recieving the data is expensive. `HTTP` facilitates this with the `Last-Modified` header.\n",
    "\n",
    "    Last-Modified: Fri, 22 Aug 2008 04:28:16 GMT\n",
    "    \n",
    "In the above example, include the `Last-Modified` header with the value `Fri, 22 Aug 2008 04:28:16 GMT` in the request will allow the service to respond with a `304` (`Not Modified`) response and no content if that were the cases. The service may also include updated `Cache-Control` and `Expires` headers in the response allowing intermediate proxies and client to update the status on the cache.\n",
    "\n",
    "`httplib2` supports last-modified date checking.\n",
    "\n",
    "**ETag Checking**\n",
    "\n",
    "ETags are an alternative way to accomplish the same thing as _last modified checking_. With ETags the service responds with a hash code along with the data (Exactly how the hash is determine is up to the service, the only requirement is that it changes when the data changes). \n",
    "\n",
    "The second time you request the same data you include the Etag in a `If-None-Match` header of your request.\n",
    "\n",
    "    If-None-Match: \"3075-ddc8d800\"\n",
    "    \n",
    "As with the last-modified checking, the srver sends back only the 304 status code; it doesn't send back the same data a second time. By including ETag has in your request, you are telling the service that there is no need to re-send the same data if it still matches this hash, since you still have the data from last time.\n",
    "\n",
    "`httplib2` supports etags.\n",
    "\n",
    "**Compression**\n",
    "\n",
    "`HTTP` supports several compression algorithms. The tow most common types are `gzip` and `deflate`. Client can specify that they are willing to accept compressed context via the `Accept-Encoding` header.\n",
    "\n",
    "If a service support one of the `Accept-encoding`'s specified by the client, the service responds with the encoded content in the body and the encoding used in `Content-encoding` header.\n",
    "\n",
    "Most body-content in http is text, and text compresses very well, hence the support for compression in HTTP.\n",
    "\n",
    "`httplib2` support compression\n",
    "\n",
    "**Redirects**\n",
    "\n",
    "Cool `URI`s don't change, but many `URI`s change. A syndicated feed might be moved. An entire domain changes due to the organization expanding or reorganizing.\n",
    "\n",
    "Every time you request any kind of resource from an `HTTP` server the server incldues status code in its response. Status code `200` means \"everything is normal, here's the content you requested\".\n",
    "\n",
    "`404` is page not found, a common error that everyone is familiar with.\n",
    "\n",
    "Status codes in the `300`'s indicate some kind of redirection. `301` indicated permanent redirection, and `302` indicated temporary rediction. In either case the new location for the resource is specificed in the `Location` header.\n",
    "\n",
    "I you get a `302` status code and a new location, the `HTTP` specification says, you should use the new address once, the next time you should retry the old address. But with a `301` status code, you're supposed to use the new address from now on.\n",
    "\n",
    "`httplib2` handles permanent redirects for you. It will tell you that a permanent redirect occurred and keep track of them locally and automatically rewrite redirected URLs when requesting them."
   ]
  },
  {
   "cell_type": "markdown",
   "metadata": {},
   "source": [
    "##### How NOT to fetch data over http\n",
    "\n",
    "Let us fetch an Atom feed, being a feed it will be downloaded repeatedly. Let's do it the quick and dirty way first and then see how to do it better."
   ]
  },
  {
   "cell_type": "code",
   "execution_count": 18,
   "metadata": {},
   "outputs": [
    {
     "data": {
      "text/plain": [
       "bytes"
      ]
     },
     "execution_count": 18,
     "metadata": {},
     "output_type": "execute_result"
    }
   ],
   "source": [
    "import urllib.request\n",
    "\n",
    "a_url = 'https://feeds.simplecast.com/wgl4xEgL'\n",
    "data = urllib.request.urlopen(a_url).read()\n",
    "type(data)"
   ]
  },
  {
   "cell_type": "markdown",
   "metadata": {},
   "source": [
    "To see why this is inefficient let's turn on debugging features of `HTTP` library and see what's being sent \"on the wire\""
   ]
  },
  {
   "cell_type": "code",
   "execution_count": 2,
   "metadata": {},
   "outputs": [],
   "source": [
    "from http.client import HTTPSConnection, HTTPResponse\n",
    "HTTPSConnection.debuglevel = 1\n",
    "HTTPResponse.debuglevel = 1\n",
    "\n",
    "from urllib.request import urlopen\n",
    "\n",
    "a_url = 'https://feeds.simplecast.com/wgl4xEgL'\n",
    "response = urlopen(a_url)"
   ]
  },
  {
   "cell_type": "code",
   "execution_count": 3,
   "metadata": {},
   "outputs": [
    {
     "data": {
      "text/plain": [
       "http.client.HTTPResponse"
      ]
     },
     "execution_count": 3,
     "metadata": {},
     "output_type": "execute_result"
    }
   ],
   "source": [
    "type(response)"
   ]
  },
  {
   "cell_type": "code",
   "execution_count": 4,
   "metadata": {},
   "outputs": [
    {
     "name": "stdout",
     "output_type": "stream",
     "text": [
      "Content-Type: application/xml\n",
      "Content-Length: 2594947\n",
      "Connection: close\n",
      "Last-Modified: Fri, 01 Jan 2021 11:18:22 GMT\n",
      "x-amz-version-id: HtWmRArgQPymxM8PdYbtg8CryJk7C4lT\n",
      "Server: AmazonS3\n",
      "Date: Fri, 01 Jan 2021 17:28:03 GMT\n",
      "Cache-Control: max-age=3600\n",
      "ETag: \"c6601ecd256dae5ec11c8f3714be4483\"\n",
      "Vary: Accept-Encoding\n",
      "X-Cache: Hit from cloudfront\n",
      "Via: 1.1 d4cdd862c8bc0148f37b685614031cf5.cloudfront.net (CloudFront)\n",
      "X-Amz-Cf-Pop: EWR52-C1\n",
      "X-Amz-Cf-Id: VMQ_M1qqcxh_zgaOb0wdELUlyFNiCHZIhLomqEOD4NeOajAeZa2cdA==\n",
      "Age: 497\n",
      "\n",
      "\n"
     ]
    }
   ],
   "source": [
    "print(response.headers.as_string())"
   ]
  },
  {
   "cell_type": "markdown",
   "metadata": {},
   "source": [
    "**FAILED!!!***\n",
    "\n",
    "Since I couldn't get the debug message to show up this write up relies on the content of the book rather than verification."
   ]
  },
  {
   "cell_type": "markdown",
   "metadata": {},
   "source": [
    "Reviewing the response headers, we can see that we did not specify a `Accept-encoding` header resulting in a plain text response. If we made another request the request will ignore the `Cache-Control` and `ETag` response headers from this response.\n",
    "\n",
    "Finally an interesing thing here the that we can see the use of AWS Cloudfront for the feed."
   ]
  },
  {
   "cell_type": "markdown",
   "metadata": {},
   "source": [
    "##### Introducing `httplib2`\n",
    "\n",
    "`httplib2` solves some of these problem associated with the built in library"
   ]
  },
  {
   "cell_type": "code",
   "execution_count": 6,
   "metadata": {},
   "outputs": [
    {
     "name": "stdout",
     "output_type": "stream",
     "text": [
      "200\n",
      "2594947\n"
     ]
    }
   ],
   "source": [
    "import httplib2\n",
    "\n",
    "h = httplib2.Http('examples/.cache')\n",
    "\n",
    "response, content = h.request(a_url)\n",
    "print(response.status)\n",
    "print(len(content))"
   ]
  },
  {
   "cell_type": "code",
   "execution_count": 7,
   "metadata": {},
   "outputs": [
    {
     "name": "stdout",
     "output_type": "stream",
     "text": [
      "True\n"
     ]
    }
   ],
   "source": [
    "response, content = h.request(a_url)\n",
    "print(response.fromcache)"
   ]
  },
  {
   "cell_type": "markdown",
   "metadata": {},
   "source": [
    "As we can see in this case, the second request retrieves the response from cache.\n",
    "\n",
    "How can we force httplib2 to ignore the cache"
   ]
  },
  {
   "cell_type": "code",
   "execution_count": 8,
   "metadata": {},
   "outputs": [
    {
     "name": "stdout",
     "output_type": "stream",
     "text": [
      "False\n"
     ]
    }
   ],
   "source": [
    "response, content = h.request(a_url, headers= {'Cache-control': 'no-cache'})\n",
    "print(response.fromcache)"
   ]
  },
  {
   "cell_type": "markdown",
   "metadata": {},
   "source": [
    "Lets review the request headers by enabling the debug level"
   ]
  },
  {
   "cell_type": "code",
   "execution_count": 11,
   "metadata": {},
   "outputs": [
    {
     "name": "stdout",
     "output_type": "stream",
     "text": [
      "connect: (feeds.simplecast.com, 443)\n",
      "send: b'GET /wgl4xEgL HTTP/1.1\\r\\nHost: feeds.simplecast.com\\r\\ncache-control: no-cache\\r\\nuser-agent: Python-httplib2/0.18.1 (gzip)\\r\\naccept-encoding: gzip, deflate\\r\\n\\r\\n'\n",
      "reply: 'HTTP/1.1 200 OK\\r\\n'\n",
      "header: Content-Type: application/xml\n",
      "header: Transfer-Encoding: chunked\n",
      "header: Connection: keep-alive\n",
      "header: Last-Modified: Fri, 01 Jan 2021 11:18:22 GMT\n",
      "header: x-amz-version-id: HtWmRArgQPymxM8PdYbtg8CryJk7C4lT\n",
      "header: Server: AmazonS3\n",
      "header: Content-Encoding: gzip\n",
      "header: Date: Fri, 01 Jan 2021 17:18:42 GMT\n",
      "header: Cache-Control: max-age=3600\n",
      "header: ETag: W/\"c6601ecd256dae5ec11c8f3714be4483\"\n",
      "header: Vary: Accept-Encoding\n",
      "header: X-Cache: Hit from cloudfront\n",
      "header: Via: 1.1 5d70fbb2ed26aa231fed552696cfa0a5.cloudfront.net (CloudFront)\n",
      "header: X-Amz-Cf-Pop: EWR52-C1\n",
      "header: X-Amz-Cf-Id: C6195j8FWBkGol7DgLG4TFRPQQAT8CZSi3t2ONa_C5efNHgdwo8x8A==\n",
      "header: Age: 1391\n"
     ]
    }
   ],
   "source": [
    "httplib2.debuglevel = 1\n",
    "\n",
    "h = httplib2.Http('examples/.cache')\n",
    "response, content = h.request(a_url, headers= {'Cache-control': 'no-cache'})"
   ]
  },
  {
   "cell_type": "markdown",
   "metadata": {},
   "source": [
    "`httplib2` make a request with a number of headers that are best practice for HTTP\n",
    "\n",
    "    accept-encoding: gzip, deflate\n",
    "    \n",
    "The server responds with `gzip` response and include both a `Last-Modified` and `ETag` headers.\n",
    "\n",
    "    Content-Encoding: gzip\n",
    "    Last-Modified: Fri, 01 Jan 2021 11:18:22 GMT\n",
    "    ETag: W/\"c6601ecd256dae5ec11c8f3714be4483\""
   ]
  }
 ],
 "metadata": {
  "kernelspec": {
   "display_name": "Python 3",
   "language": "python",
   "name": "python3"
  },
  "language_info": {
   "codemirror_mode": {
    "name": "ipython",
    "version": 3
   },
   "file_extension": ".py",
   "mimetype": "text/x-python",
   "name": "python",
   "nbconvert_exporter": "python",
   "pygments_lexer": "ipython3",
   "version": "3.8.5"
  }
 },
 "nbformat": 4,
 "nbformat_minor": 4
}
