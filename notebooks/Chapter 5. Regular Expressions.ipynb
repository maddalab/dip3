{
 "cells": [
  {
   "cell_type": "markdown",
   "metadata": {},
   "source": [
    "#### Diving In\n",
    "\n",
    "Getting a small bit of text out of a large block is a challenge. In Python, string have method for searching and replacing: `index(), find(), split(), count(), replace()` etc. But these methods are limited to the simplest of cases. For example `index()` method looks for a single, hard coded substring and search is always case sensitive.\n",
    "\n",
    "If your goal can be accomplished using string methods, use them. They're fast and simple and easy to read. But if you find yourself using a lot of different string functions with `if` statements and special cases, of if you are chaining method calls to `split()` and `join()` to slice and dice your string, you need to move to regular expressions.\n",
    "\n",
    "Regular expressions are powerful way to search, replace and parse text with complex character patterns.\n",
    "\n",
    "##### Case Study : Street Addresses\n",
    "\n",
    "Scrubbing and standardization of stree addresses. Goal is to standardize street address so that `ROAD` is always abbreviated as `RD.`\n",
    "\n",
    "The first attempt replaces `ROAD` with `RD.` using the string `replace()` method."
   ]
  },
  {
   "cell_type": "code",
   "execution_count": 6,
   "metadata": {},
   "outputs": [
    {
     "data": {
      "text/plain": [
       "'100 NORTH MAIN RD.'"
      ]
     },
     "execution_count": 6,
     "metadata": {},
     "output_type": "execute_result"
    }
   ],
   "source": [
    "s = '100 NORTH MAIN ROAD'\n",
    "s.replace('ROAD', 'RD.')"
   ]
  },
  {
   "cell_type": "markdown",
   "metadata": {},
   "source": [
    "But this fails on the below example"
   ]
  },
  {
   "cell_type": "code",
   "execution_count": 9,
   "metadata": {},
   "outputs": [
    {
     "data": {
      "text/plain": [
       "'100 NORTH BRD. RD.'"
      ]
     },
     "execution_count": 9,
     "metadata": {},
     "output_type": "execute_result"
    }
   ],
   "source": [
    "s = '100 NORTH BROAD ROAD'\n",
    "s.replace('ROAD', 'RD.')"
   ]
  },
  {
   "cell_type": "markdown",
   "metadata": {},
   "source": [
    "By limiting the replacement to the last 4 character in the string, we can achieve the right result"
   ]
  },
  {
   "cell_type": "code",
   "execution_count": 11,
   "metadata": {},
   "outputs": [
    {
     "data": {
      "text/plain": [
       "'100 NORTH BROAD RD.'"
      ]
     },
     "execution_count": 11,
     "metadata": {},
     "output_type": "execute_result"
    }
   ],
   "source": [
    "s[:-4] + s[-4:].replace('ROAD', 'RD.')"
   ]
  },
  {
   "cell_type": "markdown",
   "metadata": {},
   "source": [
    "Using regex we can achive the same result using more readable and simple code"
   ]
  },
  {
   "cell_type": "code",
   "execution_count": 12,
   "metadata": {},
   "outputs": [
    {
     "data": {
      "text/plain": [
       "'100 NORTH BROAD RD.'"
      ]
     },
     "execution_count": 12,
     "metadata": {},
     "output_type": "execute_result"
    }
   ],
   "source": [
    "import re\n",
    "re.sub('ROAD$', 'RD.', s)"
   ]
  },
  {
   "cell_type": "markdown",
   "metadata": {},
   "source": [
    "The first parameter is `ROAD$` This is a simple regular expressions that matches `ROAD` only when it occurs a the end of the string. The `$` means \"end of string\".\n",
    "\n",
    "Using the `re.sub()` function you can search the string `s` for the regular expressions `ROAD$` and replace it with `RD.`. This matches `ROAD` at the end of the string `s`, but does *not* match the ROAD that's part of the word `BROAD`, becuase that is in the middle of the string `s`."
   ]
  },
  {
   "cell_type": "code",
   "execution_count": 16,
   "metadata": {},
   "outputs": [
    {
     "data": {
      "text/plain": [
       "'100 BRD.'"
      ]
     },
     "execution_count": 16,
     "metadata": {},
     "output_type": "execute_result"
    }
   ],
   "source": [
    "# cases where the logic doesn't work\n",
    "s = '100 BROAD'\n",
    "re.sub('ROAD$', 'RD.', s)"
   ]
  },
  {
   "cell_type": "code",
   "execution_count": 17,
   "metadata": {},
   "outputs": [
    {
     "data": {
      "text/plain": [
       "'100 BROAD'"
      ]
     },
     "execution_count": 17,
     "metadata": {},
     "output_type": "execute_result"
    }
   ],
   "source": [
    "re.sub('\\\\bROAD$', 'RD.', s)"
   ]
  },
  {
   "cell_type": "code",
   "execution_count": 18,
   "metadata": {},
   "outputs": [
    {
     "data": {
      "text/plain": [
       "'100 BROAD ROAD APT 5'"
      ]
     },
     "execution_count": 18,
     "metadata": {},
     "output_type": "execute_result"
    }
   ],
   "source": [
    "s = '100 BROAD ROAD APT 5'\n",
    "re.sub('\\\\bROAD$', 'RD.', s)"
   ]
  },
  {
   "cell_type": "markdown",
   "metadata": {},
   "source": [
    "What we need is to identify the word `ROAD` with whitespace around it on both sides. The `\\b` means a word *b*oundary. \n",
    "\n",
    "In Python using `\\` in a string is complicated by the fact that `\\` character in a string must be escaped. The alternative is it utilize a `raw` string. Strings prefix by the letter `r` are raw strings. In raw string `\\t` is not the tab character it is a string of `len` 2, with characters `\\` and `t`."
   ]
  },
  {
   "cell_type": "code",
   "execution_count": 20,
   "metadata": {},
   "outputs": [
    {
     "data": {
      "text/plain": [
       "'100 BROAD RD. APT 5'"
      ]
     },
     "execution_count": 20,
     "metadata": {},
     "output_type": "execute_result"
    }
   ],
   "source": [
    "re.sub(r'\\bROAD\\b', 'RD.', s)"
   ]
  },
  {
   "cell_type": "markdown",
   "metadata": {},
   "source": [
    "##### Case Study : Roman Numerals\n",
    "\n",
    "Roman numerals are a system of representing numbers that date back to the ancient Roman emptire. In Roman numerals there are seven characters that are repeated and combined in various ways to represent numbers.\n",
    "\n",
    "* I = 1\n",
    "* V = 5\n",
    "* X = 10\n",
    "* L = 50\n",
    "* C = 100\n",
    "* D = 500\n",
    "* M = 1000\n",
    "\n",
    "The following are general rules for constructing Roman numerals.\n",
    "\n",
    "\n",
    "* Sometimes characters are additive. I is 1, II is 2, and III is 3. VI is 6 (literally, “5 and 1”), VII is 7, and VIII is 8.\n",
    "* The tens characters (I, X, C, and M) can be repeated up to three times. At 4, you need to subtract from the next highest fives character. You can't represent 4 as IIII; instead, it is represented as IV (“1 less than 5”). 40 is written as XL (“10 less than 50”), 41 as XLI, 42 as XLII, 43 as XLIII, and then 44 as XLIV (“10 less than 50, then 1 less than 5”).\n",
    "* Sometimes characters are the opposite of additive. By putting certain characters before others, you subtract from the final value. For example, at 9, you need to subtract from the next highest tens character: 8 is VIII, but 9 is IX (“1 less than 10”), not VIIII (since the I character can not be repeated four times). 90 is XC, 900 is CM.\n",
    "* The fives characters can not be repeated. 10 is always represented as X, never as VV. 100 is always C, never LL.\n",
    "* Roman numerals are read left to right, so the order of characters matters very much. DC is 600; CD is a completely different number (400, “100 less than 500”). CI is 101; IC is not even a valid Roman numeral (because you can't subtract 1 directly from 100; you would need to write it as XCIX, “10 less than 100, then 1 less than 10”).\n",
    "\n",
    "\n",
    "**Write a Regex for parsing Roman Numberals**"
   ]
  },
  {
   "cell_type": "code",
   "execution_count": 31,
   "metadata": {},
   "outputs": [
    {
     "name": "stdout",
     "output_type": "stream",
     "text": [
      "Starting position of the match is 0\n",
      "Ending position of the match is 3\n",
      "Matched string is MMM\n"
     ]
    }
   ],
   "source": [
    "import re\n",
    "\n",
    "p = re.compile(r\"^(M?M?M?)$\")\n",
    "m = p.match(\"MMM\")\n",
    "print(\"Starting position of the match is {0}\".format(m.start()))\n",
    "print(\"Ending position of the match is {0}\".format(m.end()))\n",
    "print(\"Matched string is {0}\".format(m.group(0)))"
   ]
  },
  {
   "cell_type": "code",
   "execution_count": 121,
   "metadata": {},
   "outputs": [],
   "source": [
    "import typing, re\n",
    "\n",
    "def print_match(s: str, m: re.Match):\n",
    "    print(\"For the example {0}\".format(s))\n",
    "    print(\"Result of match is {0}\".format(not m == None))\n",
    "    if m:\n",
    "        print(\"Number of groups is {0}\".format(len(m.groups())))\n",
    "        print(\"First group is is {0[0]}\".format(m.groups()))\n",
    "        print(\"Second group is is {0[1]}\".format(m.groups()))\n",
    "        \n",
    "    print(\"-------\\n\")\n",
    "        \n",
    "def check_pattern(pattern: str, tests: typing.List[str], flags: int = 0):\n",
    "    p = re.compile(pattern, flags)\n",
    "    [print_match(s, p.match(s)) for s in tests]"
   ]
  },
  {
   "cell_type": "markdown",
   "metadata": {},
   "source": [
    "**Checking for hundreds**\n",
    "\n",
    "The hundreds place is more difficult than the thousands because there are are several mutually exclusive ways it could be expressed\n",
    "\n",
    "* 100 = C\n",
    "* 200 = CC\n",
    "* 300 = CCC\n",
    "* 400 = CD\n",
    "* 500 = D\n",
    "* 600 = DC\n",
    "* 700 = DCC\n",
    "* 800 = DCCC\n",
    "* 900 = CM"
   ]
  },
  {
   "cell_type": "code",
   "execution_count": 122,
   "metadata": {},
   "outputs": [
    {
     "name": "stdout",
     "output_type": "stream",
     "text": [
      "For the example MMM\n",
      "Result of match is True\n",
      "Number of groups is 2\n",
      "First group is is MMM\n",
      "Second group is is \n",
      "-------\n",
      "\n",
      "For the example MMMCM\n",
      "Result of match is True\n",
      "Number of groups is 2\n",
      "First group is is MMM\n",
      "Second group is is CM\n",
      "-------\n",
      "\n",
      "For the example MMMC\n",
      "Result of match is True\n",
      "Number of groups is 2\n",
      "First group is is MMM\n",
      "Second group is is C\n",
      "-------\n",
      "\n",
      "For the example MMMCD\n",
      "Result of match is True\n",
      "Number of groups is 2\n",
      "First group is is MMM\n",
      "Second group is is CD\n",
      "-------\n",
      "\n",
      "For the example MMMDC\n",
      "Result of match is True\n",
      "Number of groups is 2\n",
      "First group is is MMM\n",
      "Second group is is DC\n",
      "-------\n",
      "\n",
      "For the example MMMDCD\n",
      "Result of match is False\n",
      "-------\n",
      "\n"
     ]
    }
   ],
   "source": [
    "check_pattern(r\"^(M?M?M?)(D?C?C?C?|CD|CM)$\", [\"MMM\", \"MMMCM\",\n",
    "                                              \"MMMC\", \"MMMCD\",\n",
    "                                              \"MMMDC\", \"MMMDCD\"])\n"
   ]
  },
  {
   "cell_type": "code",
   "execution_count": 124,
   "metadata": {},
   "outputs": [
    {
     "name": "stdout",
     "output_type": "stream",
     "text": [
      "For the example MMM\n",
      "Result of match is True\n",
      "Number of groups is 2\n",
      "First group is is MMM\n",
      "Second group is is \n",
      "-------\n",
      "\n",
      "For the example MMMCM\n",
      "Result of match is True\n",
      "Number of groups is 2\n",
      "First group is is MMM\n",
      "Second group is is CM\n",
      "-------\n",
      "\n",
      "For the example MMMC\n",
      "Result of match is True\n",
      "Number of groups is 2\n",
      "First group is is MMM\n",
      "Second group is is C\n",
      "-------\n",
      "\n",
      "For the example MMMCD\n",
      "Result of match is True\n",
      "Number of groups is 2\n",
      "First group is is MMM\n",
      "Second group is is CD\n",
      "-------\n",
      "\n",
      "For the example MMMDC\n",
      "Result of match is True\n",
      "Number of groups is 2\n",
      "First group is is MMM\n",
      "Second group is is DC\n",
      "-------\n",
      "\n",
      "For the example MMMDCD\n",
      "Result of match is False\n",
      "-------\n",
      "\n"
     ]
    }
   ],
   "source": [
    "# has the same result as previous example but utilizes grouping {n,m}\n",
    "check_pattern(r\"^(M{0,3})(D?C{0,3}|CD|CM)$\", [\"MMM\", \"MMMCM\",\n",
    "                                              \"MMMC\", \"MMMCD\",\n",
    "                                              \"MMMDC\", \"MMMDCD\"])"
   ]
  },
  {
   "cell_type": "markdown",
   "metadata": {},
   "source": [
    "**Checking for tens and ones**\n",
    "\n",
    "The tens and ones place is similar to the hundres there are several mutually exclusive ways it could be expressed\n",
    "\n",
    "* 10 = X\n",
    "* 20 = XX\n",
    "* 30 = XXX\n",
    "* 40 = XL\n",
    "* 50 = L\n",
    "* 60 = LX\n",
    "* 70 = LXX\n",
    "* 80 = LXXX\n",
    "* 90 = XC\n",
    "    \n",
    "The ones group is\n",
    "\n",
    "* 1 = I\n",
    "* 2 = II\n",
    "* 3 = III\n",
    "* 4 = IV\n",
    "* 5 = V\n",
    "* 6 = VI\n",
    "* 7 = VII\n",
    "* 8 = VIII\n",
    "* 9 = IX"
   ]
  },
  {
   "cell_type": "code",
   "execution_count": 125,
   "metadata": {},
   "outputs": [
    {
     "name": "stdout",
     "output_type": "stream",
     "text": [
      "For the example MMM\n",
      "Result of match is True\n",
      "Number of groups is 4\n",
      "First group is is MMM\n",
      "Second group is is \n",
      "-------\n",
      "\n",
      "For the example MMMCM\n",
      "Result of match is True\n",
      "Number of groups is 4\n",
      "First group is is MMM\n",
      "Second group is is CM\n",
      "-------\n",
      "\n",
      "For the example MMMC\n",
      "Result of match is True\n",
      "Number of groups is 4\n",
      "First group is is MMM\n",
      "Second group is is C\n",
      "-------\n",
      "\n",
      "For the example MMMCD\n",
      "Result of match is True\n",
      "Number of groups is 4\n",
      "First group is is MMM\n",
      "Second group is is CD\n",
      "-------\n",
      "\n",
      "For the example MMMDC\n",
      "Result of match is True\n",
      "Number of groups is 4\n",
      "First group is is MMM\n",
      "Second group is is DC\n",
      "-------\n",
      "\n",
      "For the example MMMDCD\n",
      "Result of match is False\n",
      "-------\n",
      "\n",
      "For the example CDLX\n",
      "Result of match is True\n",
      "Number of groups is 4\n",
      "First group is is \n",
      "Second group is is CD\n",
      "-------\n",
      "\n",
      "For the example MDCCCLXXX\n",
      "Result of match is True\n",
      "Number of groups is 4\n",
      "First group is is M\n",
      "Second group is is DCCC\n",
      "-------\n",
      "\n",
      "For the example MDCMLXXX\n",
      "Result of match is False\n",
      "-------\n",
      "\n",
      "For the example MCMLXXX\n",
      "Result of match is True\n",
      "Number of groups is 4\n",
      "First group is is M\n",
      "Second group is is CM\n",
      "-------\n",
      "\n"
     ]
    }
   ],
   "source": [
    "pattern = r\"^(M{0,3})(D?C{0,3}|CD|CM)(L?X{0,3}|XL|XC)(V?I{0,3}|IV|IX)$\"\n",
    "\n",
    "check_pattern(pattern, [\"MMM\", \"MMMCM\",\n",
    "                        \"MMMC\", \"MMMCD\",\n",
    "                        \"MMMDC\", \"MMMDCD\",\n",
    "                        \"CDLX\", \"MDCCCLXXX\",\n",
    "                        \"MDCMLXXX\", \"MCMLXXX\"\n",
    "                       ])"
   ]
  },
  {
   "cell_type": "markdown",
   "metadata": {},
   "source": [
    "*Quick side bar on strings in `print` function calls*\n",
    "\n",
    "With python 3.6 and later Python support string interpolation with the `f` prefix. String interpolation allows function call in string literals which is not available in positional argument - `{0}` - syntax.\n",
    "\n",
    "As an example, the below `print` call is invalid\n",
    "\n",
    "    print(\"Length of list is {len(0}}\".format([1,2,3]))\n",
    "\n",
    "where as one could do the below when using string interpolation\n",
    "\n",
    "    print(f\"Length of list is {len([1,2,3])}\")"
   ]
  },
  {
   "cell_type": "markdown",
   "metadata": {},
   "source": [
    "##### Verbose Regular Expressions\n",
    "\n",
    "The use of compact syntaxt with RE make the code difficult to comprehend.\n",
    "\n",
    "Python allows you to write verbose regular expressions by using multiline strings. In verbose regex\n",
    "\n",
    "* Whitespace is ignored. Spaces, tabs and carriage return are not matched. If you want to match white space character, you need to escape with with a backslash in front of it.\n",
    "* Comments are ignored, similar to code comments start with # and go to the end of the line\n",
    "\n",
    "Lets rewrite the roman number regex in verbose form\n",
    "\n",
    "    pattern = r\"^(M{0,3})(D?C{0,3}|CD|CM)(L?X{0,3}|XL|XC)(V?I{0,3}|IV|IX)$\"\n",
    "    \n",
    "The use of *verbose regular expression* **requires** specification of **re.VERBOSE** flag during regex compilation. If flag is *not specified*, the pattern is treated as a *non verbose* regex\n"
   ]
  },
  {
   "cell_type": "code",
   "execution_count": 128,
   "metadata": {},
   "outputs": [
    {
     "name": "stdout",
     "output_type": "stream",
     "text": [
      "For the example MMM\n",
      "Result of match is True\n",
      "Number of groups is 4\n",
      "First group is is MMM\n",
      "Second group is is \n",
      "-------\n",
      "\n",
      "For the example MMMCM\n",
      "Result of match is True\n",
      "Number of groups is 4\n",
      "First group is is MMM\n",
      "Second group is is CM\n",
      "-------\n",
      "\n",
      "For the example MMMC\n",
      "Result of match is True\n",
      "Number of groups is 4\n",
      "First group is is MMM\n",
      "Second group is is C\n",
      "-------\n",
      "\n",
      "For the example MMMCD\n",
      "Result of match is True\n",
      "Number of groups is 4\n",
      "First group is is MMM\n",
      "Second group is is CD\n",
      "-------\n",
      "\n",
      "For the example MMMDC\n",
      "Result of match is True\n",
      "Number of groups is 4\n",
      "First group is is MMM\n",
      "Second group is is DC\n",
      "-------\n",
      "\n",
      "For the example MMMDCD\n",
      "Result of match is False\n",
      "-------\n",
      "\n",
      "For the example CDLX\n",
      "Result of match is True\n",
      "Number of groups is 4\n",
      "First group is is \n",
      "Second group is is CD\n",
      "-------\n",
      "\n",
      "For the example MDCCCLXXX\n",
      "Result of match is True\n",
      "Number of groups is 4\n",
      "First group is is M\n",
      "Second group is is DCCC\n",
      "-------\n",
      "\n",
      "For the example MDCMLXXX\n",
      "Result of match is False\n",
      "-------\n",
      "\n",
      "For the example MCMLXXX\n",
      "Result of match is True\n",
      "Number of groups is 4\n",
      "First group is is M\n",
      "Second group is is CM\n",
      "-------\n",
      "\n"
     ]
    }
   ],
   "source": [
    "pattern = r\"\"\"\n",
    "    ^            # beginning of string\n",
    "    (M{0,3})     # thousands 0-3 times Ms. capturing Ms as a group\n",
    "    (D?C{0,3}|CD|CM) # hundreds CM - 900, CD - 400,\n",
    "                     # optional D followed by 0-3 C to represent, 600, 700 and 800, \n",
    "                     # optional Cs 0-3 (without prefix D) to represent 100, 200, 300     \n",
    "    (L?X{0,3}|XL|XC) # the tens handling is similar, XC - 90, XL - 50\n",
    "                     # optional L followed by 0-3 X to represent, 60, 70 and 80\n",
    "                     # optional X 0-3 (without prefix L) to represent 10, 20 30\n",
    "    (V?I{0,3}|IV|IX) # units handling is the same as tens and hundred\n",
    "    $\n",
    "\"\"\"\n",
    "\n",
    "check_pattern(pattern, [\"MMM\", \"MMMCM\",\n",
    "                        \"MMMC\", \"MMMCD\",\n",
    "                        \"MMMDC\", \"MMMDCD\",\n",
    "                        \"CDLX\", \"MDCCCLXXX\",\n",
    "                        \"MDCMLXXX\", \"MCMLXXX\"\n",
    "                       ], re.VERBOSE)"
   ]
  },
  {
   "cell_type": "markdown",
   "metadata": {},
   "source": [
    "##### Exercise - Parsing Phone numbers\n",
    "\n",
    "Write a regular expression for parsing phone numbers with optional extensions. Some examples\n",
    "\n",
    "* 800-555-1212\n",
    "* 800 555 1212\n",
    "* 800.555.1212\n",
    "* (800) 555-1212\n",
    "* 1-800-555-1212\n",
    "* 800-555-1212-1234\n",
    "* 800-555-1212x1234\n",
    "* 800-555-1212 ext. 1234\n",
    "* work 1-(800) 555.1212 #1234\n",
    "\n",
    "Hint : `\\d` matches any numeric digit (0-9) `\\D` matches anything *but* digits\n"
   ]
  },
  {
   "cell_type": "code",
   "execution_count": 165,
   "metadata": {},
   "outputs": [],
   "source": [
    "import typing, re\n",
    "\n",
    "pattern = re.compile(r\"\"\"\n",
    "    \\D*     # ignore leading non numeric text : example _work_\n",
    "    \\d?     # optional country code 1 in the examples above\n",
    "    \\D*     # ignore text for seperator between county and area code\n",
    "    (\\d{3}) # 3 digit area code. captured as a group\n",
    "    \\D*     # ignore text for seperator between area code and ph no.\n",
    "    (\\d{3}) # 3 leading digits in phone number\n",
    "    \\D*     # ignore text for seperator between leading and trailing digits\n",
    "    (\\d{4}) # 4 trailing digits in phone number\n",
    "    \\D*     # ignore text between ph no and extension\n",
    "    (\\d*)   # allow variable length phone number\n",
    "\"\"\", re.VERBOSE)\n",
    "\n",
    "\n",
    "\n",
    "def check_phone(s: str, p: re.Pattern = pattern):\n",
    "    print(\"For the example {0}\".format(s))\n",
    "    m: re.Match = p.match(s)\n",
    "    if m:\n",
    "        groups: List[str] = m.groups()\n",
    "        last = groups[-1]\n",
    "        hasExt = True if len(last) > 0 else False\n",
    "        if hasExt:\n",
    "            print(f\"Please call ({groups[0]})-{groups[1]}-{groups[2]} at extension x{groups[3]}\")\n",
    "        else:\n",
    "            print(f\"Please call ({groups[0]})-{groups[1]}-{groups[2]}\")\n",
    "    else:\n",
    "        print(\"Dope!! unable to parse phone number, please check input\")\n",
    "        \n",
    "    print(\"-------\\n\")"
   ]
  },
  {
   "cell_type": "code",
   "execution_count": 171,
   "metadata": {},
   "outputs": [
    {
     "name": "stdout",
     "output_type": "stream",
     "text": [
      "For the example work 1-(800) 555.1212 #1234\n",
      "Please call (800)-555-1212 at extension x1234\n",
      "-------\n",
      "\n",
      "For the example work 1-(800) 555.1212\n",
      "Please call (800)-555-1212\n",
      "-------\n",
      "\n",
      "For the example 18005551212\n",
      "Please call (800)-555-1212\n",
      "-------\n",
      "\n",
      "For the example 800-555-1212-1234\n",
      "Please call (800)-555-1212 at extension x1234\n",
      "-------\n",
      "\n",
      "For the example 800-555-1212x1234\n",
      "Please call (800)-555-1212 at extension x1234\n",
      "-------\n",
      "\n",
      "For the example 800-55-1212x1234\n",
      "Dope!! unable to parse phone number, please check input\n",
      "-------\n",
      "\n"
     ]
    }
   ],
   "source": [
    "check_phone(\"work 1-(800) 555.1212 #1234\")\n",
    "check_phone(\"work 1-(800) 555.1212\")\n",
    "check_phone(\"18005551212\")\n",
    "check_phone(\"800-555-1212-1234\")\n",
    "check_phone(\"800-555-1212x1234\")\n",
    "check_phone(\"800-55-1212x1234\")\n"
   ]
  },
  {
   "cell_type": "markdown",
   "metadata": {},
   "source": [
    "##### Summary\n",
    "\n",
    "This is just a taste for regex, regex are vast and reading the documentation will always be neccesary. \n",
    "\n",
    "We played around with the following subset\n",
    "\n",
    "* ^ matches beginning of string\n",
    "* $ matches end of string\n",
    "* \\b matches a work boundary\n",
    "* \\d matches a number\n",
    "* \\D matches any non-numeric character\n",
    "* x? optional at most one occurence of x\n",
    "* x* zero or more occurences of x\n",
    "* x+ one or more occurences of x\n",
    "* x{n,m} at least n at most m occurences of x\n",
    "* (a|b|c) matches one of a or b or c.\n",
    "* (x) capture the match as a remembered group. You can get the value of what matched by using the `groups()` method of the object returned by `re.search`\n",
    "\n",
    "Regular expressions are extremely powerful, but they are not the correct solution for every problem. You should learn about them to know when they are appropriate, when they will solve your problem, and when they will cause more problems than they solve."
   ]
  }
 ],
 "metadata": {
  "kernelspec": {
   "display_name": "Python 3",
   "language": "python",
   "name": "python3"
  },
  "language_info": {
   "codemirror_mode": {
    "name": "ipython",
    "version": 3
   },
   "file_extension": ".py",
   "mimetype": "text/x-python",
   "name": "python",
   "nbconvert_exporter": "python",
   "pygments_lexer": "ipython3",
   "version": "3.8.5"
  }
 },
 "nbformat": 4,
 "nbformat_minor": 4
}
