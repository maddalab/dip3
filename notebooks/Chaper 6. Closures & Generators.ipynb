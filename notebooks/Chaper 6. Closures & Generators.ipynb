{
 "cells": [
  {
   "cell_type": "markdown",
   "metadata": {},
   "source": [
    "##### Diving In\n",
    "\n",
    "Rules for english language pluralization\n",
    "\n",
    "\n",
    "* If a word ends in S, X, or Z, add ES. Bass becomes basses, fax becomes faxes, and waltz becomes waltzes.\n",
    "* If a word ends in a noisy H, add ES; if it ends in a silent H, just add S. What’s a noisy H? One that gets combined with other letters to make a sound that you can hear. So coach becomes coaches and rash becomes rashes, because you can hear the CH and SH sounds when you say them. But cheetah becomes cheetahs, because the H is silent.\n",
    "* If a word ends in Y that sounds like I, change the Y to IES; if the Y is combined with a vowel to sound like something else, just add S. So vacancy becomes vacancies, but day becomes days.\n",
    "* If all else fails, just add S and hope for the best.\n",
    "\n",
    "Design a library that pluralizes English nouns"
   ]
  },
  {
   "cell_type": "markdown",
   "metadata": {},
   "source": [
    "##### Step 1: Use regex\n",
    "\n",
    "We can use regex's to pluralize words nouns"
   ]
  },
  {
   "cell_type": "code",
   "execution_count": 130,
   "metadata": {},
   "outputs": [
    {
     "data": {
      "text/plain": [
       "<re.Match object; span=(1, 2), match='a'>"
      ]
     },
     "execution_count": 130,
     "metadata": {},
     "output_type": "execute_result"
    }
   ],
   "source": [
    "import re\n",
    "re.search('[abc]', 'Mark')"
   ]
  },
  {
   "cell_type": "code",
   "execution_count": 131,
   "metadata": {},
   "outputs": [
    {
     "data": {
      "text/plain": [
       "'Mork'"
      ]
     },
     "execution_count": 131,
     "metadata": {},
     "output_type": "execute_result"
    }
   ],
   "source": [
    "re.sub('[abc]', 'o', 'Mark')"
   ]
  },
  {
   "cell_type": "code",
   "execution_count": 132,
   "metadata": {},
   "outputs": [
    {
     "data": {
      "text/plain": [
       "'rook'"
      ]
     },
     "execution_count": 132,
     "metadata": {},
     "output_type": "execute_result"
    }
   ],
   "source": [
    "re.sub('[abc]', 'o', 'rock')"
   ]
  },
  {
   "cell_type": "code",
   "execution_count": 133,
   "metadata": {},
   "outputs": [
    {
     "data": {
      "text/plain": [
       "'oops'"
      ]
     },
     "execution_count": 133,
     "metadata": {},
     "output_type": "execute_result"
    }
   ],
   "source": [
    "re.sub('[abc]', 'o', 'caps')"
   ]
  },
  {
   "cell_type": "markdown",
   "metadata": {},
   "source": [
    "In the above `re.sub` (substitute) examples, if the string contains any of `a` or `b` or `c` replace it with `o`.\n",
    "\n",
    "In the last example we see that all occurences are replaced. So this regex turns `caps` into `oops` because both the `c` and the `a` are replaced by an `o`"
   ]
  },
  {
   "cell_type": "code",
   "execution_count": 134,
   "metadata": {},
   "outputs": [],
   "source": [
    "import re\n",
    "\n",
    "def plural(noun):\n",
    "    if (re.search(\"[sxz]$\", noun)):\n",
    "        return re.sub(\"$\", \"es\", noun)\n",
    "    elif (re.search(\"[^aeioudgkprt]h$\", noun)):\n",
    "        return re.sub(\"$\", \"es\", noun)\n",
    "    elif (re.search(\"[^aeiou]y$\", noun)):\n",
    "        return re.sub(\"y$\", \"ies\", noun)\n",
    "    else:\n",
    "        return re.sub(\"$\", \"s\", noun)"
   ]
  },
  {
   "cell_type": "markdown",
   "metadata": {},
   "source": [
    "In the above the square brackets mean \"match _exactly_ one of these characters\". So `[sxz]` means any of `s`, `x` or `z`. \n",
    "\n",
    "A `^` inside a bracket means _any single character except_, for example `[^sxz]` means any character _except_ `s`, `x` or `z`. \n"
   ]
  },
  {
   "cell_type": "markdown",
   "metadata": {},
   "source": [
    "##### A List of Functions\n",
    "\n",
    "Let's temporarily complicate part of the problem to simplify another part of the solution."
   ]
  },
  {
   "cell_type": "code",
   "execution_count": 135,
   "metadata": {},
   "outputs": [],
   "source": [
    "import re\n",
    "\n",
    "def match_sxz(noun: str) -> bool:\n",
    "    return re.search(\"[sxz]$\", noun)\n",
    "\n",
    "def apply_sxz(noun: str) -> str:\n",
    "    return re.sub(\"$\", \"es\", noun)\n",
    "\n",
    "def match_h(noun: str) -> bool:\n",
    "    return re.search(\"[^aeioudgkprt]h$\", noun)\n",
    "\n",
    "def apply_h(noun: str) -> str:\n",
    "    return re.sub(\"[^aeioudgkprt]h$\", \"es\", noun)\n",
    "\n",
    "def match_y(noun: str) -> bool:\n",
    "    return re.search(\"[^aeiou]y$\", noun)\n",
    "\n",
    "def apply_y(noun: str) -> str:\n",
    "    return re.sub(\"[^aeiou]y$\", \"ies\", noun)\n",
    "                  \n",
    "def match_default(noun: str) -> bool:\n",
    "    return True\n",
    "\n",
    "def apply_default(noun: str) -> str:\n",
    "    return re.sub(\"$\", \"s\", noun)"
   ]
  },
  {
   "cell_type": "markdown",
   "metadata": {},
   "source": [
    "We are going to use the function definition above to \"simply\" the `plural` method"
   ]
  },
  {
   "cell_type": "code",
   "execution_count": 136,
   "metadata": {},
   "outputs": [],
   "source": [
    "from typing import List, Tuple\n",
    "\n",
    "\n",
    "def plural2(noun: str) -> str:\n",
    "    rules : List[Tuple[function, function]] = [(match_sxz, apply_sxz),\n",
    "                                              (match_h, apply_h),\n",
    "                                              (match_y, apply_y),\n",
    "                                              (match_default, apply_default)]\n",
    "        \n",
    "    for match, apply in  rules:\n",
    "        if match(noun):\n",
    "            return apply(noun)"
   ]
  },
  {
   "cell_type": "code",
   "execution_count": 137,
   "metadata": {},
   "outputs": [
    {
     "name": "stdout",
     "output_type": "stream",
     "text": [
      "vacanies\n",
      "boys\n",
      "apples\n"
     ]
    }
   ],
   "source": [
    "print(plural2(\"vacancy\"))\n",
    "print(plural2(\"boy\"))\n",
    "print(plural2(\"apple\"))"
   ]
  },
  {
   "cell_type": "markdown",
   "metadata": {},
   "source": [
    "The reason this technique works is that functions are **first-class** is Python. This means functions can be passed around as data.\n",
    "\n",
    "Python achieves this my treating **everyting as an object**\n",
    "\n",
    "The above `plural` function can be simplified further in multiple way, we'll first look at a way utilizing only a single `match` and `apply` function."
   ]
  },
  {
   "cell_type": "code",
   "execution_count": 138,
   "metadata": {},
   "outputs": [],
   "source": [
    "import re\n",
    "from typing import List, Tuple\n",
    "\n",
    "def match(rule: str, noun: str) -> bool:\n",
    "    return re.search(rule, noun)\n",
    "\n",
    "def apply(rule: str, sub:str, noun: str) -> str:\n",
    "    return re.sub(rule, sub, noun)\n",
    "\n",
    "\n",
    "def plural3(noun: str) -> str:\n",
    "    rules : List[Tuple[str, str, str]] = [(\"[sxz]$\", \"$\", \"es\"),\n",
    "                                        (\"[^aeioudgkprt]h$\", \"$\", \"es\"),\n",
    "                                        (\"[^aeiou]y$\", \"y$\", \"ies\"),\n",
    "                                        (\".*\", \"$\", \"s\")]\n",
    "    \n",
    "    for rule, sub_rule, sub_str in rules:\n",
    "        if match(rule, noun):\n",
    "            return apply(sub_rule, sub_str, noun)"
   ]
  },
  {
   "cell_type": "code",
   "execution_count": 139,
   "metadata": {},
   "outputs": [
    {
     "name": "stdout",
     "output_type": "stream",
     "text": [
      "vacancies\n",
      "boys\n",
      "apples\n"
     ]
    }
   ],
   "source": [
    "print(plural3(\"vacancy\"))\n",
    "print(plural3(\"boy\"))\n",
    "print(plural3(\"apple\"))"
   ]
  },
  {
   "cell_type": "markdown",
   "metadata": {},
   "source": [
    "This is an improvement, reducing the number of functions required to twice the number of rules required to *exactly 2*, in fact this is the best solution imo.\n",
    "\n",
    "However we are here to demonstrate closures and generation. Let's rewrite `rules` to have the same signature as in `plural2` but yet maintain the improvements from `plural3`"
   ]
  },
  {
   "cell_type": "code",
   "execution_count": 140,
   "metadata": {},
   "outputs": [],
   "source": [
    "import re\n",
    "\n",
    "from typing import List, Tuple, Callable, Optional\n",
    "\n",
    "Rules = Tuple[Callable[[str], Optional[re.Match]], Callable[[str], str]]\n",
    "\n",
    "def make_rule(mat_pat: str, sub_pat: str, sub_str: str) -> Rules:\n",
    "    \n",
    "    def match(noun: str) -> Optional[re.Match]:\n",
    "        return re.search(mat_pat, noun)\n",
    "    \n",
    "    def apply(noun: str) -> str:\n",
    "        return re.sub(sub_pat, sub_str, noun)\n",
    "    \n",
    "    return match, apply\n",
    "\n",
    "\n",
    "\n",
    "def plural4(noun: str) -> str:\n",
    "    rules : List[Rules] = [make_rule(\"[sxz]$\", \"$\", \"es\"),\n",
    "         make_rule(\"[^aeioudgkprt]h$\", \"$\", \"es\"),\n",
    "         make_rule(\"[^aeiou]y$\", \"y$\", \"ies\"),\n",
    "         make_rule(\".*\", \"$\", \"s\")]\n",
    "    \n",
    "    for match, apply in rules:\n",
    "        if match(noun):\n",
    "            return apply(noun)"
   ]
  },
  {
   "cell_type": "code",
   "execution_count": 141,
   "metadata": {},
   "outputs": [
    {
     "name": "stdout",
     "output_type": "stream",
     "text": [
      "vacancies\n",
      "boys\n",
      "apples\n"
     ]
    }
   ],
   "source": [
    "print(plural4(\"vacancy\"))\n",
    "print(plural4(\"boy\"))\n",
    "print(plural4(\"apple\"))"
   ]
  },
  {
   "cell_type": "markdown",
   "metadata": {},
   "source": [
    "The `make_rule` function builds two functions `match` and `apply`. The `match` and `apply` function use the values outside of parameters, the values are defined in the scope of `make_rule`.\n",
    "\n",
    "The scope is `closed` over the scope of `make_rule` and is called a `closure`. `match` and `apply` operate in the `closed` scope of `make_rule`."
   ]
  },
  {
   "cell_type": "markdown",
   "metadata": {},
   "source": [
    "##### A File Of Patterns\n",
    "\n",
    "Our next step is to *externalize* the rules needed to pluralize. This will allow us to add additional rules without modifying code."
   ]
  },
  {
   "cell_type": "code",
   "execution_count": 142,
   "metadata": {},
   "outputs": [
    {
     "name": "stdout",
     "output_type": "stream",
     "text": [
      "[sxz]$\t\t\t$\t\tes\n",
      "\n",
      "[^aeioudgkprt]h$\t$\t\tes\n",
      "\n",
      "[^aeiou]y$\t\ty$\t\ties\n",
      "\n",
      "$\t\t\t$\t\ts\n",
      "\n"
     ]
    }
   ],
   "source": [
    "with open('examples/plural4-rules.txt') as pat_file:\n",
    "    for line in pat_file:\n",
    "        print(line)"
   ]
  },
  {
   "cell_type": "code",
   "execution_count": 143,
   "metadata": {},
   "outputs": [],
   "source": [
    "import re\n",
    "\n",
    "Rules = Tuple[Callable[[str], Optional[re.Match]], Callable[[str], str]]\n",
    "\n",
    "def make_rule(mat_pat: str, sub_pat: str, sub_str: str) -> Rules:\n",
    "    \n",
    "    def match(noun: str) -> Optional[re.Match]:\n",
    "        return re.search(mat_pat, noun)\n",
    "    \n",
    "    def apply(noun: str) -> str:\n",
    "        return re.sub(sub_pat, sub_str, noun)\n",
    "    \n",
    "    return match, apply\n",
    "\n",
    "def plural5(noun: str) -> str:\n",
    "    \n",
    "    rules : List[Rules] = []\n",
    "        \n",
    "    with open('examples/plural4-rules.txt') as pf:\n",
    "        for line in pf:\n",
    "            parts = line.split(None, 3)\n",
    "            rules.append(make_rule(parts[0], parts[1], parts[2]))\n",
    "    \n",
    "    for match, apply in rules:\n",
    "        if match(noun):\n",
    "            return apply(noun)"
   ]
  },
  {
   "cell_type": "code",
   "execution_count": 144,
   "metadata": {},
   "outputs": [
    {
     "name": "stdout",
     "output_type": "stream",
     "text": [
      "vacancies\n",
      "boys\n",
      "apples\n"
     ]
    }
   ],
   "source": [
    "print(plural5(\"vacancy\"))\n",
    "print(plural5(\"boy\"))\n",
    "print(plural5(\"apple\"))"
   ]
  },
  {
   "cell_type": "markdown",
   "metadata": {},
   "source": [
    "We have now externalized externalized the rule. \n",
    "\n",
    "Note: In `line.split(None, 3)` the argument `None` is passed in to split on any whitespace (spaces, tabs etc. it makes no difference). The argumetn `3` is passed in to split into 3 string/parts.\n",
    "\n",
    "The major drawback of this method is the need to read the entire file into memory before processing.\n",
    "\n",
    "Code is code, data is data and life is good."
   ]
  },
  {
   "cell_type": "markdown",
   "metadata": {},
   "source": [
    "##### Generators\n",
    "\n",
    "Wouldn't it be grand if we didn't need to parse the entire file, to have a generic `plural()` function that parse the rules file, gets a single rule, checks for a match and applies the transformation before proceeding to the next rule when there isn't a match."
   ]
  },
  {
   "cell_type": "code",
   "execution_count": 145,
   "metadata": {},
   "outputs": [],
   "source": [
    "import re\n",
    "\n",
    "Rules = Tuple[Callable[[str], Optional[re.Match]], Callable[[str], str]]\n",
    "\n",
    "def rules(rulefile) -> Rules:\n",
    "    \n",
    "    with open(rulefile) as pf:\n",
    "        for line in pf:\n",
    "            parts = line.split(None, 3)\n",
    "            yield make_rule(parts[0], parts[1], parts[2])\n",
    "    \n",
    "def make_rule(mat_pat: str, sub_pat: str, sub_str: str) -> Rules:\n",
    "\n",
    "    def match(noun: str) -> Optional[re.Match]:\n",
    "        return re.search(mat_pat, noun)\n",
    "\n",
    "    def apply(noun: str) -> str:\n",
    "        return re.sub(sub_pat, sub_str, noun)\n",
    "\n",
    "    return match, apply\n",
    "\n",
    "def plural6(noun: str) -> str:\n",
    "    for match, apply in rules(\"examples/plural4-rules.txt\"):\n",
    "        if match(noun):\n",
    "            return apply(noun)"
   ]
  },
  {
   "cell_type": "code",
   "execution_count": 146,
   "metadata": {},
   "outputs": [
    {
     "name": "stdout",
     "output_type": "stream",
     "text": [
      "vacancies\n",
      "boys\n",
      "apples\n"
     ]
    }
   ],
   "source": [
    "print(plural6(\"vacancy\"))\n",
    "print(plural6(\"boy\"))\n",
    "print(plural6(\"apple\"))"
   ]
  },
  {
   "cell_type": "markdown",
   "metadata": {},
   "source": [
    "The presence of the `yield` keywork means the `rules` function is not a normal function. It is a special function that **generates** values one at a time. \n",
    "\n",
    "You can think of it as a resumable function. Calling it will return a *generator* that can be used to generate successive values."
   ]
  },
  {
   "cell_type": "code",
   "execution_count": 147,
   "metadata": {},
   "outputs": [],
   "source": [
    "def fib(max):\n",
    "    a, b = 0, 1\n",
    "    while a < max:\n",
    "        yield a\n",
    "        a, b = b, a + b"
   ]
  },
  {
   "cell_type": "code",
   "execution_count": 148,
   "metadata": {},
   "outputs": [
    {
     "name": "stdout",
     "output_type": "stream",
     "text": [
      "<class 'generator'>\n",
      "<class 'function'>\n"
     ]
    }
   ],
   "source": [
    "print(type(fib(10)))\n",
    "print(type(fib))"
   ]
  },
  {
   "cell_type": "markdown",
   "metadata": {},
   "source": [
    "You can use a **generator** like the result of invoking `fib` in a for loop directly. The `for` loop will automatically call the `next()` function to get values from the `fib()` generator and assign them to the for loop variable."
   ]
  },
  {
   "cell_type": "code",
   "execution_count": 149,
   "metadata": {},
   "outputs": [
    {
     "name": "stdout",
     "output_type": "stream",
     "text": [
      "0 1 1 2 3 5 8 13 21 34 55 89 144 233 377 610 987 "
     ]
    }
   ],
   "source": [
    "for n in fib(1000):\n",
    "    print(n, end=' ')"
   ]
  },
  {
   "cell_type": "markdown",
   "metadata": {},
   "source": [
    "Passing a generator to the `list()` function will iterate through the entire generator (just like the `for` loop in the previous example) and return a list of all the values."
   ]
  },
  {
   "cell_type": "code",
   "execution_count": 150,
   "metadata": {},
   "outputs": [
    {
     "data": {
      "text/plain": [
       "[0, 1, 1, 2, 3, 5, 8, 13, 21, 34, 55, 89, 144, 233, 377, 610, 987]"
      ]
     },
     "execution_count": 150,
     "metadata": {},
     "output_type": "execute_result"
    }
   ],
   "source": [
    "list(fib(1000))"
   ]
  }
 ],
 "metadata": {
  "kernelspec": {
   "display_name": "Python 3",
   "language": "python",
   "name": "python3"
  },
  "language_info": {
   "codemirror_mode": {
    "name": "ipython",
    "version": 3
   },
   "file_extension": ".py",
   "mimetype": "text/x-python",
   "name": "python",
   "nbconvert_exporter": "python",
   "pygments_lexer": "ipython3",
   "version": "3.8.5"
  }
 },
 "nbformat": 4,
 "nbformat_minor": 4
}
