{
 "cells": [
  {
   "cell_type": "markdown",
   "metadata": {},
   "source": [
    "### Bit, Bytes to Text\n",
    "\n",
    "Computers store data in bits, using the two bits `0` and `1`. A sequence of 8 bits is a byte.\n",
    "\n",
    "There is no direct representation of text in computer hardware. This necessitate a translation from bits and bytes to characters / text.\n",
    "\n",
    "The translation is provided by a mapping from bytes to text, and is called a code page. When storing text in memory or on disk, text is converted into bytes using the mapping provided by the code page. A similar translation is employed when coverting bytes to text.\n",
    "\n",
    "Languages have different alphabets, the people of Bougainville have the smallest alphabet in the world; their rotokas alphabet is composed of 12 letters; A, E, G, I, K, O, P, R, S, T, U and V.\n",
    "\n",
    "As an exercise we can come up with a codepage for the Rotokas alphabet using 4 bits to represent each character.\n",
    "\n",
    "The english language typically uses the ASCII codepage for encoding and decoding character. ASCII uses 7 bits to represent character. This allows for 127 ($2^7-1$) character to be encoded and decoded. English is a simple language and the entire alphabet can be represented in numbers in the range from 0 to 127 (*65* is capital `A`, *97* is lowercase `a`).\n",
    "\n",
    "Western european language like German have more than 127 character, and extend the range to 255 ($2^8-1$) utilizing 8 bits. The most common encoding for these language is cp-1252 also called \"windows-1252\"\n",
    "\n",
    "Then there are multibyte character sets like Chinese, Korean and Japanese, due to the large alphabet in these languages. But different multi-byte encoding have the same problem as different single byte encoding, the same number means different things that can only be deciphered using the code page.\n",
    "\n",
    "When interoperability is not necessary, application program and operating system can implement a custom code page (encoding and decoding) for text. When using a proprietary binary format, and application can optimize the encoding and decoding of text as no other program is expected to be able to decipher the document.\n",
    "\n",
    "However with the internetworked world, documents and text are shared between users in different geographical locations. In addition to having to utilize the correct code page, computers must agree on a byte-order (big-ending or little-endian) before encoding or decoding characters into binary.\n",
    "\n",
    "#### Unicode\n",
    "\n",
    "Unicode is a system designed to represent every character from every language. Unicode represent each letter, character or ideograph as a 4-byte number. Each number represents a unique character used in at least one of the world's languages. Not all numbers are used, but more than 64k of them are, so 2 bytes won't suffice.\n",
    "\n",
    "Character that are used in multiple languages generally have the same number, unless there is good etymological reason not to.\n",
    "\n",
    "The drawback for the using unicode encoding, is the wasteful utilization of disk or memory when representing every character as 4 bytes irrespective of whether it is needed or not.\n",
    "\n",
    "There is a unicode encoding utf-32, because 32 bits equals 4 bytes. utf-32 is a straight forward encoding, it takes each unicode character and represents the character with a number. The most important advantage of fixed-width (4 byte) encoding is that you can fine the `Nth` character of a string in constant time\n",
    "\n",
    "utf-16 is a 2 byte encoding of unicode character because most people don't need/use more than 64k characters. It supports additional mechanisms/hacks for characters outside the 64k range.\n",
    "\n",
    "Because utf-32 and utf-16 are multibyte encodings, programs and operating systems have to deal with endianness.\n",
    "\n",
    "In utf-16, due to variable byte encoding it is not possible to find the `Nth` character in a string in constant time.\n",
    "\n",
    "**UTF-8** is the solution that people came up with that trades off memory requirements, it is a variable length encoding systems for unicode. utf-8 uses just one byte per character for ascii, _extended latin_ character like ö utilize two bytes. Chinese characters take up to three bytes. The rarely used characters take four bytes.\n",
    "\n",
    "Disadvantages: because each character can take a different number of bytes, finding the Nth character is an O(N) operation — that is, the longer the string, the longer it takes to find a specific character. Also, there is bit-twiddling involved to encode characters into bytes and decode bytes into characters.\n",
    "\n",
    "Advantages: Lower memory footprint. Due to the exact nature of bit twiddling there is no byte-ordering issues. A document encoded in utf-8 uses the same exact stream of bytes on any computer."
   ]
  },
  {
   "cell_type": "markdown",
   "metadata": {},
   "source": [
    "#### Diving in\n",
    "\n",
    "In Python, all string are sequences of Unicode character.  Bytes are not character; bytes are bytes. Characters as an abstraction."
   ]
  },
  {
   "cell_type": "code",
   "execution_count": 5,
   "metadata": {},
   "outputs": [
    {
     "data": {
      "text/plain": [
       "9"
      ]
     },
     "execution_count": 5,
     "metadata": {},
     "output_type": "execute_result"
    }
   ],
   "source": [
    "s = '深入 Python'\n",
    "len(s)"
   ]
  },
  {
   "cell_type": "code",
   "execution_count": 6,
   "metadata": {},
   "outputs": [
    {
     "data": {
      "text/plain": [
       "'深'"
      ]
     },
     "execution_count": 6,
     "metadata": {},
     "output_type": "execute_result"
    }
   ],
   "source": [
    "s[0]"
   ]
  },
  {
   "cell_type": "markdown",
   "metadata": {},
   "source": [
    "To reduce memory consumption and improve performance, Python uses three kinds of internal **fixed length encoding** representation for Unicode string\n",
    "\n",
    "* 1 byte per char (latin-1 encoding)\n",
    "* 2 bytes per char (ucs-2 encoding)\n",
    "* 3 bytes per char (ucs-4 enconding)"
   ]
  },
  {
   "cell_type": "code",
   "execution_count": 28,
   "metadata": {},
   "outputs": [
    {
     "name": "stdout",
     "output_type": "stream",
     "text": [
      "1\n",
      "2\n",
      "4\n"
     ]
    }
   ],
   "source": [
    "import sys\n",
    "# 1 byte encoding (since the string only contain latin characters)\n",
    "s = 'a'\n",
    "print(sys.getsizeof(s)-sys.getsizeof(''))\n",
    "# 2 byte encoding (contains 2 byte character)\n",
    "s = s + '深'\n",
    "print(sys.getsizeof(s)-sys.getsizeof('深'))\n",
    "# 3 byte encoding (contains astral plane character)\n",
    "s = s + '🐍'\n",
    "print(sys.getsizeof(s)-sys.getsizeof('深🐍'))"
   ]
  },
  {
   "cell_type": "markdown",
   "metadata": {},
   "source": [
    "**Why Python doesn't use UTF-8 encoding internally**\n",
    "\n",
    "The most well-known and popular Unicode encoding is UTF-8, but Python doesn't use it internally.\n",
    "\n",
    "When a string is stored in the UTF-8 encoding, each character is encoded using 1-4 bytes depending on the character it is representing. It's a storage efficient encoding, but it has one significant disadvantage. Since each character can vary in length of bytes, there is no way to randomly access an individual character by index without scanning the string. So, to perform a simple operation such as `string[5]` with UTF-8 Python would need to scan a string until it finds a required character. Fixed length encodings don't have such problem, to locate a character by index Python just multiplies an index number by the length of one character (1, 2 or 4 bytes)."
   ]
  },
  {
   "cell_type": "markdown",
   "metadata": {},
   "source": [
    "##### Formatting Strings\n",
    "\n",
    "Python supports formatting values into strings. Although this can include very complicated expressions, the most basic usage is to insert a value into a string with a single placeholder."
   ]
  },
  {
   "cell_type": "code",
   "execution_count": 29,
   "metadata": {},
   "outputs": [
    {
     "data": {
      "text/plain": [
       "\"bhaskar's password is testing\""
      ]
     },
     "execution_count": 29,
     "metadata": {},
     "output_type": "execute_result"
    }
   ],
   "source": [
    "user = 'bhaskar'\n",
    "password = 'testing'\n",
    "\"{0}'s password is {1}\".format(user, password)"
   ]
  },
  {
   "cell_type": "markdown",
   "metadata": {},
   "source": [
    "In the above, `format` is a method call on a string literal. *Strings* are objects, and objects have methods. The method evaluates to a string. `{0}` and `{1}` are placeholders which are replaces by the arguments passed to the format method.\n",
    "\n",
    "Replacement field are more powerful than simply using positional arguments."
   ]
  },
  {
   "cell_type": "code",
   "execution_count": 34,
   "metadata": {},
   "outputs": [
    {
     "data": {
      "text/plain": [
       "'1000KB = 1MB'"
      ]
     },
     "execution_count": 34,
     "metadata": {},
     "output_type": "execute_result"
    }
   ],
   "source": [
    "suffixes = {1000: ['KB', 'MB', 'GB', 'TB', 'PB', 'EB', 'ZB', 'YB'],\n",
    "            1024: ['KiB', 'MiB', 'GiB', 'TiB', 'PiB', 'EiB', 'ZiB', 'YiB']}\n",
    "\n",
    "'1000{0[1000][0]} = 1{0[1000][1]}'.format(suffixes)"
   ]
  },
  {
   "cell_type": "markdown",
   "metadata": {},
   "source": [
    "This looks complicated but it is not `{0}` refers to the first argument passed to the `format` methods, `suffixes`. `suffixes` is a dictionary with keys `1000` and `1024`, `{0[1000]}` returns the value associated with the key `1000` is `suffixes`, the type of which is `List[str]`. The final `[0]` or `[1]` indexes into the `list`.\n",
    "\n",
    "What this examples shows is that format specifiers *can access items and properties of data structures using (almost) Python syntax*. This is called *compound field names*. The following compound field names \"just work\"\n",
    "\n",
    "* Passing a list and accessing an item of the list by index\n",
    "* Passing a dictionary and accessing a value of the dictionary by key\n",
    "* Passing a module and accessing its valirable and functions by name\n",
    "* Passing a class instance and accessing its properties and methods by name\n",
    "* Any combination of the above"
   ]
  },
  {
   "cell_type": "code",
   "execution_count": 44,
   "metadata": {},
   "outputs": [
    {
     "data": {
      "text/plain": [
       "'Name of program is /Users/bhaskar/Library/Caches/pypoetry/virtualenvs/dive_into_python3-NDjgBark-py3.8/lib/python3.8/site-packages/ipykernel_launcher.py'"
      ]
     },
     "execution_count": 44,
     "metadata": {},
     "output_type": "execute_result"
    }
   ],
   "source": [
    "import sys\n",
    "# passing in the module sys to the format method\n",
    "\"Name of program is {0.argv[0]}\".format(sys)"
   ]
  },
  {
   "cell_type": "markdown",
   "metadata": {},
   "source": [
    "##### Format specifiers\n",
    "\n",
    "Format specifier allow you to print the text is a variety of useful ways, similar to `printf` is C. You can add zero or space padding, align string, control decimal precision and even convert numbers to hexadecimal.\n",
    "\n",
    "Within a replacement field (`{}`), `:` marks the start of a format specifier. `.1f` means *round to the nearest tenth*.\n",
    "\n",
    "Thus, given a size of `698.26` and suffix of `GB` the formatted string would be `698.3 GB`."
   ]
  },
  {
   "cell_type": "code",
   "execution_count": 46,
   "metadata": {},
   "outputs": [
    {
     "data": {
      "text/plain": [
       "'698.3 GB'"
      ]
     },
     "execution_count": 46,
     "metadata": {},
     "output_type": "execute_result"
    }
   ],
   "source": [
    "\"{0:.1f} {1}\".format(698.26, 'GB')"
   ]
  },
  {
   "cell_type": "markdown",
   "metadata": {},
   "source": [
    "##### Other common string methods.\n",
    "\n",
    "Besides formatting strings can do a number of useful tricks. Let's say you have a list of key-value pairs in the form `key1=value1&key2=value2` and you wan to split them up to make a dictionary of the form `{key1: value1, key2: value2}`"
   ]
  },
  {
   "cell_type": "code",
   "execution_count": 50,
   "metadata": {},
   "outputs": [
    {
     "data": {
      "text/plain": [
       "{'user': 'bhaskar', 'database': 'blog', 'password': 'testing'}"
      ]
     },
     "execution_count": 50,
     "metadata": {},
     "output_type": "execute_result"
    }
   ],
   "source": [
    "query='user=bhaskar&database=blog&password=testing'\n",
    "\n",
    "a_list = query.split('&')\n",
    "# the second argument to split specifies the number of time to split\n",
    "a_list_of_lists = [v.split('=', 1) for v in a_list if '=' in v]\n",
    "a_dict = dict(a_list_of_lists)\n",
    "a_dict"
   ]
  },
  {
   "cell_type": "markdown",
   "metadata": {},
   "source": [
    "#### Slicing a string\n",
    "\n",
    "Once you have define a string, you can get any part of it as a new string. This is called *slicing*. Slicing works exactly the same a *lists*, which makes sense, strings are a sequence of characters"
   ]
  },
  {
   "cell_type": "code",
   "execution_count": 51,
   "metadata": {},
   "outputs": [
    {
     "data": {
      "text/plain": [
       "'alphabet'"
      ]
     },
     "execution_count": 51,
     "metadata": {},
     "output_type": "execute_result"
    }
   ],
   "source": [
    "a_string = 'My alphabet starts where you alphabet ends'\n",
    "a_string[3:11]"
   ]
  },
  {
   "cell_type": "code",
   "execution_count": 53,
   "metadata": {},
   "outputs": [
    {
     "data": {
      "text/plain": [
       "'alphabet starts where you alphabet'"
      ]
     },
     "execution_count": 53,
     "metadata": {},
     "output_type": "execute_result"
    }
   ],
   "source": [
    "a_string[3:-5]"
   ]
  },
  {
   "cell_type": "code",
   "execution_count": 54,
   "metadata": {},
   "outputs": [
    {
     "data": {
      "text/plain": [
       "'My'"
      ]
     },
     "execution_count": 54,
     "metadata": {},
     "output_type": "execute_result"
    }
   ],
   "source": [
    "a_string[:2]"
   ]
  },
  {
   "cell_type": "code",
   "execution_count": 55,
   "metadata": {},
   "outputs": [
    {
     "data": {
      "text/plain": [
       "'My alphabet starts'"
      ]
     },
     "execution_count": 55,
     "metadata": {},
     "output_type": "execute_result"
    }
   ],
   "source": [
    "a_string[:18]"
   ]
  },
  {
   "cell_type": "markdown",
   "metadata": {},
   "source": [
    "##### Strings vs. Bytes\n",
    "\n",
    "Bytes are bytes, characters are an abstraction. A immutable sequence of unicode character is a string. A immutable sequence of number between 0 and 255 is called a *bytes* object.\n",
    "\n",
    "To define a bytes object use the `b''` literal syntax."
   ]
  },
  {
   "cell_type": "code",
   "execution_count": 58,
   "metadata": {},
   "outputs": [
    {
     "data": {
      "text/plain": [
       "b'abcde'"
      ]
     },
     "execution_count": 58,
     "metadata": {},
     "output_type": "execute_result"
    }
   ],
   "source": [
    "by = b'abcd\\x65'\n",
    "by"
   ]
  },
  {
   "cell_type": "code",
   "execution_count": 59,
   "metadata": {},
   "outputs": [
    {
     "data": {
      "text/plain": [
       "bytes"
      ]
     },
     "execution_count": 59,
     "metadata": {},
     "output_type": "execute_result"
    }
   ],
   "source": [
    "type(by)"
   ]
  },
  {
   "cell_type": "code",
   "execution_count": 60,
   "metadata": {},
   "outputs": [
    {
     "data": {
      "text/plain": [
       "5"
      ]
     },
     "execution_count": 60,
     "metadata": {},
     "output_type": "execute_result"
    }
   ],
   "source": [
    "len(by)"
   ]
  },
  {
   "cell_type": "code",
   "execution_count": 62,
   "metadata": {},
   "outputs": [
    {
     "data": {
      "text/plain": [
       "97"
      ]
     },
     "execution_count": 62,
     "metadata": {},
     "output_type": "execute_result"
    }
   ],
   "source": [
    "by[0]"
   ]
  },
  {
   "cell_type": "code",
   "execution_count": 64,
   "metadata": {},
   "outputs": [
    {
     "data": {
      "text/plain": [
       "bytearray(b'abcde')"
      ]
     },
     "execution_count": 64,
     "metadata": {},
     "output_type": "execute_result"
    }
   ],
   "source": [
    "barr = bytearray(by)\n",
    "barr"
   ]
  },
  {
   "cell_type": "code",
   "execution_count": 67,
   "metadata": {},
   "outputs": [
    {
     "data": {
      "text/plain": [
       "bytearray(b'fbcde')"
      ]
     },
     "execution_count": 67,
     "metadata": {},
     "output_type": "execute_result"
    }
   ],
   "source": [
    "barr[0] = 0x66\n",
    "barr"
   ]
  },
  {
   "cell_type": "markdown",
   "metadata": {},
   "source": [
    "Converting between bytes and string can be done using the `encode` and `decode` methods. These method take an optional character encoding"
   ]
  },
  {
   "cell_type": "code",
   "execution_count": 74,
   "metadata": {},
   "outputs": [
    {
     "name": "stdout",
     "output_type": "stream",
     "text": [
      "<class 'str'>\n"
     ]
    },
    {
     "data": {
      "text/plain": [
       "'abcde'"
      ]
     },
     "execution_count": 74,
     "metadata": {},
     "output_type": "execute_result"
    }
   ],
   "source": [
    "print(type(by.decode('ascii')))\n",
    "by.decode('ascii')"
   ]
  },
  {
   "cell_type": "code",
   "execution_count": 75,
   "metadata": {},
   "outputs": [
    {
     "data": {
      "text/plain": [
       "1"
      ]
     },
     "execution_count": 75,
     "metadata": {},
     "output_type": "execute_result"
    }
   ],
   "source": [
    "\"abcde\".count(b'd'.decode('ascii'))"
   ]
  },
  {
   "cell_type": "code",
   "execution_count": 89,
   "metadata": {},
   "outputs": [
    {
     "data": {
      "text/plain": [
       "9"
      ]
     },
     "execution_count": 89,
     "metadata": {},
     "output_type": "execute_result"
    }
   ],
   "source": [
    "a_string = '深入 Python'\n",
    "len(a_string)"
   ]
  },
  {
   "cell_type": "code",
   "execution_count": 90,
   "metadata": {},
   "outputs": [
    {
     "data": {
      "text/plain": [
       "40"
      ]
     },
     "execution_count": 90,
     "metadata": {},
     "output_type": "execute_result"
    }
   ],
   "source": [
    "by = a_string.encode('utf-32')\n",
    "len(by)"
   ]
  },
  {
   "cell_type": "code",
   "execution_count": 91,
   "metadata": {},
   "outputs": [
    {
     "data": {
      "text/plain": [
       "'\\x00深\\x00入\\x00 \\x00P\\x00y\\x00t\\x00h\\x00o\\x00n\\x00'"
      ]
     },
     "execution_count": 91,
     "metadata": {},
     "output_type": "execute_result"
    }
   ],
   "source": [
    "# lets screw this up by decoding with a different character set than the encoding.\n",
    "# the result should be gibberish\n",
    "by.decode('utf-16')"
   ]
  },
  {
   "cell_type": "code",
   "execution_count": 92,
   "metadata": {},
   "outputs": [
    {
     "data": {
      "text/plain": [
       "'深入 Python'"
      ]
     },
     "execution_count": 92,
     "metadata": {},
     "output_type": "execute_result"
    }
   ],
   "source": [
    "by.decode('utf-32')"
   ]
  },
  {
   "cell_type": "code",
   "execution_count": 95,
   "metadata": {},
   "outputs": [
    {
     "name": "stdout",
     "output_type": "stream",
     "text": [
      "11\n"
     ]
    },
    {
     "data": {
      "text/plain": [
       "b'\\xc9\\xee\\xc8\\xeb Python'"
      ]
     },
     "execution_count": 95,
     "metadata": {},
     "output_type": "execute_result"
    }
   ],
   "source": [
    "by2 = a_string.encode('gb18030')\n",
    "print(len(by2))\n",
    "by2"
   ]
  },
  {
   "cell_type": "code",
   "execution_count": 94,
   "metadata": {},
   "outputs": [
    {
     "data": {
      "text/plain": [
       "'深入 Python'"
      ]
     },
     "execution_count": 94,
     "metadata": {},
     "output_type": "execute_result"
    }
   ],
   "source": [
    "by2.decode('gb18030')"
   ]
  },
  {
   "cell_type": "code",
   "execution_count": 100,
   "metadata": {},
   "outputs": [
    {
     "data": {
      "text/plain": [
       "True"
      ]
     },
     "execution_count": 100,
     "metadata": {},
     "output_type": "execute_result"
    }
   ],
   "source": [
    "a_string == by2.decode('gb18030')"
   ]
  }
 ],
 "metadata": {
  "kernelspec": {
   "display_name": "Python 3",
   "language": "python",
   "name": "python3"
  },
  "language_info": {
   "codemirror_mode": {
    "name": "ipython",
    "version": 3
   },
   "file_extension": ".py",
   "mimetype": "text/x-python",
   "name": "python",
   "nbconvert_exporter": "python",
   "pygments_lexer": "ipython3",
   "version": "3.8.5"
  }
 },
 "nbformat": 4,
 "nbformat_minor": 4
}
